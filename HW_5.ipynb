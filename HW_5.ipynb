{
  "nbformat": 4,
  "nbformat_minor": 0,
  "metadata": {
    "colab": {
      "provenance": []
    },
    "kernelspec": {
      "name": "python3",
      "display_name": "Python 3"
    },
    "language_info": {
      "name": "python"
    }
  },
  "cells": [
    {
      "cell_type": "markdown",
      "source": [
        "#Задание 1. Написать теггер на данных с русским языком\n",
        "#####- проверить UnigramTagger, BigramTagger, TrigramTagger и их комбинации\n",
        "#####- написать свой теггер как на занятии, попробовать разные векторайзеры, добавить знание не только букв но и слов\n",
        "#####- сравнить все реализованные методы, сделать выводы\n"
      ],
      "metadata": {
        "id": "mgGCXPM604p5"
      }
    },
    {
      "cell_type": "code",
      "source": [
        "import pyconll\n",
        "import pandas as pd\n",
        "import numpy as np\n",
        "import pandas as pd\n",
        "import matplotlib.pyplot as plt\n",
        "import nltk\n",
        "import tqdm\n",
        "from tqdm import tqdm\n",
        "import zipfile\n",
        "import corus\n",
        "from corus import load_ne5\n",
        "import spacy\n",
        "from spacy import displacy\n",
        "import en_core_web_md\n",
        "import requests\n",
        "from bs4 import BeautifulSoup\n",
        "import re\n",
        "\n",
        "\n",
        "from nltk.tag import DefaultTagger\n",
        "from sklearn.preprocessing import StandardScaler\n",
        "from nltk.tag import UnigramTagger\n",
        "from nltk.tag import BigramTagger, TrigramTagger\n",
        "from nltk.tag import RegexpTagger\n",
        "from nltk.corpus import names\n",
        "from sklearn.feature_extraction.text import CountVectorizer, HashingVectorizer, TfidfVectorizer\n",
        "from sklearn.linear_model import LogisticRegression\n",
        "from sklearn.metrics import accuracy_score\n",
        "from sklearn.preprocessing import LabelEncoder\n",
        "\n",
        "nltk.download('names')"
      ],
      "metadata": {
        "colab": {
          "base_uri": "https://localhost:8080/"
        },
        "id": "L1B6A7cfqi8Y",
        "outputId": "12d5a40b-447a-43d9-a65b-ec2f1bea2d78"
      },
      "execution_count": 83,
      "outputs": [
        {
          "output_type": "stream",
          "name": "stderr",
          "text": [
            "[nltk_data] Downloading package names to /root/nltk_data...\n",
            "[nltk_data]   Package names is already up-to-date!\n"
          ]
        },
        {
          "output_type": "execute_result",
          "data": {
            "text/plain": [
              "True"
            ]
          },
          "metadata": {},
          "execution_count": 83
        }
      ]
    },
    {
      "cell_type": "code",
      "source": [
        "!mkdir datasets"
      ],
      "metadata": {
        "id": "FXj0Mceaznz8"
      },
      "execution_count": 8,
      "outputs": []
    },
    {
      "cell_type": "code",
      "source": [
        "!wget -O /content/datasets/ru_syntagrus-ud-train.conllu https://raw.githubusercontent.com/UniversalDependencies/UD_Russian-Taiga/master/ru_taiga-ud-train.conllu\n",
        "!wget -O /content/datasets/ru_syntagrus-ud-dev.conllu https://raw.githubusercontent.com/UniversalDependencies/UD_Russian-Taiga/master/ru_taiga-ud-dev.conllu"
      ],
      "metadata": {
        "colab": {
          "base_uri": "https://localhost:8080/"
        },
        "id": "cacU2nXIzcxu",
        "outputId": "ee53bc8f-e4ba-4acc-97b8-e1927d2a91a6"
      },
      "execution_count": 10,
      "outputs": [
        {
          "output_type": "stream",
          "name": "stdout",
          "text": [
            "--2022-10-25 11:03:15--  https://raw.githubusercontent.com/UniversalDependencies/UD_Russian-Taiga/master/ru_taiga-ud-train.conllu\n",
            "Resolving raw.githubusercontent.com (raw.githubusercontent.com)... 185.199.108.133, 185.199.109.133, 185.199.111.133, ...\n",
            "Connecting to raw.githubusercontent.com (raw.githubusercontent.com)|185.199.108.133|:443... connected.\n",
            "HTTP request sent, awaiting response... 200 OK\n",
            "Length: 17229332 (16M) [text/plain]\n",
            "Saving to: ‘/content/datasets/ru_syntagrus-ud-train.conllu’\n",
            "\n",
            "/content/datasets/r 100%[===================>]  16.43M  --.-KB/s    in 0.1s    \n",
            "\n",
            "2022-10-25 11:03:15 (135 MB/s) - ‘/content/datasets/ru_syntagrus-ud-train.conllu’ saved [17229332/17229332]\n",
            "\n",
            "--2022-10-25 11:03:15--  https://raw.githubusercontent.com/UniversalDependencies/UD_Russian-Taiga/master/ru_taiga-ud-dev.conllu\n",
            "Resolving raw.githubusercontent.com (raw.githubusercontent.com)... 185.199.108.133, 185.199.109.133, 185.199.110.133, ...\n",
            "Connecting to raw.githubusercontent.com (raw.githubusercontent.com)|185.199.108.133|:443... connected.\n",
            "HTTP request sent, awaiting response... 200 OK\n",
            "Length: 910013 (889K) [text/plain]\n",
            "Saving to: ‘/content/datasets/ru_syntagrus-ud-dev.conllu’\n",
            "\n",
            "/content/datasets/r 100%[===================>] 888.68K  --.-KB/s    in 0.05s   \n",
            "\n",
            "2022-10-25 11:03:16 (18.3 MB/s) - ‘/content/datasets/ru_syntagrus-ud-dev.conllu’ saved [910013/910013]\n",
            "\n"
          ]
        }
      ]
    },
    {
      "cell_type": "code",
      "source": [
        "full_train = pyconll.load_from_file('/content/datasets/ru_syntagrus-ud-train.conllu')\n",
        "full_test = pyconll.load_from_file('/content/datasets/ru_syntagrus-ud-dev.conllu')\n"
      ],
      "metadata": {
        "id": "c98bpMDGqp0k"
      },
      "execution_count": 45,
      "outputs": []
    },
    {
      "cell_type": "code",
      "source": [
        "for sent in full_train[:2]:\n",
        "    for token in sent:\n",
        "        print(token.form, token.upos)\n",
        "    print()"
      ],
      "metadata": {
        "colab": {
          "base_uri": "https://localhost:8080/"
        },
        "id": "0Cr1O_srzUcV",
        "outputId": "b6fbcdca-285e-4c6a-8324-85bb256e9790"
      },
      "execution_count": 46,
      "outputs": [
        {
          "output_type": "stream",
          "name": "stdout",
          "text": [
            "Снова ADV\n",
            "приобрел VERB\n",
            "дозу NOUN\n",
            ", PUNCT\n",
            "\n",
            "В ADP\n",
            "женщине NOUN\n",
            "важна ADJ\n",
            "верность NOUN\n",
            ", PUNCT\n",
            "а CCONJ\n",
            "не PART\n",
            "красота NOUN\n",
            ". PUNCT\n",
            "\n"
          ]
        }
      ]
    },
    {
      "cell_type": "code",
      "source": [
        "fdata_train = []\n",
        "for sent in full_train[:]:\n",
        "    fdata_train.append([(token.form, token.upos) for token in sent])\n",
        "    \n",
        "fdata_test = []\n",
        "for sent in full_test[:]:\n",
        "    fdata_test.append([(token.form, token.upos) for token in sent])\n",
        "    \n",
        "fdata_sent_test = []\n",
        "for sent in full_test[:]:\n",
        "    fdata_sent_test.append([token.form for token in sent])"
      ],
      "metadata": {
        "id": "kxE1zgQR0vW8"
      },
      "execution_count": 47,
      "outputs": []
    },
    {
      "cell_type": "code",
      "source": [
        "fdata_train[666][:3]"
      ],
      "metadata": {
        "colab": {
          "base_uri": "https://localhost:8080/"
        },
        "id": "KG39L3CN1Pu0",
        "outputId": "be2ba5b4-b557-4f38-e2bc-feb41f45389b"
      },
      "execution_count": 48,
      "outputs": [
        {
          "output_type": "execute_result",
          "data": {
            "text/plain": [
              "[('Я', 'PRON'), ('—', 'PUNCT'), ('два', 'NUM')]"
            ]
          },
          "metadata": {},
          "execution_count": 48
        }
      ]
    },
    {
      "cell_type": "code",
      "source": [
        "fdata_sent_test[666][:3]"
      ],
      "metadata": {
        "colab": {
          "base_uri": "https://localhost:8080/"
        },
        "id": "HfLPWwzt1TKx",
        "outputId": "8408f9c3-3a24-4635-b538-273ed3e65fa4"
      },
      "execution_count": 49,
      "outputs": [
        {
          "output_type": "execute_result",
          "data": {
            "text/plain": [
              "['кречет', 'кречет', 'ратник']"
            ]
          },
          "metadata": {},
          "execution_count": 49
        }
      ]
    },
    {
      "cell_type": "code",
      "source": [
        "default_tagger = nltk.DefaultTagger('NOUN')\n",
        "display(default_tagger.tag(fdata_sent_test[666]), default_tagger.evaluate(fdata_test))"
      ],
      "metadata": {
        "colab": {
          "base_uri": "https://localhost:8080/",
          "height": 356
        },
        "id": "bfjisxsX1bnp",
        "outputId": "ce75b920-88f0-41a2-8137-4cd1837f1f82"
      },
      "execution_count": 50,
      "outputs": [
        {
          "output_type": "stream",
          "name": "stderr",
          "text": [
            "/usr/local/lib/python3.7/dist-packages/ipykernel_launcher.py:2: DeprecationWarning: \n",
            "  Function evaluate() has been deprecated.  Use accuracy(gold)\n",
            "  instead.\n",
            "  \n"
          ]
        },
        {
          "output_type": "display_data",
          "data": {
            "text/plain": [
              "[('кречет', 'NOUN'),\n",
              " ('кречет', 'NOUN'),\n",
              " ('ратник', 'NOUN'),\n",
              " ('воли', 'NOUN'),\n",
              " ('ты', 'NOUN'),\n",
              " ('летящий', 'NOUN'),\n",
              " ('сквозь', 'NOUN'),\n",
              " ('юдоли', 'NOUN'),\n",
              " ('раненый', 'NOUN'),\n",
              " ('пращею', 'NOUN'),\n",
              " ('туман', 'NOUN'),\n",
              " ('тимпан', 'NOUN'),\n",
              " ('веспасиан', 'NOUN')]"
            ]
          },
          "metadata": {}
        },
        {
          "output_type": "display_data",
          "data": {
            "text/plain": [
              "0.24167987321711568"
            ]
          },
          "metadata": {}
        }
      ]
    },
    {
      "cell_type": "code",
      "source": [
        "\n",
        "unigram_tagger = UnigramTagger(fdata_train)\n",
        "display(unigram_tagger.tag(fdata_sent_test[666]), unigram_tagger.evaluate(fdata_test))"
      ],
      "metadata": {
        "colab": {
          "base_uri": "https://localhost:8080/",
          "height": 356
        },
        "id": "1fc497-t2Bh1",
        "outputId": "d1124239-f298-43eb-83ba-661a6300450e"
      },
      "execution_count": 51,
      "outputs": [
        {
          "output_type": "stream",
          "name": "stderr",
          "text": [
            "/usr/local/lib/python3.7/dist-packages/ipykernel_launcher.py:2: DeprecationWarning: \n",
            "  Function evaluate() has been deprecated.  Use accuracy(gold)\n",
            "  instead.\n",
            "  \n"
          ]
        },
        {
          "output_type": "display_data",
          "data": {
            "text/plain": [
              "[('кречет', None),\n",
              " ('кречет', None),\n",
              " ('ратник', None),\n",
              " ('воли', 'NOUN'),\n",
              " ('ты', 'PRON'),\n",
              " ('летящий', None),\n",
              " ('сквозь', 'ADP'),\n",
              " ('юдоли', None),\n",
              " ('раненый', None),\n",
              " ('пращею', None),\n",
              " ('туман', 'NOUN'),\n",
              " ('тимпан', None),\n",
              " ('веспасиан', None)]"
            ]
          },
          "metadata": {}
        },
        {
          "output_type": "display_data",
          "data": {
            "text/plain": [
              "0.6831418383518225"
            ]
          },
          "metadata": {}
        }
      ]
    },
    {
      "cell_type": "code",
      "source": [
        "bigram_tagger = BigramTagger(fdata_train, backoff=unigram_tagger)\n",
        "display(bigram_tagger.tag(fdata_sent_test[666]), bigram_tagger.evaluate(fdata_test))"
      ],
      "metadata": {
        "colab": {
          "base_uri": "https://localhost:8080/",
          "height": 356
        },
        "id": "w1H-97r_2UuI",
        "outputId": "f1ac86e9-046a-4dc6-bf04-8a93bedc9e33"
      },
      "execution_count": 52,
      "outputs": [
        {
          "output_type": "stream",
          "name": "stderr",
          "text": [
            "/usr/local/lib/python3.7/dist-packages/ipykernel_launcher.py:2: DeprecationWarning: \n",
            "  Function evaluate() has been deprecated.  Use accuracy(gold)\n",
            "  instead.\n",
            "  \n"
          ]
        },
        {
          "output_type": "display_data",
          "data": {
            "text/plain": [
              "[('кречет', None),\n",
              " ('кречет', None),\n",
              " ('ратник', None),\n",
              " ('воли', 'NOUN'),\n",
              " ('ты', 'PRON'),\n",
              " ('летящий', None),\n",
              " ('сквозь', 'ADP'),\n",
              " ('юдоли', None),\n",
              " ('раненый', None),\n",
              " ('пращею', None),\n",
              " ('туман', 'NOUN'),\n",
              " ('тимпан', None),\n",
              " ('веспасиан', None)]"
            ]
          },
          "metadata": {}
        },
        {
          "output_type": "display_data",
          "data": {
            "text/plain": [
              "0.6859152139461173"
            ]
          },
          "metadata": {}
        }
      ]
    },
    {
      "cell_type": "code",
      "source": [
        "trigram_tagger = TrigramTagger(fdata_train, backoff=bigram_tagger)\n",
        "display(trigram_tagger.tag(fdata_sent_test[666]), trigram_tagger.evaluate(fdata_test))"
      ],
      "metadata": {
        "colab": {
          "base_uri": "https://localhost:8080/",
          "height": 356
        },
        "id": "3sganyk62ZNd",
        "outputId": "db8e7d26-e9d1-49b7-c117-29151fdf51b7"
      },
      "execution_count": 53,
      "outputs": [
        {
          "output_type": "stream",
          "name": "stderr",
          "text": [
            "/usr/local/lib/python3.7/dist-packages/ipykernel_launcher.py:2: DeprecationWarning: \n",
            "  Function evaluate() has been deprecated.  Use accuracy(gold)\n",
            "  instead.\n",
            "  \n"
          ]
        },
        {
          "output_type": "display_data",
          "data": {
            "text/plain": [
              "[('кречет', None),\n",
              " ('кречет', None),\n",
              " ('ратник', None),\n",
              " ('воли', 'NOUN'),\n",
              " ('ты', 'PRON'),\n",
              " ('летящий', None),\n",
              " ('сквозь', 'ADP'),\n",
              " ('юдоли', None),\n",
              " ('раненый', None),\n",
              " ('пращею', None),\n",
              " ('туман', 'NOUN'),\n",
              " ('тимпан', None),\n",
              " ('веспасиан', None)]"
            ]
          },
          "metadata": {}
        },
        {
          "output_type": "display_data",
          "data": {
            "text/plain": [
              "0.6867076069730587"
            ]
          },
          "metadata": {}
        }
      ]
    },
    {
      "cell_type": "code",
      "source": [
        "def backoff_tagger(train_sents, tagger_classes, backoff=None):\n",
        "    for cls in tagger_classes:\n",
        "        backoff = cls(train_sents, backoff=backoff)\n",
        "    return backoff\n",
        "\n",
        "\n",
        "backoff = DefaultTagger('NOUN') \n",
        "tag = backoff_tagger(fdata_train,  \n",
        "                     [\n",
        "                      UnigramTagger,\n",
        "                      BigramTagger,\n",
        "                      TrigramTagger\n",
        "                     ],  \n",
        "                     backoff = backoff) "
      ],
      "metadata": {
        "id": "ZfB5mz1X2eMA"
      },
      "execution_count": 54,
      "outputs": []
    },
    {
      "cell_type": "code",
      "source": [
        "tag.evaluate(fdata_test) \n"
      ],
      "metadata": {
        "colab": {
          "base_uri": "https://localhost:8080/"
        },
        "id": "kTzHM-_w2nCY",
        "outputId": "fc372c58-7600-4ed7-9c60-72024ef8ff68"
      },
      "execution_count": 55,
      "outputs": [
        {
          "output_type": "stream",
          "name": "stderr",
          "text": [
            "/usr/local/lib/python3.7/dist-packages/ipykernel_launcher.py:1: DeprecationWarning: \n",
            "  Function evaluate() has been deprecated.  Use accuracy(gold)\n",
            "  instead.\n",
            "  \"\"\"Entry point for launching an IPython kernel.\n"
          ]
        },
        {
          "output_type": "execute_result",
          "data": {
            "text/plain": [
              "0.785756735340729"
            ]
          },
          "metadata": {},
          "execution_count": 55
        }
      ]
    },
    {
      "cell_type": "code",
      "source": [
        "train_tok = []\n",
        "train_label = []\n",
        "for sent in fdata_train[:]:\n",
        "    for tok in sent:\n",
        "        train_tok.append(tok[0])\n",
        "        train_label.append('NO_TAG' if tok[1] is None else tok[1])\n",
        "        \n",
        "test_tok = []\n",
        "test_label = []\n",
        "for sent in fdata_test[:]:\n",
        "    for tok in sent:\n",
        "        test_tok.append(tok[0])\n",
        "        test_label.append('NO_TAG' if tok[1] is None else tok[1])"
      ],
      "metadata": {
        "id": "8H79Ayps2rA1"
      },
      "execution_count": 56,
      "outputs": []
    },
    {
      "cell_type": "code",
      "source": [
        "le = LabelEncoder()\n",
        "train_enc_labels = le.fit_transform(train_label)\n",
        "test_enc_labels = le.transform(test_label)\n",
        "le.classes_"
      ],
      "metadata": {
        "colab": {
          "base_uri": "https://localhost:8080/"
        },
        "id": "safjih1p3e2u",
        "outputId": "e2fc6097-9220-4378-ebc1-53fd8c0a2768"
      },
      "execution_count": 57,
      "outputs": [
        {
          "output_type": "execute_result",
          "data": {
            "text/plain": [
              "array(['ADJ', 'ADP', 'ADV', 'AUX', 'CCONJ', 'DET', 'INTJ', 'NOUN', 'NUM',\n",
              "       'PART', 'PRON', 'PROPN', 'PUNCT', 'SCONJ', 'SYM', 'VERB', 'X'],\n",
              "      dtype='<U5')"
            ]
          },
          "metadata": {},
          "execution_count": 57
        }
      ]
    },
    {
      "cell_type": "code",
      "source": [
        "i = 0\n",
        "for text in test_tok:\n",
        "    if text is None:\n",
        "        test_tok[i] = 'None'\n",
        "    i += 1"
      ],
      "metadata": {
        "id": "-S3VnjQI3kay"
      },
      "execution_count": 58,
      "outputs": []
    },
    {
      "cell_type": "code",
      "source": [],
      "metadata": {
        "id": "1p6FQTXa8G6D"
      },
      "execution_count": 58,
      "outputs": []
    },
    {
      "cell_type": "code",
      "source": [
        "for vectorizer in tqdm([CountVectorizer, HashingVectorizer, TfidfVectorizer]):\n",
        "    hvectorizer = vectorizer(ngram_range=(1, 5), analyzer='char')\n",
        "    std_scaler = StandardScaler(with_mean=False)\n",
        "    \n",
        "    X_train = hvectorizer.fit_transform(train_tok)\n",
        "    X_test = hvectorizer.transform(test_tok)\n",
        "\n",
        "    X_train = std_scaler.fit_transform(X_train)\n",
        "    X_test = std_scaler.fit_transform(X_test) \n",
        "    \n",
        "    \n",
        "    print('\\n', X_train.shape)\n",
        "    lr = LogisticRegression(random_state=0, max_iter=100, n_jobs=5)\n",
        "    lr.fit(X_train, train_enc_labels)\n",
        "\n",
        "    pred = lr.predict(X_test)\n",
        "\n",
        "    print(vectorizer, accuracy_score(test_enc_labels, pred))"
      ],
      "metadata": {
        "colab": {
          "base_uri": "https://localhost:8080/"
        },
        "id": "0Dg-IWm64NOR",
        "outputId": "fbf05dbc-5336-4d57-c6dd-49fdb2e327d1"
      },
      "execution_count": 59,
      "outputs": [
        {
          "output_type": "stream",
          "name": "stderr",
          "text": [
            "\r  0%|          | 0/3 [00:00<?, ?it/s]"
          ]
        },
        {
          "output_type": "stream",
          "name": "stdout",
          "text": [
            "\n",
            " (176631, 93146)\n"
          ]
        },
        {
          "output_type": "stream",
          "name": "stderr",
          "text": [
            "\r 33%|███▎      | 1/3 [01:03<02:07, 63.51s/it]"
          ]
        },
        {
          "output_type": "stream",
          "name": "stdout",
          "text": [
            "<class 'sklearn.feature_extraction.text.CountVectorizer'> 0.8331022187004754\n",
            "\n",
            " (176631, 1048576)\n"
          ]
        },
        {
          "output_type": "stream",
          "name": "stderr",
          "text": [
            "\r 67%|██████▋   | 2/3 [07:13<04:03, 243.69s/it]"
          ]
        },
        {
          "output_type": "stream",
          "name": "stdout",
          "text": [
            "<class 'sklearn.feature_extraction.text.HashingVectorizer'> 0.8484548335974643\n",
            "\n",
            " (176631, 93146)\n"
          ]
        },
        {
          "output_type": "stream",
          "name": "stderr",
          "text": [
            "100%|██████████| 3/3 [08:33<00:00, 171.17s/it]"
          ]
        },
        {
          "output_type": "stream",
          "name": "stdout",
          "text": [
            "<class 'sklearn.feature_extraction.text.TfidfVectorizer'> 0.8544968304278923\n"
          ]
        },
        {
          "output_type": "stream",
          "name": "stderr",
          "text": [
            "\n"
          ]
        }
      ]
    },
    {
      "cell_type": "code",
      "source": [
        "for vectorizer in tqdm([CountVectorizer, HashingVectorizer, TfidfVectorizer]):\n",
        "    hvectorizer = vectorizer(ngram_range=(1, 5), analyzer='word')\n",
        "    std_scaler = StandardScaler(with_mean=False)\n",
        "    \n",
        "    X_train = hvectorizer.fit_transform(train_tok)\n",
        "    X_test = hvectorizer.transform(test_tok)\n",
        "\n",
        "    X_train = std_scaler.fit_transform(X_train)\n",
        "    X_test = std_scaler.fit_transform(X_test) \n",
        "    \n",
        "    print('\\n', X_train.shape)\n",
        "    lr = LogisticRegression(random_state=0, max_iter=100, n_jobs=5)\n",
        "    lr.fit(X_train, train_enc_labels)\n",
        "\n",
        "    pred = lr.predict(X_test)\n",
        "\n",
        "    print(vectorizer, accuracy_score(test_enc_labels, pred))"
      ],
      "metadata": {
        "colab": {
          "base_uri": "https://localhost:8080/"
        },
        "id": "3sh2Prmk4VZL",
        "outputId": "34d5a399-249d-40bb-f34b-922900cf9ca0"
      },
      "execution_count": 60,
      "outputs": [
        {
          "output_type": "stream",
          "name": "stderr",
          "text": [
            "\r  0%|          | 0/3 [00:00<?, ?it/s]"
          ]
        },
        {
          "output_type": "stream",
          "name": "stdout",
          "text": [
            "\n",
            " (176631, 34451)\n"
          ]
        },
        {
          "output_type": "stream",
          "name": "stderr",
          "text": [
            "\r 33%|███▎      | 1/3 [00:33<01:06, 33.16s/it]"
          ]
        },
        {
          "output_type": "stream",
          "name": "stdout",
          "text": [
            "<class 'sklearn.feature_extraction.text.CountVectorizer'> 0.49554278922345485\n",
            "\n",
            " (176631, 1048576)\n"
          ]
        },
        {
          "output_type": "stream",
          "name": "stderr",
          "text": [
            "\r 67%|██████▋   | 2/3 [06:37<03:48, 228.23s/it]"
          ]
        },
        {
          "output_type": "stream",
          "name": "stdout",
          "text": [
            "<class 'sklearn.feature_extraction.text.HashingVectorizer'> 0.5009904912836767\n",
            "\n",
            " (176631, 34451)\n"
          ]
        },
        {
          "output_type": "stream",
          "name": "stderr",
          "text": [
            "100%|██████████| 3/3 [07:28<00:00, 149.53s/it]"
          ]
        },
        {
          "output_type": "stream",
          "name": "stdout",
          "text": [
            "<class 'sklearn.feature_extraction.text.TfidfVectorizer'> 0.4948494453248811\n"
          ]
        },
        {
          "output_type": "stream",
          "name": "stderr",
          "text": [
            "\n"
          ]
        }
      ]
    },
    {
      "cell_type": "markdown",
      "source": [
        "#Вывод\n",
        "Векторное пространство показало лучшие метрики качества с опцией analyzer='char', accuracy_score = 0.85 и Тэггер = 0.68"
      ],
      "metadata": {
        "id": "3eywy4jJExYd"
      }
    },
    {
      "cell_type": "markdown",
      "source": [
        " # Задание 2. Проверить, насколько хорошо работает NER\n",
        "####a) проверить NER из nltk/spacy/deeppavlov\n",
        "####b) написать свой NER, \n",
        "####- попробовать разные подходы\n",
        "####- передаём в сетку токен и его соседей.\n",
        "####- передаём в сетку только токен. свой вариант.\n",
        "####c) сравнить свои реализованные подходы на качество — вывести precision/recall/f1_score.\n"
      ],
      "metadata": {
        "id": "DTBAseIjG8nw"
      }
    },
    {
      "cell_type": "code",
      "source": [
        "!wget  http://www.labinform.ru/pub/named_entities/collection5.zip"
      ],
      "metadata": {
        "colab": {
          "base_uri": "https://localhost:8080/"
        },
        "id": "UTqX4ZKV5Iec",
        "outputId": "ba3f61b9-9d8a-4f5b-b311-e20c215da671"
      },
      "execution_count": 61,
      "outputs": [
        {
          "output_type": "stream",
          "name": "stdout",
          "text": [
            "--2022-10-25 12:31:24--  http://www.labinform.ru/pub/named_entities/collection5.zip\n",
            "Resolving www.labinform.ru (www.labinform.ru)... 95.181.230.181\n",
            "Connecting to www.labinform.ru (www.labinform.ru)|95.181.230.181|:80... connected.\n",
            "HTTP request sent, awaiting response... 200 OK\n",
            "Length: 1899530 (1.8M) [application/zip]\n",
            "Saving to: ‘collection5.zip’\n",
            "\n",
            "collection5.zip     100%[===================>]   1.81M  1.91MB/s    in 1.0s    \n",
            "\n",
            "2022-10-25 12:31:26 (1.91 MB/s) - ‘collection5.zip’ saved [1899530/1899530]\n",
            "\n"
          ]
        }
      ]
    },
    {
      "cell_type": "code",
      "source": [
        "arc = 'collection5.zip'\n",
        "z = zipfile.ZipFile(arc)\n",
        "directory_to_extract_to = ''\n",
        "with zipfile.ZipFile(arc, 'r') as zip_file:\n",
        "    zip_file.extractall(directory_to_extract_to)"
      ],
      "metadata": {
        "id": "-BsrCchNISmJ"
      },
      "execution_count": 64,
      "outputs": []
    },
    {
      "cell_type": "code",
      "source": [
        "!pip install corus"
      ],
      "metadata": {
        "colab": {
          "base_uri": "https://localhost:8080/"
        },
        "id": "leRgDSPPI8qQ",
        "outputId": "2be21653-13f9-4413-fc68-491c485822dd"
      },
      "execution_count": 65,
      "outputs": [
        {
          "output_type": "stream",
          "name": "stdout",
          "text": [
            "Looking in indexes: https://pypi.org/simple, https://us-python.pkg.dev/colab-wheels/public/simple/\n",
            "Collecting corus\n",
            "  Downloading corus-0.9.0-py3-none-any.whl (83 kB)\n",
            "\u001b[K     |████████████████████████████████| 83 kB 1.4 MB/s \n",
            "\u001b[?25hInstalling collected packages: corus\n",
            "Successfully installed corus-0.9.0\n"
          ]
        }
      ]
    },
    {
      "cell_type": "code",
      "source": [
        "nltk.download('maxent_ne_chunker')\n",
        "nltk.download('words')\n",
        "nltk.download('punkt')\n",
        "nltk.download('averaged_perceptron_tagger')"
      ],
      "metadata": {
        "colab": {
          "base_uri": "https://localhost:8080/"
        },
        "id": "_e48VPc9JHmF",
        "outputId": "a66fca67-a5d3-43f0-d937-0efd2d3ecc79"
      },
      "execution_count": 68,
      "outputs": [
        {
          "output_type": "stream",
          "name": "stderr",
          "text": [
            "[nltk_data] Downloading package maxent_ne_chunker to\n",
            "[nltk_data]     /root/nltk_data...\n",
            "[nltk_data]   Unzipping chunkers/maxent_ne_chunker.zip.\n",
            "[nltk_data] Downloading package words to /root/nltk_data...\n",
            "[nltk_data]   Unzipping corpora/words.zip.\n",
            "[nltk_data] Downloading package punkt to /root/nltk_data...\n",
            "[nltk_data]   Unzipping tokenizers/punkt.zip.\n",
            "[nltk_data] Downloading package averaged_perceptron_tagger to\n",
            "[nltk_data]     /root/nltk_data...\n",
            "[nltk_data]   Unzipping taggers/averaged_perceptron_tagger.zip.\n"
          ]
        },
        {
          "output_type": "execute_result",
          "data": {
            "text/plain": [
              "True"
            ]
          },
          "metadata": {},
          "execution_count": 68
        }
      ]
    },
    {
      "cell_type": "code",
      "source": [
        "path = 'Collection5/'\n",
        "records = load_ne5(path)\n",
        "doc = next(records).text"
      ],
      "metadata": {
        "id": "oWnnnh6mJXim"
      },
      "execution_count": 70,
      "outputs": []
    },
    {
      "cell_type": "code",
      "source": [
        "doc"
      ],
      "metadata": {
        "colab": {
          "base_uri": "https://localhost:8080/",
          "height": 150
        },
        "id": "ynjk7P41JfZD",
        "outputId": "fdd74ef8-e10e-4b73-94eb-223ddff48901"
      },
      "execution_count": 74,
      "outputs": [
        {
          "output_type": "execute_result",
          "data": {
            "text/plain": [
              "'\"Ювентус\" обыграл \"Милан\" в Кубке Италии\\r\\n\"Ювентус\" обыграл \"Милан\" в матче 1/4 финала Кубка Италии. Как сообщает Reuters, встреча, состоявшаяся в среду, 9 января, в Турине, завершилась со счетом 2:1 в пользу хозяев поля - \"Ювентуса\".\\r\\n\\r\\nПервый гол был забит на шестой минуте матча нападающим \"Милана\" Стефаном Эль-Шаарави. На 12-й минуте \"Ювентусу\" удалось отыграться, автором гола стал Себастьян Джовинко.\\r\\n\\r\\nОсновное время матча завершилось со счетом 1:1. Победный мяч в ворота \"Милана\" отправил в дополнительное время Мирко Вучинич.\\r\\n\\r\\nТаким образом, \"Ювентус\" вышел в полуфинал Кубка Италии, где встретится с \"Лацио\". '"
            ],
            "application/vnd.google.colaboratory.intrinsic+json": {
              "type": "string"
            }
          },
          "metadata": {},
          "execution_count": 74
        }
      ]
    },
    {
      "cell_type": "code",
      "source": [
        "{(' '.join(c[0] for c in chunk), chunk.label() ) for chunk in nltk.ne_chunk(nltk.pos_tag(nltk.word_tokenize(document))) if hasattr(chunk, 'label') }\n"
      ],
      "metadata": {
        "colab": {
          "base_uri": "https://localhost:8080/"
        },
        "id": "wUoYXEwtJm3c",
        "outputId": "95806206-ef9d-4b6f-fcd5-5388aacc6be9"
      },
      "execution_count": 75,
      "outputs": [
        {
          "output_type": "execute_result",
          "data": {
            "text/plain": [
              "{('Reuters', 'ORGANIZATION'), ('Италии', 'PERSON'), ('Таким', 'PERSON')}"
            ]
          },
          "metadata": {},
          "execution_count": 75
        }
      ]
    },
    {
      "cell_type": "code",
      "source": [
        "doc = next(records).text"
      ],
      "metadata": {
        "id": "nrtM_sMZJuAb"
      },
      "execution_count": 76,
      "outputs": []
    },
    {
      "cell_type": "code",
      "source": [
        "doc"
      ],
      "metadata": {
        "colab": {
          "base_uri": "https://localhost:8080/",
          "height": 225
        },
        "id": "4By1idXpJ2N7",
        "outputId": "e516a36d-0c82-4fae-e592-9da1e3620cd2"
      },
      "execution_count": 77,
      "outputs": [
        {
          "output_type": "execute_result",
          "data": {
            "text/plain": [
              "'Пекин считает, что отношения с Вашингтоном \"здоровые и стабильные\"\\r\\n\\r\\n Китай называл правомерными действия властей Гонконга в отношении бывшего сотрудника американских спецслужб Эдварда Сноудена и считает, что отношения КНР с США продолжают здоровое и стабильное развитие, заявила в понедельник официальный представитель МИД КНР Хуа Чуньин на регулярном брифинге.\\r\\n\\r\\nСША требовали экстрадировать Сноудена, раскрывший информацию о прослушивании спецслужбами США телефонов граждан, но правительство Гонконга заявило, что у него не было никаких правовых оснований задерживать американца, поскольку запрос не полностью соответствовал местному законодательству. В воскресенье стало известно, что Сноуден прибыл из Гонконга в Москву и запросил убежища в Эквадоре. \\r\\n\\r\\n\"Мы считаем, что китайско-американские отношения сохраняют здоровое и стабильное развитие, что отвечает интересам КНР и США и народов двух стран. Китайская сторона также готова прикладывать вместе с США усилия для неуклонного продвижения в построении отношений нового типа между двумя державами\", — сказала китайский дипломат, отвечая на вопрос, не осложнит ли китайско-американские отношения отказ властей Гонконга выдать Сноудена по запросу США.\\r\\n\\r\\nПри этом Хуа Чуньин вновь отметила, что \"центральное правительство Китая всегда уважало и уважает право специального административного района Гонконг принимать решения в соответствии со (своими) законами\".\\r\\n\\r\\n\\r\\n\\r\\n'"
            ],
            "application/vnd.google.colaboratory.intrinsic+json": {
              "type": "string"
            }
          },
          "metadata": {},
          "execution_count": 77
        }
      ]
    },
    {
      "cell_type": "code",
      "source": [
        "{(' '.join(c[0] for c in chunk), chunk.label() ) for chunk in nltk.ne_chunk(nltk.pos_tag(nltk.word_tokenize(document))) if hasattr(chunk, 'label') }\n"
      ],
      "metadata": {
        "colab": {
          "base_uri": "https://localhost:8080/"
        },
        "id": "A-EygPnCJ25K",
        "outputId": "5c9f68f1-6bfb-4890-a77f-c3760ff2546f"
      },
      "execution_count": 78,
      "outputs": [
        {
          "output_type": "execute_result",
          "data": {
            "text/plain": [
              "{('Reuters', 'ORGANIZATION'), ('Италии', 'PERSON'), ('Таким', 'PERSON')}"
            ]
          },
          "metadata": {},
          "execution_count": 78
        }
      ]
    },
    {
      "cell_type": "code",
      "source": [
        "!python -m spacy info"
      ],
      "metadata": {
        "colab": {
          "base_uri": "https://localhost:8080/"
        },
        "id": "XSNEj1oVJ7h9",
        "outputId": "601b7c0b-25df-4b92-985c-798eb8f15894"
      },
      "execution_count": 79,
      "outputs": [
        {
          "output_type": "stream",
          "name": "stdout",
          "text": [
            "2022-10-25 12:40:03.651345: E tensorflow/stream_executor/cuda/cuda_driver.cc:271] failed call to cuInit: CUDA_ERROR_NO_DEVICE: no CUDA-capable device is detected\n",
            "\u001b[1m\n",
            "============================== Info about spaCy ==============================\u001b[0m\n",
            "\n",
            "spaCy version    3.4.1                         \n",
            "Location         /usr/local/lib/python3.7/dist-packages/spacy\n",
            "Platform         Linux-5.10.133+-x86_64-with-Ubuntu-18.04-bionic\n",
            "Python version   3.7.15                        \n",
            "Pipelines        en_core_web_sm (3.4.1)        \n",
            "\n"
          ]
        }
      ]
    },
    {
      "cell_type": "code",
      "source": [
        "!pip install https://github.com/explosion/spacy-models/releases/download/en_core_web_md-2.2.0/en_core_web_md-2.2.0.tar.gz"
      ],
      "metadata": {
        "colab": {
          "base_uri": "https://localhost:8080/"
        },
        "id": "fByEP-UYJ_0M",
        "outputId": "fb6462a1-6722-4c2e-fe9e-5e47511220e2"
      },
      "execution_count": 81,
      "outputs": [
        {
          "output_type": "stream",
          "name": "stdout",
          "text": [
            "Looking in indexes: https://pypi.org/simple, https://us-python.pkg.dev/colab-wheels/public/simple/\n",
            "Collecting https://github.com/explosion/spacy-models/releases/download/en_core_web_md-2.2.0/en_core_web_md-2.2.0.tar.gz\n",
            "  Downloading https://github.com/explosion/spacy-models/releases/download/en_core_web_md-2.2.0/en_core_web_md-2.2.0.tar.gz (96.4 MB)\n",
            "\u001b[K     |████████████████████████████████| 96.4 MB 100 kB/s \n",
            "\u001b[?25hRequirement already satisfied: spacy>=2.2.0 in /usr/local/lib/python3.7/dist-packages (from en-core-web-md==2.2.0) (3.4.1)\n",
            "Requirement already satisfied: spacy-loggers<2.0.0,>=1.0.0 in /usr/local/lib/python3.7/dist-packages (from spacy>=2.2.0->en-core-web-md==2.2.0) (1.0.3)\n",
            "Requirement already satisfied: wasabi<1.1.0,>=0.9.1 in /usr/local/lib/python3.7/dist-packages (from spacy>=2.2.0->en-core-web-md==2.2.0) (0.10.1)\n",
            "Requirement already satisfied: packaging>=20.0 in /usr/local/lib/python3.7/dist-packages (from spacy>=2.2.0->en-core-web-md==2.2.0) (21.3)\n",
            "Requirement already satisfied: setuptools in /usr/local/lib/python3.7/dist-packages (from spacy>=2.2.0->en-core-web-md==2.2.0) (57.4.0)\n",
            "Requirement already satisfied: murmurhash<1.1.0,>=0.28.0 in /usr/local/lib/python3.7/dist-packages (from spacy>=2.2.0->en-core-web-md==2.2.0) (1.0.9)\n",
            "Requirement already satisfied: typer<0.5.0,>=0.3.0 in /usr/local/lib/python3.7/dist-packages (from spacy>=2.2.0->en-core-web-md==2.2.0) (0.4.2)\n",
            "Requirement already satisfied: pathy>=0.3.5 in /usr/local/lib/python3.7/dist-packages (from spacy>=2.2.0->en-core-web-md==2.2.0) (0.6.2)\n",
            "Requirement already satisfied: pydantic!=1.8,!=1.8.1,<1.10.0,>=1.7.4 in /usr/local/lib/python3.7/dist-packages (from spacy>=2.2.0->en-core-web-md==2.2.0) (1.9.2)\n",
            "Requirement already satisfied: jinja2 in /usr/local/lib/python3.7/dist-packages (from spacy>=2.2.0->en-core-web-md==2.2.0) (2.11.3)\n",
            "Requirement already satisfied: catalogue<2.1.0,>=2.0.6 in /usr/local/lib/python3.7/dist-packages (from spacy>=2.2.0->en-core-web-md==2.2.0) (2.0.8)\n",
            "Requirement already satisfied: tqdm<5.0.0,>=4.38.0 in /usr/local/lib/python3.7/dist-packages (from spacy>=2.2.0->en-core-web-md==2.2.0) (4.64.1)\n",
            "Requirement already satisfied: langcodes<4.0.0,>=3.2.0 in /usr/local/lib/python3.7/dist-packages (from spacy>=2.2.0->en-core-web-md==2.2.0) (3.3.0)\n",
            "Requirement already satisfied: thinc<8.2.0,>=8.1.0 in /usr/local/lib/python3.7/dist-packages (from spacy>=2.2.0->en-core-web-md==2.2.0) (8.1.4)\n",
            "Requirement already satisfied: srsly<3.0.0,>=2.4.3 in /usr/local/lib/python3.7/dist-packages (from spacy>=2.2.0->en-core-web-md==2.2.0) (2.4.4)\n",
            "Requirement already satisfied: requests<3.0.0,>=2.13.0 in /usr/local/lib/python3.7/dist-packages (from spacy>=2.2.0->en-core-web-md==2.2.0) (2.23.0)\n",
            "Requirement already satisfied: numpy>=1.15.0 in /usr/local/lib/python3.7/dist-packages (from spacy>=2.2.0->en-core-web-md==2.2.0) (1.21.6)\n",
            "Requirement already satisfied: spacy-legacy<3.1.0,>=3.0.9 in /usr/local/lib/python3.7/dist-packages (from spacy>=2.2.0->en-core-web-md==2.2.0) (3.0.10)\n",
            "Requirement already satisfied: typing-extensions<4.2.0,>=3.7.4 in /usr/local/lib/python3.7/dist-packages (from spacy>=2.2.0->en-core-web-md==2.2.0) (4.1.1)\n",
            "Requirement already satisfied: preshed<3.1.0,>=3.0.2 in /usr/local/lib/python3.7/dist-packages (from spacy>=2.2.0->en-core-web-md==2.2.0) (3.0.8)\n",
            "Requirement already satisfied: cymem<2.1.0,>=2.0.2 in /usr/local/lib/python3.7/dist-packages (from spacy>=2.2.0->en-core-web-md==2.2.0) (2.0.7)\n",
            "Requirement already satisfied: zipp>=0.5 in /usr/local/lib/python3.7/dist-packages (from catalogue<2.1.0,>=2.0.6->spacy>=2.2.0->en-core-web-md==2.2.0) (3.9.0)\n",
            "Requirement already satisfied: pyparsing!=3.0.5,>=2.0.2 in /usr/local/lib/python3.7/dist-packages (from packaging>=20.0->spacy>=2.2.0->en-core-web-md==2.2.0) (3.0.9)\n",
            "Requirement already satisfied: smart-open<6.0.0,>=5.2.1 in /usr/local/lib/python3.7/dist-packages (from pathy>=0.3.5->spacy>=2.2.0->en-core-web-md==2.2.0) (5.2.1)\n",
            "Requirement already satisfied: chardet<4,>=3.0.2 in /usr/local/lib/python3.7/dist-packages (from requests<3.0.0,>=2.13.0->spacy>=2.2.0->en-core-web-md==2.2.0) (3.0.4)\n",
            "Requirement already satisfied: idna<3,>=2.5 in /usr/local/lib/python3.7/dist-packages (from requests<3.0.0,>=2.13.0->spacy>=2.2.0->en-core-web-md==2.2.0) (2.10)\n",
            "Requirement already satisfied: urllib3!=1.25.0,!=1.25.1,<1.26,>=1.21.1 in /usr/local/lib/python3.7/dist-packages (from requests<3.0.0,>=2.13.0->spacy>=2.2.0->en-core-web-md==2.2.0) (1.24.3)\n",
            "Requirement already satisfied: certifi>=2017.4.17 in /usr/local/lib/python3.7/dist-packages (from requests<3.0.0,>=2.13.0->spacy>=2.2.0->en-core-web-md==2.2.0) (2022.9.24)\n",
            "Requirement already satisfied: confection<1.0.0,>=0.0.1 in /usr/local/lib/python3.7/dist-packages (from thinc<8.2.0,>=8.1.0->spacy>=2.2.0->en-core-web-md==2.2.0) (0.0.3)\n",
            "Requirement already satisfied: blis<0.8.0,>=0.7.8 in /usr/local/lib/python3.7/dist-packages (from thinc<8.2.0,>=8.1.0->spacy>=2.2.0->en-core-web-md==2.2.0) (0.7.8)\n",
            "Requirement already satisfied: click<9.0.0,>=7.1.1 in /usr/local/lib/python3.7/dist-packages (from typer<0.5.0,>=0.3.0->spacy>=2.2.0->en-core-web-md==2.2.0) (7.1.2)\n",
            "Requirement already satisfied: MarkupSafe>=0.23 in /usr/local/lib/python3.7/dist-packages (from jinja2->spacy>=2.2.0->en-core-web-md==2.2.0) (2.0.1)\n",
            "Building wheels for collected packages: en-core-web-md\n",
            "  Building wheel for en-core-web-md (setup.py) ... \u001b[?25l\u001b[?25hdone\n",
            "  Created wheel for en-core-web-md: filename=en_core_web_md-2.2.0-py3-none-any.whl size=98072934 sha256=4e3a0ec00a8112c48ce4878d3b8170f3445c3d1390a65e8a4a5840fb76049b24\n",
            "  Stored in directory: /root/.cache/pip/wheels/d1/e8/f9/fd0d324ec96ab55e0a8ae395183c22260a4eeaf166ade7ad22\n",
            "Successfully built en-core-web-md\n",
            "Installing collected packages: en-core-web-md\n",
            "Successfully installed en-core-web-md-2.2.0\n"
          ]
        }
      ]
    },
    {
      "cell_type": "code",
      "source": [
        "def url_to_string(url):\n",
        "    res = requests.get(url)\n",
        "    html = res.text\n",
        "    soup = BeautifulSoup(html, 'html5lib')\n",
        "    for script in soup([\"script\", \"style\", 'aside']):\n",
        "        script.extract()\n",
        "    return \" \".join(re.split(r'[\\n\\t]+', soup.get_text()))\n",
        "\n",
        "document = url_to_string('https://www.rt.com/russia/565149-end-of-russian-civil-war/')\n",
        "\n",
        "nltk.pos_tag(nltk.word_tokenize(document))"
      ],
      "metadata": {
        "colab": {
          "base_uri": "https://localhost:8080/"
        },
        "id": "0reKgrk9KUa2",
        "outputId": "31ec1762-8c0e-4c0b-b7a3-96980e5bd6ca"
      },
      "execution_count": 85,
      "outputs": [
        {
          "output_type": "execute_result",
          "data": {
            "text/plain": [
              "[('The', 'DT'),\n",
              " ('Russian', 'NNP'),\n",
              " ('Civil', 'NNP'),\n",
              " ('War', 'NNP'),\n",
              " ('ended', 'VBD'),\n",
              " ('100', 'CD'),\n",
              " ('years', 'NNS'),\n",
              " ('ago', 'RB'),\n",
              " (':', ':'),\n",
              " ('Here', 'RB'),\n",
              " (\"'s\", 'VBZ'),\n",
              " ('how', 'WRB'),\n",
              " ('Western', 'JJ'),\n",
              " ('powers', 'NNS'),\n",
              " ('played', 'VBD'),\n",
              " ('a', 'DT'),\n",
              " ('significant', 'JJ'),\n",
              " ('part', 'NN'),\n",
              " ('in', 'IN'),\n",
              " ('the', 'DT'),\n",
              " ('outcome', 'NN'),\n",
              " ('—', 'NNP'),\n",
              " ('RT', 'NNP'),\n",
              " ('Russia', 'NNP'),\n",
              " ('&', 'CC'),\n",
              " ('Former', 'NNP'),\n",
              " ('Soviet', 'NNP'),\n",
              " ('Union', 'NNP'),\n",
              " ('icon', 'NN'),\n",
              " ('bookmark-bicon', 'JJ'),\n",
              " ('bookmarkicon', 'NN'),\n",
              " ('cameraicon', 'NN'),\n",
              " ('checkicon', 'NN'),\n",
              " ('chevron', 'NN'),\n",
              " ('downicon', 'NN'),\n",
              " ('chevron', 'NN'),\n",
              " ('lefticon', 'NN'),\n",
              " ('chevron', 'NN'),\n",
              " ('righticon', 'NN'),\n",
              " ('chevron', 'NN'),\n",
              " ('upicon', 'JJ'),\n",
              " ('closeicon', 'NN'),\n",
              " ('v-compressicon', 'JJ'),\n",
              " ('downloadicon', 'NN'),\n",
              " ('editicon', 'NN'),\n",
              " ('v-expandicon', 'JJ'),\n",
              " ('fbicon', 'NN'),\n",
              " ('fileicon', 'NN'),\n",
              " ('filtericon', 'NN'),\n",
              " ('flag', 'NN'),\n",
              " ('ruicon', 'NN'),\n",
              " ('full', 'JJ'),\n",
              " ('chevron', 'NN'),\n",
              " ('downicon', 'NN'),\n",
              " ('full', 'JJ'),\n",
              " ('chevron', 'NN'),\n",
              " ('lefticon', 'NN'),\n",
              " ('full', 'JJ'),\n",
              " ('chevron', 'NN'),\n",
              " ('righticon', 'NN'),\n",
              " ('full', 'JJ'),\n",
              " ('chevron', 'NN'),\n",
              " ('upicon', 'JJ'),\n",
              " ('gpicon', 'NN'),\n",
              " ('insicon', 'JJ'),\n",
              " ('mailicon', 'NN'),\n",
              " ('moveicon-musicicon', 'JJ'),\n",
              " ('mutedicon', 'NN'),\n",
              " ('nomutedicon', 'JJ'),\n",
              " ('okicon', 'JJ'),\n",
              " ('v-pauseicon', 'JJ'),\n",
              " ('v-playicon', 'JJ'),\n",
              " ('searchicon', 'NN'),\n",
              " ('shareicon', 'NN'),\n",
              " ('sign', 'NN'),\n",
              " ('inicon', 'JJ'),\n",
              " ('sign', 'NN'),\n",
              " ('upicon', 'JJ'),\n",
              " ('stepbackicon', 'NN'),\n",
              " ('stepforicon', 'NN'),\n",
              " ('swipe', 'JJ'),\n",
              " ('downicon', 'NN'),\n",
              " ('tagicon', 'NN'),\n",
              " ('tagsicon', 'NN'),\n",
              " ('tgicon', 'NN'),\n",
              " ('trashicon', 'NN'),\n",
              " ('twicon', 'NN'),\n",
              " ('vkicon', 'NN'),\n",
              " ('yticon', 'NN'),\n",
              " ('wticon', 'NN'),\n",
              " ('fm', 'NN'),\n",
              " ('العربيةESPРУСDEFR', 'NNP'),\n",
              " ('Where', 'NNP'),\n",
              " ('to', 'TO'),\n",
              " ('watch', 'VB'),\n",
              " ('Schedule', 'NNP'),\n",
              " ('RT', 'NNP'),\n",
              " ('News', 'NNP'),\n",
              " ('App', 'NNP'),\n",
              " ('Question', 'NNP'),\n",
              " ('more', 'RBR'),\n",
              " ('live', 'JJ'),\n",
              " ('Russia', 'NNP'),\n",
              " ('&', 'CC'),\n",
              " ('Former', 'NNP'),\n",
              " ('Soviet', 'NNP'),\n",
              " ('Union', 'NNP'),\n",
              " ('World', 'NNP'),\n",
              " ('News', 'NNP'),\n",
              " ('Business', 'NNP'),\n",
              " ('Sport', 'NNP'),\n",
              " ('RT', 'NNP'),\n",
              " ('Features', 'NNP'),\n",
              " ('Op-ed', 'NNP'),\n",
              " ('Games', 'NNP'),\n",
              " ('&', 'CC'),\n",
              " ('Culture', 'NNP'),\n",
              " ('Shows', 'NNP'),\n",
              " ('Projects', 'VBZ'),\n",
              " ('25', 'CD'),\n",
              " ('Oct', 'NNP'),\n",
              " (',', ','),\n",
              " ('2022', 'CD'),\n",
              " ('10:25', 'CD'),\n",
              " ('HomeRussia', 'NNP'),\n",
              " ('&', 'CC'),\n",
              " ('FSU', 'NNP'),\n",
              " ('The', 'DT'),\n",
              " ('Russian', 'NNP'),\n",
              " ('Civil', 'NNP'),\n",
              " ('War', 'NNP'),\n",
              " ('ended', 'VBD'),\n",
              " ('100', 'CD'),\n",
              " ('years', 'NNS'),\n",
              " ('ago', 'RB'),\n",
              " (':', ':'),\n",
              " ('Here', 'RB'),\n",
              " (\"'s\", 'VBZ'),\n",
              " ('how', 'WRB'),\n",
              " ('Western', 'JJ'),\n",
              " ('powers', 'NNS'),\n",
              " ('played', 'VBD'),\n",
              " ('a', 'DT'),\n",
              " ('significant', 'JJ'),\n",
              " ('part', 'NN'),\n",
              " ('in', 'IN'),\n",
              " ('the', 'DT'),\n",
              " ('outcome', 'NN'),\n",
              " ('What', 'WP'),\n",
              " ('were', 'VBD'),\n",
              " ('foreign', 'JJ'),\n",
              " ('interventionists', 'NNS'),\n",
              " ('doing', 'VBG'),\n",
              " ('in', 'IN'),\n",
              " ('Russia', 'NNP'),\n",
              " ('during', 'IN'),\n",
              " ('a', 'DT'),\n",
              " ('conflict', 'NN'),\n",
              " ('which', 'WDT'),\n",
              " ('helped', 'VBD'),\n",
              " ('to', 'TO'),\n",
              " ('define', 'VB'),\n",
              " ('the', 'DT'),\n",
              " ('20th', 'JJ'),\n",
              " ('century', 'NN'),\n",
              " ('?', '.'),\n",
              " ('©', 'VB'),\n",
              " ('RTOne', 'NNP'),\n",
              " ('hundred', 'CD'),\n",
              " ('years', 'NNS'),\n",
              " ('ago', 'RB'),\n",
              " (',', ','),\n",
              " ('on', 'IN'),\n",
              " ('October', 'NNP'),\n",
              " ('25', 'CD'),\n",
              " (',', ','),\n",
              " ('1922', 'CD'),\n",
              " (',', ','),\n",
              " ('the', 'DT'),\n",
              " ('Russian', 'NNP'),\n",
              " ('Civil', 'NNP'),\n",
              " ('War', 'NNP'),\n",
              " ('drew', 'VBD'),\n",
              " ('to', 'TO'),\n",
              " ('a', 'DT'),\n",
              " ('close', 'NN'),\n",
              " ('.', '.'),\n",
              " ('It', 'PRP'),\n",
              " ('was', 'VBD'),\n",
              " ('on', 'IN'),\n",
              " ('that', 'DT'),\n",
              " ('day', 'NN'),\n",
              " ('that', 'IN'),\n",
              " ('the', 'DT'),\n",
              " ('Provisional', 'NNP'),\n",
              " ('Priamurye', 'NNP'),\n",
              " ('Government', 'NNP'),\n",
              " ('in', 'IN'),\n",
              " ('the', 'DT'),\n",
              " ('Russian', 'NNP'),\n",
              " ('Far', 'NNP'),\n",
              " ('East', 'NNP'),\n",
              " (',', ','),\n",
              " ('the', 'DT'),\n",
              " ('last', 'JJ'),\n",
              " ('anti-Bolshevik', 'JJ'),\n",
              " ('Russian', 'JJ'),\n",
              " ('state', 'NN'),\n",
              " ('enclave', 'NN'),\n",
              " (',', ','),\n",
              " ('ceased', 'VBN'),\n",
              " ('to', 'TO'),\n",
              " ('exist', 'VB'),\n",
              " ('.', '.'),\n",
              " ('The', 'DT'),\n",
              " ('remnants', 'NNS'),\n",
              " ('of', 'IN'),\n",
              " ('the', 'DT'),\n",
              " ('White', 'NNP'),\n",
              " ('movement', 'NN'),\n",
              " ('left', 'VBD'),\n",
              " ('Vladivostok', 'NNP'),\n",
              " ('.', '.'),\n",
              " ('By', 'IN'),\n",
              " ('that', 'DT'),\n",
              " ('time', 'NN'),\n",
              " (',', ','),\n",
              " ('the', 'DT'),\n",
              " ('territory', 'NN'),\n",
              " ('of', 'IN'),\n",
              " ('the', 'DT'),\n",
              " ('former', 'JJ'),\n",
              " ('Russian', 'NNP'),\n",
              " ('Empire', 'NNP'),\n",
              " ('was', 'VBD'),\n",
              " ('almost', 'RB'),\n",
              " ('entirely', 'RB'),\n",
              " ('controlled', 'VBN'),\n",
              " ('by', 'IN'),\n",
              " ('the', 'DT'),\n",
              " ('Bolsheviks', 'NNP'),\n",
              " (',', ','),\n",
              " ('although', 'IN'),\n",
              " ('islands', 'NNS'),\n",
              " ('of', 'IN'),\n",
              " ('resistance', 'NN'),\n",
              " ('continued', 'VBD'),\n",
              " ('popping', 'VBG'),\n",
              " ('up', 'RP'),\n",
              " ('sporadically', 'RB'),\n",
              " ('in', 'IN'),\n",
              " ('various', 'JJ'),\n",
              " ('parts', 'NNS'),\n",
              " ('of', 'IN'),\n",
              " ('the', 'DT'),\n",
              " ('country', 'NN'),\n",
              " ('for', 'IN'),\n",
              " ('several', 'JJ'),\n",
              " ('more', 'JJR'),\n",
              " ('years.The', 'JJ'),\n",
              " ('Russian', 'NNP'),\n",
              " ('Civil', 'NNP'),\n",
              " ('War', 'NNP'),\n",
              " ('was', 'VBD'),\n",
              " (\"n't\", 'RB'),\n",
              " ('similar', 'JJ'),\n",
              " ('to', 'TO'),\n",
              " ('other', 'JJ'),\n",
              " ('such', 'JJ'),\n",
              " ('conflicts', 'NNS'),\n",
              " ('that', 'IN'),\n",
              " ('most', 'JJS'),\n",
              " ('people', 'NNS'),\n",
              " ('know', 'VBP'),\n",
              " ('.', '.'),\n",
              " ('Unlike', 'IN'),\n",
              " ('the', 'DT'),\n",
              " ('American', 'NNP'),\n",
              " ('Civil', 'NNP'),\n",
              " ('War', 'NNP'),\n",
              " ('fought', 'VBD'),\n",
              " ('between', 'IN'),\n",
              " ('the', 'DT'),\n",
              " ('Northern', 'NNP'),\n",
              " ('and', 'CC'),\n",
              " ('Southern', 'NNP'),\n",
              " ('states', 'NNS'),\n",
              " ('or', 'CC'),\n",
              " ('the', 'DT'),\n",
              " ('Spanish', 'JJ'),\n",
              " ('Civil', 'NNP'),\n",
              " ('War', 'NNP'),\n",
              " ('between', 'IN'),\n",
              " ('the', 'DT'),\n",
              " ('Francoist', 'NNP'),\n",
              " ('forces', 'NNS'),\n",
              " ('and', 'CC'),\n",
              " ('the', 'DT'),\n",
              " ('Republicans', 'NNPS'),\n",
              " (',', ','),\n",
              " ('the', 'DT'),\n",
              " ('fighting', 'NN'),\n",
              " ('in', 'IN'),\n",
              " ('Russia', 'NNP'),\n",
              " ('was', 'VBD'),\n",
              " ('not', 'RB'),\n",
              " ('simply', 'RB'),\n",
              " ('a', 'DT'),\n",
              " ('standoff', 'NN'),\n",
              " ('between', 'IN'),\n",
              " ('two', 'CD'),\n",
              " ('uncompromising', 'VBG'),\n",
              " ('sides', 'NNS'),\n",
              " ('.', '.'),\n",
              " ('The', 'DT'),\n",
              " ('opponents', 'NNS'),\n",
              " ('of', 'IN'),\n",
              " ('the', 'DT'),\n",
              " ('Bolsheviks', 'NNP'),\n",
              " (',', ','),\n",
              " ('which', 'WDT'),\n",
              " ('were', 'VBD'),\n",
              " ('collectively', 'RB'),\n",
              " ('known', 'VBN'),\n",
              " ('as', 'IN'),\n",
              " ('the', 'DT'),\n",
              " ('‘', 'NN'),\n",
              " ('Whites', 'NNP'),\n",
              " ('’', 'NNP'),\n",
              " (',', ','),\n",
              " ('were', 'VBD'),\n",
              " ('unable', 'JJ'),\n",
              " ('to', 'TO'),\n",
              " ('present', 'VB'),\n",
              " ('a', 'DT'),\n",
              " ('united', 'JJ'),\n",
              " ('front', 'NN'),\n",
              " ('against', 'IN'),\n",
              " ('the', 'DT'),\n",
              " ('‘', 'JJ'),\n",
              " ('Reds', 'NNP'),\n",
              " ('’', 'NNP'),\n",
              " ('due', 'JJ'),\n",
              " ('to', 'TO'),\n",
              " ('discord', 'VB'),\n",
              " ('within', 'IN'),\n",
              " ('their', 'PRP$'),\n",
              " ('own', 'JJ'),\n",
              " ('ranks', 'NNS'),\n",
              " ('.', '.'),\n",
              " ('Moreover', 'RB'),\n",
              " (',', ','),\n",
              " ('separatists', 'NNS'),\n",
              " ('who', 'WP'),\n",
              " ('were', 'VBD'),\n",
              " ('active', 'JJ'),\n",
              " ('on', 'IN'),\n",
              " ('the', 'DT'),\n",
              " ('periphery', 'NN'),\n",
              " ('and', 'CC'),\n",
              " ('generally', 'RB'),\n",
              " ('leaned', 'VBN'),\n",
              " ('towards', 'IN'),\n",
              " ('the', 'DT'),\n",
              " ('Communists', 'NNPS'),\n",
              " ('often', 'RB'),\n",
              " ('intervened', 'VBN'),\n",
              " ('in', 'IN'),\n",
              " ('the', 'DT'),\n",
              " ('confrontation', 'NN'),\n",
              " ('between', 'IN'),\n",
              " ('the', 'DT'),\n",
              " ('main', 'JJ'),\n",
              " ('warring', 'NN'),\n",
              " ('groups', 'NNS'),\n",
              " ('and', 'CC'),\n",
              " ('factions', 'NNS'),\n",
              " (',', ','),\n",
              " ('which', 'WDT'),\n",
              " ('were', 'VBD'),\n",
              " ('the', 'DT'),\n",
              " ('Bolsheviks', 'NNP'),\n",
              " (',', ','),\n",
              " ('Monarchists', 'NNP'),\n",
              " (',', ','),\n",
              " ('Februarists', 'NNP'),\n",
              " (',', ','),\n",
              " ('Mensheviks', 'NNP'),\n",
              " (',', ','),\n",
              " ('Socialists', 'NNP'),\n",
              " (',', ','),\n",
              " ('Anarchists', 'NNP'),\n",
              " ('and', 'CC'),\n",
              " ('other', 'JJ'),\n",
              " ('scattered', 'JJ'),\n",
              " ('forces', 'NNS'),\n",
              " ('adhering', 'VBG'),\n",
              " ('to', 'TO'),\n",
              " ('various', 'JJ'),\n",
              " ('ideologies', 'NNS'),\n",
              " ('.', '.'),\n",
              " ('Read', 'VB'),\n",
              " ('more', 'JJR'),\n",
              " ('The', 'DT'),\n",
              " ('last', 'JJ'),\n",
              " ('Tsar', 'NN'),\n",
              " (':', ':'),\n",
              " ('How', 'WRB'),\n",
              " ('Russia', 'NNP'),\n",
              " ('commemorates', 'VBZ'),\n",
              " ('the', 'DT'),\n",
              " ('brutal', 'JJ'),\n",
              " ('communist', 'JJ'),\n",
              " ('murder', 'NN'),\n",
              " ('of', 'IN'),\n",
              " ('Emperor', 'NNP'),\n",
              " ('Nikolai', 'NNP'),\n",
              " ('II', 'NNP'),\n",
              " (\"'s\", 'POS'),\n",
              " ('family', 'NN'),\n",
              " ('The', 'DT'),\n",
              " ('theater', 'NN'),\n",
              " ('of', 'IN'),\n",
              " ('the', 'DT'),\n",
              " ('Russian', 'NNP'),\n",
              " ('Civil', 'NNP'),\n",
              " ('War', 'NNP'),\n",
              " ('looked', 'VBD'),\n",
              " ('very', 'RB'),\n",
              " ('much', 'JJ'),\n",
              " ('like', 'IN'),\n",
              " ('a', 'DT'),\n",
              " ('blood-covered', 'JJ'),\n",
              " ('patchwork', 'NN'),\n",
              " ('quilt', 'NN'),\n",
              " ('on', 'IN'),\n",
              " ('fire', 'NN'),\n",
              " (',', ','),\n",
              " ('with', 'IN'),\n",
              " ('short-lived', 'JJ'),\n",
              " ('state', 'NN'),\n",
              " ('entities', 'NNS'),\n",
              " ('appearing', 'VBG'),\n",
              " ('now', 'RB'),\n",
              " ('and', 'CC'),\n",
              " ('then', 'RB'),\n",
              " ('across', 'IN'),\n",
              " ('the', 'DT'),\n",
              " ('vast', 'JJ'),\n",
              " ('expanse', 'NN'),\n",
              " ('of', 'IN'),\n",
              " ('the', 'DT'),\n",
              " ('country', 'NN'),\n",
              " ('.', '.'),\n",
              " ('It', 'PRP'),\n",
              " ('was', 'VBD'),\n",
              " ('an', 'DT'),\n",
              " ('‘', 'JJ'),\n",
              " ('all-against-all', 'JJ'),\n",
              " ('’', 'NN'),\n",
              " ('kind', 'NN'),\n",
              " ('of', 'IN'),\n",
              " ('warfare', 'NN'),\n",
              " (',', ','),\n",
              " ('with', 'IN'),\n",
              " ('numerous', 'JJ'),\n",
              " ('coalitions', 'NNS'),\n",
              " ('and', 'CC'),\n",
              " ('alliances', 'NNS'),\n",
              " ('formed', 'VBN'),\n",
              " ('and', 'CC'),\n",
              " ('then', 'RB'),\n",
              " ('disbanded', 'VBD'),\n",
              " ('time', 'NN'),\n",
              " ('and', 'CC'),\n",
              " ('again', 'RB'),\n",
              " ('.', '.'),\n",
              " ('As', 'IN'),\n",
              " ('this', 'DT'),\n",
              " ('was', 'VBD'),\n",
              " ('happening', 'VBG'),\n",
              " (',', ','),\n",
              " ('however', 'RB'),\n",
              " (',', ','),\n",
              " ('the', 'DT'),\n",
              " ('Bolsheviks', 'NNP'),\n",
              " ('claimed', 'VBD'),\n",
              " ('more', 'JJR'),\n",
              " ('and', 'CC'),\n",
              " ('more', 'JJR'),\n",
              " ('Russian', 'JJ'),\n",
              " ('territory.And', 'NN'),\n",
              " ('the', 'DT'),\n",
              " ('Allied', 'NNP'),\n",
              " ('interventions', 'NNS'),\n",
              " ('–', 'VBP'),\n",
              " ('coming', 'VBG'),\n",
              " ('from', 'IN'),\n",
              " ('states', 'NNS'),\n",
              " ('that', 'WDT'),\n",
              " ('had', 'VBD'),\n",
              " ('previously', 'RB'),\n",
              " ('been', 'VBN'),\n",
              " ('friendly', 'JJ'),\n",
              " ('with', 'IN'),\n",
              " ('the', 'DT'),\n",
              " ('Russian', 'JJ'),\n",
              " ('Empire', 'NN'),\n",
              " ('and', 'CC'),\n",
              " ('were', 'VBD'),\n",
              " ('even', 'RB'),\n",
              " ('supposed', 'VBN'),\n",
              " ('to', 'TO'),\n",
              " ('help', 'VB'),\n",
              " ('it', 'PRP'),\n",
              " ('crush', 'VB'),\n",
              " ('the', 'DT'),\n",
              " ('Bolshevik', 'NNP'),\n",
              " ('regime', 'NN'),\n",
              " ('–', 'NNP'),\n",
              " ('took', 'VBD'),\n",
              " ('place', 'NN'),\n",
              " ('right', 'NN'),\n",
              " ('in', 'IN'),\n",
              " ('the', 'DT'),\n",
              " ('middle', 'NN'),\n",
              " ('of', 'IN'),\n",
              " ('all', 'PDT'),\n",
              " ('that', 'DT'),\n",
              " ('bloody', 'JJ'),\n",
              " ('chaos', 'NN'),\n",
              " ('.', '.'),\n",
              " ('But', 'CC'),\n",
              " ('instead', 'RB'),\n",
              " ('of', 'IN'),\n",
              " ('supporting', 'VBG'),\n",
              " ('Tsarist', 'NNP'),\n",
              " ('Russia', 'NNP'),\n",
              " (',', ','),\n",
              " ('their', 'PRP$'),\n",
              " ('course', 'NN'),\n",
              " ('of', 'IN'),\n",
              " ('action', 'NN'),\n",
              " ('ended', 'VBN'),\n",
              " ('up', 'RP'),\n",
              " ('serving', 'VBG'),\n",
              " ('the', 'DT'),\n",
              " ('Bolsheviks', 'NNP'),\n",
              " ('’', 'NNP'),\n",
              " ('goals.RT', 'NN'),\n",
              " ('looks', 'VBZ'),\n",
              " ('back', 'RB'),\n",
              " ('at', 'IN'),\n",
              " ('how', 'WRB'),\n",
              " ('the', 'DT'),\n",
              " ('global', 'JJ'),\n",
              " ('community', 'NN'),\n",
              " ('exploited', 'VBD'),\n",
              " ('the', 'DT'),\n",
              " (\"country's\", 'NN'),\n",
              " ('weakness', 'NN'),\n",
              " ('and', 'CC'),\n",
              " (',', ','),\n",
              " ('instead', 'RB'),\n",
              " ('of', 'IN'),\n",
              " ('trying', 'VBG'),\n",
              " ('to', 'TO'),\n",
              " ('disrupt', 'VB'),\n",
              " ('the', 'DT'),\n",
              " ('formation', 'NN'),\n",
              " ('of', 'IN'),\n",
              " ('a', 'DT'),\n",
              " ('state', 'NN'),\n",
              " ('that', 'WDT'),\n",
              " ('would', 'MD'),\n",
              " ('later', 'RB'),\n",
              " ('evolve', 'VB'),\n",
              " ('into', 'IN'),\n",
              " ('one', 'CD'),\n",
              " ('of', 'IN'),\n",
              " ('its', 'PRP$'),\n",
              " ('bitterest', 'JJS'),\n",
              " ('enemies', 'NNS'),\n",
              " (',', ','),\n",
              " ('on', 'IN'),\n",
              " ('the', 'DT'),\n",
              " ('ruins', 'NNS'),\n",
              " ('of', 'IN'),\n",
              " ('imperial', 'JJ'),\n",
              " ('Russia', 'NNP'),\n",
              " (',', ','),\n",
              " ('did', 'VBD'),\n",
              " ('its', 'PRP$'),\n",
              " ('best', 'JJS'),\n",
              " ('to', 'TO'),\n",
              " ('facilitate', 'VB'),\n",
              " ('the', 'DT'),\n",
              " ('process.It', 'NN'),\n",
              " ('all', 'DT'),\n",
              " ('started', 'VBD'),\n",
              " ('with', 'IN'),\n",
              " ('foreignersIt', 'NN'),\n",
              " ('’', 'NNP'),\n",
              " ('s', 'NN'),\n",
              " ('probably', 'RB'),\n",
              " ('no', 'DT'),\n",
              " ('coincidence', 'NN'),\n",
              " ('that', 'IN'),\n",
              " ('the', 'DT'),\n",
              " ('official', 'JJ'),\n",
              " ('start', 'NN'),\n",
              " ('date', 'NN'),\n",
              " ('of', 'IN'),\n",
              " ('the', 'DT'),\n",
              " ('Russian', 'NNP'),\n",
              " ('Civil', 'NNP'),\n",
              " ('War', 'NNP'),\n",
              " ('is', 'VBZ'),\n",
              " ('identified', 'VBN'),\n",
              " ('by', 'IN'),\n",
              " ('many', 'JJ'),\n",
              " ('historians', 'NNS'),\n",
              " ('as', 'IN'),\n",
              " ('the', 'DT'),\n",
              " ('revolt', 'NN'),\n",
              " ('of', 'IN'),\n",
              " ('the', 'DT'),\n",
              " ('Czechoslovak', 'NNP'),\n",
              " ('Legion', 'NNP'),\n",
              " ('–', 'NNP'),\n",
              " ('on', 'IN'),\n",
              " ('May', 'NNP'),\n",
              " ('17', 'CD'),\n",
              " (',', ','),\n",
              " ('1918', 'CD'),\n",
              " ('–', 'NNP'),\n",
              " ('even', 'RB'),\n",
              " ('though', 'IN'),\n",
              " ('by', 'IN'),\n",
              " ('that', 'DT'),\n",
              " ('time', 'NN'),\n",
              " ('hostilities', 'NNS'),\n",
              " ('had', 'VBD'),\n",
              " ('already', 'RB'),\n",
              " ('been', 'VBN'),\n",
              " ('going', 'VBG'),\n",
              " ('in', 'IN'),\n",
              " ('the', 'DT'),\n",
              " ('south', 'NN'),\n",
              " ('for', 'IN'),\n",
              " ('a', 'DT'),\n",
              " ('few', 'JJ'),\n",
              " ('months.The', 'NN'),\n",
              " ('Czechoslovak', 'NNP'),\n",
              " ('Legion', 'NNP'),\n",
              " ('was', 'VBD'),\n",
              " ('a', 'DT'),\n",
              " ('volunteer', 'NN'),\n",
              " ('armed', 'VBN'),\n",
              " ('force', 'NN'),\n",
              " ('with', 'IN'),\n",
              " ('the', 'DT'),\n",
              " ('Russian', 'JJ'),\n",
              " ('Imperial', 'NNP'),\n",
              " ('Army', 'NNP'),\n",
              " ('composed', 'VBD'),\n",
              " ('predominantly', 'RB'),\n",
              " ('of', 'IN'),\n",
              " ('Czechs', 'NNP'),\n",
              " ('and', 'CC'),\n",
              " ('Slovaks', 'NNP'),\n",
              " ('fighting', 'VBG'),\n",
              " ('on', 'IN'),\n",
              " ('the', 'DT'),\n",
              " ('side', 'NN'),\n",
              " ('of', 'IN'),\n",
              " ('the', 'DT'),\n",
              " ('Entente', 'NNP'),\n",
              " ('powers', 'NNS'),\n",
              " ('during', 'IN'),\n",
              " ('World', 'NNP'),\n",
              " ('War', 'NNP'),\n",
              " ('I', 'PRP'),\n",
              " ('.', '.'),\n",
              " ('In', 'IN'),\n",
              " ('the', 'DT'),\n",
              " ('fall', 'NN'),\n",
              " ('of', 'IN'),\n",
              " ('1917', 'CD'),\n",
              " (',', ','),\n",
              " ('the', 'DT'),\n",
              " ('Russian', 'JJ'),\n",
              " ('Provisional', 'JJ'),\n",
              " ('Government', 'NNP'),\n",
              " ('granted', 'VBD'),\n",
              " ('the', 'DT'),\n",
              " ('group', 'NN'),\n",
              " ('permission', 'NN'),\n",
              " ('to', 'TO'),\n",
              " ('increase', 'VB'),\n",
              " ('its', 'PRP$'),\n",
              " ('force', 'NN'),\n",
              " ('by', 'IN'),\n",
              " ('enlisting', 'VBG'),\n",
              " ('Czech', 'NNP'),\n",
              " ('and', 'CC'),\n",
              " ('Slovak', 'NNP'),\n",
              " ('prisoners', 'NNS'),\n",
              " ('of', 'IN'),\n",
              " ('war', 'NN'),\n",
              " ('and', 'CC'),\n",
              " ('deserters', 'NNS'),\n",
              " ('from', 'IN'),\n",
              " ('the', 'DT'),\n",
              " ('Austro-Hungarian', 'JJ'),\n",
              " ('Army', 'NNP'),\n",
              " (',', ','),\n",
              " ('many', 'JJ'),\n",
              " ('of', 'IN'),\n",
              " ('whom', 'WP'),\n",
              " ('wished', 'VBD'),\n",
              " ('to', 'TO'),\n",
              " ('fight', 'VB'),\n",
              " ('the', 'DT'),\n",
              " ('Austro-Hungarian', 'JJ'),\n",
              " ('Empire', 'NN'),\n",
              " ('for', 'IN'),\n",
              " ('the', 'DT'),\n",
              " ('independence', 'NN'),\n",
              " ('of', 'IN'),\n",
              " ('their', 'PRP$'),\n",
              " ('homelands', 'NNS'),\n",
              " ('and', 'CC'),\n",
              " ('gladly', 'RB'),\n",
              " ('joined', 'VBD'),\n",
              " ('the', 'DT'),\n",
              " ('Russians', 'NNPS'),\n",
              " ('.', '.'),\n",
              " ('Personnel', 'NNS'),\n",
              " ('of', 'IN'),\n",
              " ('the', 'DT'),\n",
              " ('1st', 'CD'),\n",
              " ('Czechoslovakian', 'JJ'),\n",
              " ('corps', 'NN'),\n",
              " ('listen', 'NN'),\n",
              " ('to', 'TO'),\n",
              " ('award', 'VB'),\n",
              " ('ordinance', 'NN'),\n",
              " ('.', '.'),\n",
              " ('©', 'CC'),\n",
              " ('Sputnik', 'NNP'),\n",
              " ('/', 'NNP'),\n",
              " ('Nikolai', 'NNP'),\n",
              " ('Yeronin', 'NNP'),\n",
              " ('The', 'DT'),\n",
              " ('decision', 'NN'),\n",
              " ('backfired', 'VBD'),\n",
              " ('after', 'IN'),\n",
              " ('the', 'DT'),\n",
              " ('October', 'NNP'),\n",
              " ('Revolution', 'NNP'),\n",
              " ('ended', 'VBD'),\n",
              " ('the', 'DT'),\n",
              " ('Provisional', 'JJ'),\n",
              " ('Government', 'NNP'),\n",
              " ('and', 'CC'),\n",
              " ('the', 'DT'),\n",
              " ('Bolsheviks', 'NNP'),\n",
              " ('moved', 'VBD'),\n",
              " ('to', 'TO'),\n",
              " ('sign', 'VB'),\n",
              " ('a', 'DT'),\n",
              " ('separate', 'JJ'),\n",
              " ('peace', 'NN'),\n",
              " ('treaty', 'NN'),\n",
              " ('with', 'IN'),\n",
              " ('the', 'DT'),\n",
              " ('Central', 'NNP'),\n",
              " ('Powers', 'NNPS'),\n",
              " (',', ','),\n",
              " ('thus', 'RB'),\n",
              " ('effectively', 'RB'),\n",
              " ('undoing', 'VBG'),\n",
              " ('a', 'DT'),\n",
              " ('lot', 'NN'),\n",
              " ('of', 'IN'),\n",
              " ('the', 'DT'),\n",
              " ('Russian', 'NNP'),\n",
              " ('Empire', 'NNP'),\n",
              " ('’', 'NNP'),\n",
              " ('s', 'VBD'),\n",
              " ('achievements', 'NNS'),\n",
              " ('of', 'IN'),\n",
              " ('the', 'DT'),\n",
              " ('previous', 'JJ'),\n",
              " ('decades', 'NNS'),\n",
              " ('.', '.'),\n",
              " ('The', 'DT'),\n",
              " ('Czechs', 'NNP'),\n",
              " ('hurried', 'VBD'),\n",
              " ('to', 'TO'),\n",
              " ('denounce', 'VB'),\n",
              " ('the', 'DT'),\n",
              " ('new', 'JJ'),\n",
              " ('revolution', 'NN'),\n",
              " ('and', 'CC'),\n",
              " ('declare', 'VB'),\n",
              " ('their', 'PRP$'),\n",
              " ('support', 'NN'),\n",
              " ('for', 'IN'),\n",
              " ('the', 'DT'),\n",
              " ('deposed', 'JJ'),\n",
              " ('government.Thus', 'NN'),\n",
              " (',', ','),\n",
              " ('formally', 'RB'),\n",
              " (',', ','),\n",
              " ('the', 'DT'),\n",
              " ('Czechs', 'NNP'),\n",
              " ('turned', 'VBD'),\n",
              " ('against', 'IN'),\n",
              " ('the', 'DT'),\n",
              " ('Bolsheviks', 'NNP'),\n",
              " (',', ','),\n",
              " ('but', 'CC'),\n",
              " ('it', 'PRP'),\n",
              " ('became', 'VBD'),\n",
              " ('clear', 'JJ'),\n",
              " ('over', 'IN'),\n",
              " ('the', 'DT'),\n",
              " ('course', 'NN'),\n",
              " ('of', 'IN'),\n",
              " ('the', 'DT'),\n",
              " ('conflict', 'NN'),\n",
              " ('that', 'IN'),\n",
              " ('they', 'PRP'),\n",
              " ('were', 'VBD'),\n",
              " ('primarily', 'RB'),\n",
              " ('fighting', 'VBG'),\n",
              " ('for', 'IN'),\n",
              " ('themselves', 'PRP'),\n",
              " ('rather', 'RB'),\n",
              " ('than', 'IN'),\n",
              " ('for', 'IN'),\n",
              " ('any', 'DT'),\n",
              " ('other', 'JJ'),\n",
              " ('cause', 'NN'),\n",
              " ('.', '.'),\n",
              " ('Read', 'VB'),\n",
              " ('more', 'JJR'),\n",
              " ('Ukraine', 'NNP'),\n",
              " (\"'s\", 'POS'),\n",
              " ('most', 'JJS'),\n",
              " ('nationalist', 'JJ'),\n",
              " ('region', 'NN'),\n",
              " ('was', 'VBD'),\n",
              " ('once', 'RB'),\n",
              " ('a', 'DT'),\n",
              " ('hotbed', 'NN'),\n",
              " ('of', 'IN'),\n",
              " ('pro-Russian', 'JJ'),\n",
              " ('sentiment', 'NN'),\n",
              " ('–', 'NNP'),\n",
              " ('how', 'WRB'),\n",
              " ('and', 'CC'),\n",
              " ('why', 'WRB'),\n",
              " ('did', 'VBD'),\n",
              " ('it', 'PRP'),\n",
              " ('change', 'VB'),\n",
              " ('?', '.'),\n",
              " ('First', 'NNP'),\n",
              " (',', ','),\n",
              " ('the', 'DT'),\n",
              " ('Czechoslovak', 'NNP'),\n",
              " ('Legion', 'NNP'),\n",
              " ('was', 'VBD'),\n",
              " ('swiftly', 'RB'),\n",
              " ('reassigned', 'VBN'),\n",
              " ('to', 'TO'),\n",
              " ('the', 'DT'),\n",
              " ('command', 'NN'),\n",
              " ('of', 'IN'),\n",
              " ('Paris', 'NNP'),\n",
              " ('and', 'CC'),\n",
              " ('effectively', 'RB'),\n",
              " ('became', 'VBD'),\n",
              " ('a', 'DT'),\n",
              " ('part', 'NN'),\n",
              " ('of', 'IN'),\n",
              " ('the', 'DT'),\n",
              " ('French', 'JJ'),\n",
              " ('army', 'NN'),\n",
              " ('.', '.'),\n",
              " ('Second', 'NNP'),\n",
              " (',', ','),\n",
              " ('one', 'CD'),\n",
              " ('of', 'IN'),\n",
              " ('the', 'DT'),\n",
              " ('founders', 'NNS'),\n",
              " ('and', 'CC'),\n",
              " ('leaders', 'NNS'),\n",
              " ('of', 'IN'),\n",
              " ('the', 'DT'),\n",
              " ('Legion', 'NNP'),\n",
              " (',', ','),\n",
              " ('Tomas', 'NNP'),\n",
              " ('Masaryk', 'NNP'),\n",
              " (',', ','),\n",
              " ('who', 'WP'),\n",
              " ('was', 'VBD'),\n",
              " ('also', 'RB'),\n",
              " ('the', 'DT'),\n",
              " ('future', 'NN'),\n",
              " ('first', 'JJ'),\n",
              " ('president', 'NN'),\n",
              " ('of', 'IN'),\n",
              " ('Czechoslovakia', 'NNP'),\n",
              " (',', ','),\n",
              " ('was', 'VBD'),\n",
              " ('actively', 'RB'),\n",
              " ('involved', 'VBN'),\n",
              " ('in', 'IN'),\n",
              " ('negotiations', 'NNS'),\n",
              " ('with', 'IN'),\n",
              " ('all', 'DT'),\n",
              " ('parties', 'NNS'),\n",
              " ('to', 'TO'),\n",
              " ('the', 'DT'),\n",
              " ('Russian', 'NNP'),\n",
              " ('Civil', 'NNP'),\n",
              " ('War', 'NNP'),\n",
              " ('.', '.'),\n",
              " ('He', 'PRP'),\n",
              " ('abstained', 'VBD'),\n",
              " ('from', 'IN'),\n",
              " ('siding', 'VBG'),\n",
              " ('with', 'IN'),\n",
              " ('the', 'DT'),\n",
              " ('White', 'NNP'),\n",
              " ('movement', 'NN'),\n",
              " (',', ','),\n",
              " ('tried', 'VBN'),\n",
              " ('to', 'TO'),\n",
              " ('forge', 'VB'),\n",
              " ('a', 'DT'),\n",
              " ('relationship', 'NN'),\n",
              " ('with', 'IN'),\n",
              " ('the', 'DT'),\n",
              " ('Bolsheviks', 'NNP'),\n",
              " ('and', 'CC'),\n",
              " ('even', 'RB'),\n",
              " ('allowed', 'VBD'),\n",
              " ('Communist', 'JJ'),\n",
              " ('propaganda', 'NN'),\n",
              " ('in', 'IN'),\n",
              " ('the', 'DT'),\n",
              " ('Legion', 'NNP'),\n",
              " ('’', 'NNP'),\n",
              " ('s', 'VBD'),\n",
              " ('units.The', 'JJ'),\n",
              " ('Legion', 'NNP'),\n",
              " (',', ','),\n",
              " ('which', 'WDT'),\n",
              " ('was', 'VBD'),\n",
              " ('stationed', 'VBN'),\n",
              " ('at', 'IN'),\n",
              " ('the', 'DT'),\n",
              " ('time', 'NN'),\n",
              " ('on', 'IN'),\n",
              " ('the', 'DT'),\n",
              " ('territory', 'NN'),\n",
              " ('of', 'IN'),\n",
              " ('modern', 'JJ'),\n",
              " ('Ukraine', 'NNP'),\n",
              " (',', ','),\n",
              " ('was', 'VBD'),\n",
              " ('eager', 'JJ'),\n",
              " ('to', 'TO'),\n",
              " ('leave', 'VB'),\n",
              " ('Russia', 'NNP'),\n",
              " ('for', 'IN'),\n",
              " ('France', 'NNP'),\n",
              " (',', ','),\n",
              " ('but', 'CC'),\n",
              " ('that', 'DT'),\n",
              " ('plan', 'NN'),\n",
              " ('was', 'VBD'),\n",
              " ('foiled', 'VBN'),\n",
              " ('by', 'IN'),\n",
              " ('the', 'DT'),\n",
              " ('Treaty', 'NNP'),\n",
              " ('of', 'IN'),\n",
              " ('Brest-Litovsk', 'NNP'),\n",
              " (',', ','),\n",
              " ('which', 'WDT'),\n",
              " ('ceded', 'VBD'),\n",
              " ('a', 'DT'),\n",
              " ('large', 'JJ'),\n",
              " ('chunk', 'NN'),\n",
              " ('of', 'IN'),\n",
              " ('the', 'DT'),\n",
              " ...]"
            ]
          },
          "metadata": {},
          "execution_count": 85
        }
      ]
    },
    {
      "cell_type": "code",
      "source": [
        "from spacy.lang.ru import Russian\n",
        "nlp = Russian()\n",
        "doc = nlp(\"Зеленский попросил у Евросоюза $38 млрд на 2023 год\")\n",
        "print(doc)\n",
        "for ent in doc:\n",
        "    print(ent.text)"
      ],
      "metadata": {
        "colab": {
          "base_uri": "https://localhost:8080/"
        },
        "id": "FoDDcktlLGyi",
        "outputId": "7d30da85-c004-4bb0-a817-f718f51f5380"
      },
      "execution_count": 87,
      "outputs": [
        {
          "output_type": "stream",
          "name": "stdout",
          "text": [
            "Зеленский попросил у Евросоюза $38 млрд на 2023 год\n",
            "Зеленский\n",
            "попросил\n",
            "у\n",
            "Евросоюза\n",
            "$\n",
            "38\n",
            "млрд\n",
            "на\n",
            "2023\n",
            "год\n"
          ]
        }
      ]
    },
    {
      "cell_type": "code",
      "source": [
        "!python -m spacy download ru_core_news_lg"
      ],
      "metadata": {
        "colab": {
          "base_uri": "https://localhost:8080/"
        },
        "id": "2YpKbwlDL-dd",
        "outputId": "2c0f27b2-d2dc-4026-d76f-fae8ed4837d2"
      },
      "execution_count": 89,
      "outputs": [
        {
          "output_type": "stream",
          "name": "stdout",
          "text": [
            "2022-10-25 12:48:36.149406: E tensorflow/stream_executor/cuda/cuda_driver.cc:271] failed call to cuInit: CUDA_ERROR_NO_DEVICE: no CUDA-capable device is detected\n",
            "Looking in indexes: https://pypi.org/simple, https://us-python.pkg.dev/colab-wheels/public/simple/\n",
            "Collecting ru-core-news-lg==3.4.0\n",
            "  Downloading https://github.com/explosion/spacy-models/releases/download/ru_core_news_lg-3.4.0/ru_core_news_lg-3.4.0-py3-none-any.whl (513.4 MB)\n",
            "\u001b[K     |████████████████████████████████| 513.4 MB 14 kB/s \n",
            "\u001b[?25hCollecting pymorphy2>=0.9\n",
            "  Downloading pymorphy2-0.9.1-py3-none-any.whl (55 kB)\n",
            "\u001b[K     |████████████████████████████████| 55 kB 2.1 MB/s \n",
            "\u001b[?25hRequirement already satisfied: spacy<3.5.0,>=3.4.0 in /usr/local/lib/python3.7/dist-packages (from ru-core-news-lg==3.4.0) (3.4.1)\n",
            "Collecting pymorphy2-dicts-ru<3.0,>=2.4\n",
            "  Downloading pymorphy2_dicts_ru-2.4.417127.4579844-py2.py3-none-any.whl (8.2 MB)\n",
            "\u001b[K     |████████████████████████████████| 8.2 MB 9.5 MB/s \n",
            "\u001b[?25hCollecting dawg-python>=0.7.1\n",
            "  Downloading DAWG_Python-0.7.2-py2.py3-none-any.whl (11 kB)\n",
            "Collecting docopt>=0.6\n",
            "  Downloading docopt-0.6.2.tar.gz (25 kB)\n",
            "Requirement already satisfied: srsly<3.0.0,>=2.4.3 in /usr/local/lib/python3.7/dist-packages (from spacy<3.5.0,>=3.4.0->ru-core-news-lg==3.4.0) (2.4.4)\n",
            "Requirement already satisfied: tqdm<5.0.0,>=4.38.0 in /usr/local/lib/python3.7/dist-packages (from spacy<3.5.0,>=3.4.0->ru-core-news-lg==3.4.0) (4.64.1)\n",
            "Requirement already satisfied: requests<3.0.0,>=2.13.0 in /usr/local/lib/python3.7/dist-packages (from spacy<3.5.0,>=3.4.0->ru-core-news-lg==3.4.0) (2.23.0)\n",
            "Requirement already satisfied: murmurhash<1.1.0,>=0.28.0 in /usr/local/lib/python3.7/dist-packages (from spacy<3.5.0,>=3.4.0->ru-core-news-lg==3.4.0) (1.0.9)\n",
            "Requirement already satisfied: thinc<8.2.0,>=8.1.0 in /usr/local/lib/python3.7/dist-packages (from spacy<3.5.0,>=3.4.0->ru-core-news-lg==3.4.0) (8.1.4)\n",
            "Requirement already satisfied: packaging>=20.0 in /usr/local/lib/python3.7/dist-packages (from spacy<3.5.0,>=3.4.0->ru-core-news-lg==3.4.0) (21.3)\n",
            "Requirement already satisfied: jinja2 in /usr/local/lib/python3.7/dist-packages (from spacy<3.5.0,>=3.4.0->ru-core-news-lg==3.4.0) (2.11.3)\n",
            "Requirement already satisfied: spacy-loggers<2.0.0,>=1.0.0 in /usr/local/lib/python3.7/dist-packages (from spacy<3.5.0,>=3.4.0->ru-core-news-lg==3.4.0) (1.0.3)\n",
            "Requirement already satisfied: pathy>=0.3.5 in /usr/local/lib/python3.7/dist-packages (from spacy<3.5.0,>=3.4.0->ru-core-news-lg==3.4.0) (0.6.2)\n",
            "Requirement already satisfied: typer<0.5.0,>=0.3.0 in /usr/local/lib/python3.7/dist-packages (from spacy<3.5.0,>=3.4.0->ru-core-news-lg==3.4.0) (0.4.2)\n",
            "Requirement already satisfied: setuptools in /usr/local/lib/python3.7/dist-packages (from spacy<3.5.0,>=3.4.0->ru-core-news-lg==3.4.0) (57.4.0)\n",
            "Requirement already satisfied: wasabi<1.1.0,>=0.9.1 in /usr/local/lib/python3.7/dist-packages (from spacy<3.5.0,>=3.4.0->ru-core-news-lg==3.4.0) (0.10.1)\n",
            "Requirement already satisfied: numpy>=1.15.0 in /usr/local/lib/python3.7/dist-packages (from spacy<3.5.0,>=3.4.0->ru-core-news-lg==3.4.0) (1.21.6)\n",
            "Requirement already satisfied: langcodes<4.0.0,>=3.2.0 in /usr/local/lib/python3.7/dist-packages (from spacy<3.5.0,>=3.4.0->ru-core-news-lg==3.4.0) (3.3.0)\n",
            "Requirement already satisfied: pydantic!=1.8,!=1.8.1,<1.10.0,>=1.7.4 in /usr/local/lib/python3.7/dist-packages (from spacy<3.5.0,>=3.4.0->ru-core-news-lg==3.4.0) (1.9.2)\n",
            "Requirement already satisfied: spacy-legacy<3.1.0,>=3.0.9 in /usr/local/lib/python3.7/dist-packages (from spacy<3.5.0,>=3.4.0->ru-core-news-lg==3.4.0) (3.0.10)\n",
            "Requirement already satisfied: preshed<3.1.0,>=3.0.2 in /usr/local/lib/python3.7/dist-packages (from spacy<3.5.0,>=3.4.0->ru-core-news-lg==3.4.0) (3.0.8)\n",
            "Requirement already satisfied: typing-extensions<4.2.0,>=3.7.4 in /usr/local/lib/python3.7/dist-packages (from spacy<3.5.0,>=3.4.0->ru-core-news-lg==3.4.0) (4.1.1)\n",
            "Requirement already satisfied: catalogue<2.1.0,>=2.0.6 in /usr/local/lib/python3.7/dist-packages (from spacy<3.5.0,>=3.4.0->ru-core-news-lg==3.4.0) (2.0.8)\n",
            "Requirement already satisfied: cymem<2.1.0,>=2.0.2 in /usr/local/lib/python3.7/dist-packages (from spacy<3.5.0,>=3.4.0->ru-core-news-lg==3.4.0) (2.0.7)\n",
            "Requirement already satisfied: zipp>=0.5 in /usr/local/lib/python3.7/dist-packages (from catalogue<2.1.0,>=2.0.6->spacy<3.5.0,>=3.4.0->ru-core-news-lg==3.4.0) (3.9.0)\n",
            "Requirement already satisfied: pyparsing!=3.0.5,>=2.0.2 in /usr/local/lib/python3.7/dist-packages (from packaging>=20.0->spacy<3.5.0,>=3.4.0->ru-core-news-lg==3.4.0) (3.0.9)\n",
            "Requirement already satisfied: smart-open<6.0.0,>=5.2.1 in /usr/local/lib/python3.7/dist-packages (from pathy>=0.3.5->spacy<3.5.0,>=3.4.0->ru-core-news-lg==3.4.0) (5.2.1)\n",
            "Requirement already satisfied: certifi>=2017.4.17 in /usr/local/lib/python3.7/dist-packages (from requests<3.0.0,>=2.13.0->spacy<3.5.0,>=3.4.0->ru-core-news-lg==3.4.0) (2022.9.24)\n",
            "Requirement already satisfied: urllib3!=1.25.0,!=1.25.1,<1.26,>=1.21.1 in /usr/local/lib/python3.7/dist-packages (from requests<3.0.0,>=2.13.0->spacy<3.5.0,>=3.4.0->ru-core-news-lg==3.4.0) (1.24.3)\n",
            "Requirement already satisfied: chardet<4,>=3.0.2 in /usr/local/lib/python3.7/dist-packages (from requests<3.0.0,>=2.13.0->spacy<3.5.0,>=3.4.0->ru-core-news-lg==3.4.0) (3.0.4)\n",
            "Requirement already satisfied: idna<3,>=2.5 in /usr/local/lib/python3.7/dist-packages (from requests<3.0.0,>=2.13.0->spacy<3.5.0,>=3.4.0->ru-core-news-lg==3.4.0) (2.10)\n",
            "Requirement already satisfied: confection<1.0.0,>=0.0.1 in /usr/local/lib/python3.7/dist-packages (from thinc<8.2.0,>=8.1.0->spacy<3.5.0,>=3.4.0->ru-core-news-lg==3.4.0) (0.0.3)\n",
            "Requirement already satisfied: blis<0.8.0,>=0.7.8 in /usr/local/lib/python3.7/dist-packages (from thinc<8.2.0,>=8.1.0->spacy<3.5.0,>=3.4.0->ru-core-news-lg==3.4.0) (0.7.8)\n",
            "Requirement already satisfied: click<9.0.0,>=7.1.1 in /usr/local/lib/python3.7/dist-packages (from typer<0.5.0,>=0.3.0->spacy<3.5.0,>=3.4.0->ru-core-news-lg==3.4.0) (7.1.2)\n",
            "Requirement already satisfied: MarkupSafe>=0.23 in /usr/local/lib/python3.7/dist-packages (from jinja2->spacy<3.5.0,>=3.4.0->ru-core-news-lg==3.4.0) (2.0.1)\n",
            "Building wheels for collected packages: docopt\n",
            "  Building wheel for docopt (setup.py) ... \u001b[?25l\u001b[?25hdone\n",
            "  Created wheel for docopt: filename=docopt-0.6.2-py2.py3-none-any.whl size=13723 sha256=8af3e4b7725478d172ab7f89c70c385335ecc6bd28826303c6651ac098eee06d\n",
            "  Stored in directory: /root/.cache/pip/wheels/72/b0/3f/1d95f96ff986c7dfffe46ce2be4062f38ebd04b506c77c81b9\n",
            "Successfully built docopt\n",
            "Installing collected packages: pymorphy2-dicts-ru, docopt, dawg-python, pymorphy2, ru-core-news-lg\n",
            "Successfully installed dawg-python-0.7.2 docopt-0.6.2 pymorphy2-0.9.1 pymorphy2-dicts-ru-2.4.417127.4579844 ru-core-news-lg-3.4.0\n",
            "\u001b[38;5;2m✔ Download and installation successful\u001b[0m\n",
            "You can now load the package via spacy.load('ru_core_news_lg')\n"
          ]
        }
      ]
    },
    {
      "cell_type": "code",
      "source": [
        "import spacy\n",
        "from spacy import displacy\n",
        "import ru_core_news_lg"
      ],
      "metadata": {
        "id": "XDaHSaTbLbGs"
      },
      "execution_count": 90,
      "outputs": []
    },
    {
      "cell_type": "code",
      "source": [
        "nlp = spacy.load('ru_core_news_lg')\n",
        "doc = nlp(\"Зеленский попросил у Евросоюза $38 млрд на 2023 год\")\n",
        "\n",
        "print(doc, doc.ents)\n",
        "\n",
        "for token in doc:\n",
        "    print(token.text, token.pos_, token.dep_)  \n",
        "\n",
        "displacy.render(doc, jupyter=True, style='dep')"
      ],
      "metadata": {
        "colab": {
          "base_uri": "https://localhost:8080/",
          "height": 823
        },
        "id": "0aFQBIbWL5Ew",
        "outputId": "fc2ab456-f1f7-4cbd-b24e-d8b4bc58fbe1"
      },
      "execution_count": 91,
      "outputs": [
        {
          "output_type": "stream",
          "name": "stdout",
          "text": [
            "Зеленский попросил у Евросоюза $38 млрд на 2023 год (Зеленский, Евросоюза)\n",
            "Зеленский PROPN nsubj\n",
            "попросил VERB ROOT\n",
            "у ADP case\n",
            "Евросоюза PROPN obl\n",
            "$ SYM obj\n",
            "38 NUM nummod\n",
            "млрд NOUN obj\n",
            "на ADP case\n",
            "2023 ADJ amod\n",
            "год NOUN obl\n"
          ]
        },
        {
          "output_type": "display_data",
          "data": {
            "text/plain": [
              "<IPython.core.display.HTML object>"
            ],
            "text/html": [
              "<span class=\"tex2jax_ignore\"><svg xmlns=\"http://www.w3.org/2000/svg\" xmlns:xlink=\"http://www.w3.org/1999/xlink\" xml:lang=\"ru\" id=\"daff823d5a70463ca45902b447a53620-0\" class=\"displacy\" width=\"1800\" height=\"574.5\" direction=\"ltr\" style=\"max-width: none; height: 574.5px; color: #000000; background: #ffffff; font-family: Arial; direction: ltr\">\n",
              "<text class=\"displacy-token\" fill=\"currentColor\" text-anchor=\"middle\" y=\"484.5\">\n",
              "    <tspan class=\"displacy-word\" fill=\"currentColor\" x=\"50\">Зеленский</tspan>\n",
              "    <tspan class=\"displacy-tag\" dy=\"2em\" fill=\"currentColor\" x=\"50\">PROPN</tspan>\n",
              "</text>\n",
              "\n",
              "<text class=\"displacy-token\" fill=\"currentColor\" text-anchor=\"middle\" y=\"484.5\">\n",
              "    <tspan class=\"displacy-word\" fill=\"currentColor\" x=\"225\">попросил</tspan>\n",
              "    <tspan class=\"displacy-tag\" dy=\"2em\" fill=\"currentColor\" x=\"225\">VERB</tspan>\n",
              "</text>\n",
              "\n",
              "<text class=\"displacy-token\" fill=\"currentColor\" text-anchor=\"middle\" y=\"484.5\">\n",
              "    <tspan class=\"displacy-word\" fill=\"currentColor\" x=\"400\">у</tspan>\n",
              "    <tspan class=\"displacy-tag\" dy=\"2em\" fill=\"currentColor\" x=\"400\">ADP</tspan>\n",
              "</text>\n",
              "\n",
              "<text class=\"displacy-token\" fill=\"currentColor\" text-anchor=\"middle\" y=\"484.5\">\n",
              "    <tspan class=\"displacy-word\" fill=\"currentColor\" x=\"575\">Евросоюза</tspan>\n",
              "    <tspan class=\"displacy-tag\" dy=\"2em\" fill=\"currentColor\" x=\"575\">PROPN</tspan>\n",
              "</text>\n",
              "\n",
              "<text class=\"displacy-token\" fill=\"currentColor\" text-anchor=\"middle\" y=\"484.5\">\n",
              "    <tspan class=\"displacy-word\" fill=\"currentColor\" x=\"750\">$</tspan>\n",
              "    <tspan class=\"displacy-tag\" dy=\"2em\" fill=\"currentColor\" x=\"750\">SYM</tspan>\n",
              "</text>\n",
              "\n",
              "<text class=\"displacy-token\" fill=\"currentColor\" text-anchor=\"middle\" y=\"484.5\">\n",
              "    <tspan class=\"displacy-word\" fill=\"currentColor\" x=\"925\">38</tspan>\n",
              "    <tspan class=\"displacy-tag\" dy=\"2em\" fill=\"currentColor\" x=\"925\">NUM</tspan>\n",
              "</text>\n",
              "\n",
              "<text class=\"displacy-token\" fill=\"currentColor\" text-anchor=\"middle\" y=\"484.5\">\n",
              "    <tspan class=\"displacy-word\" fill=\"currentColor\" x=\"1100\">млрд</tspan>\n",
              "    <tspan class=\"displacy-tag\" dy=\"2em\" fill=\"currentColor\" x=\"1100\">NOUN</tspan>\n",
              "</text>\n",
              "\n",
              "<text class=\"displacy-token\" fill=\"currentColor\" text-anchor=\"middle\" y=\"484.5\">\n",
              "    <tspan class=\"displacy-word\" fill=\"currentColor\" x=\"1275\">на</tspan>\n",
              "    <tspan class=\"displacy-tag\" dy=\"2em\" fill=\"currentColor\" x=\"1275\">ADP</tspan>\n",
              "</text>\n",
              "\n",
              "<text class=\"displacy-token\" fill=\"currentColor\" text-anchor=\"middle\" y=\"484.5\">\n",
              "    <tspan class=\"displacy-word\" fill=\"currentColor\" x=\"1450\">2023</tspan>\n",
              "    <tspan class=\"displacy-tag\" dy=\"2em\" fill=\"currentColor\" x=\"1450\">ADJ</tspan>\n",
              "</text>\n",
              "\n",
              "<text class=\"displacy-token\" fill=\"currentColor\" text-anchor=\"middle\" y=\"484.5\">\n",
              "    <tspan class=\"displacy-word\" fill=\"currentColor\" x=\"1625\">год</tspan>\n",
              "    <tspan class=\"displacy-tag\" dy=\"2em\" fill=\"currentColor\" x=\"1625\">NOUN</tspan>\n",
              "</text>\n",
              "\n",
              "<g class=\"displacy-arrow\">\n",
              "    <path class=\"displacy-arc\" id=\"arrow-daff823d5a70463ca45902b447a53620-0-0\" stroke-width=\"2px\" d=\"M70,439.5 C70,352.0 205.0,352.0 205.0,439.5\" fill=\"none\" stroke=\"currentColor\"/>\n",
              "    <text dy=\"1.25em\" style=\"font-size: 0.8em; letter-spacing: 1px\">\n",
              "        <textPath xlink:href=\"#arrow-daff823d5a70463ca45902b447a53620-0-0\" class=\"displacy-label\" startOffset=\"50%\" side=\"left\" fill=\"currentColor\" text-anchor=\"middle\">nsubj</textPath>\n",
              "    </text>\n",
              "    <path class=\"displacy-arrowhead\" d=\"M70,441.5 L62,429.5 78,429.5\" fill=\"currentColor\"/>\n",
              "</g>\n",
              "\n",
              "<g class=\"displacy-arrow\">\n",
              "    <path class=\"displacy-arc\" id=\"arrow-daff823d5a70463ca45902b447a53620-0-1\" stroke-width=\"2px\" d=\"M420,439.5 C420,352.0 555.0,352.0 555.0,439.5\" fill=\"none\" stroke=\"currentColor\"/>\n",
              "    <text dy=\"1.25em\" style=\"font-size: 0.8em; letter-spacing: 1px\">\n",
              "        <textPath xlink:href=\"#arrow-daff823d5a70463ca45902b447a53620-0-1\" class=\"displacy-label\" startOffset=\"50%\" side=\"left\" fill=\"currentColor\" text-anchor=\"middle\">case</textPath>\n",
              "    </text>\n",
              "    <path class=\"displacy-arrowhead\" d=\"M420,441.5 L412,429.5 428,429.5\" fill=\"currentColor\"/>\n",
              "</g>\n",
              "\n",
              "<g class=\"displacy-arrow\">\n",
              "    <path class=\"displacy-arc\" id=\"arrow-daff823d5a70463ca45902b447a53620-0-2\" stroke-width=\"2px\" d=\"M245,439.5 C245,264.5 560.0,264.5 560.0,439.5\" fill=\"none\" stroke=\"currentColor\"/>\n",
              "    <text dy=\"1.25em\" style=\"font-size: 0.8em; letter-spacing: 1px\">\n",
              "        <textPath xlink:href=\"#arrow-daff823d5a70463ca45902b447a53620-0-2\" class=\"displacy-label\" startOffset=\"50%\" side=\"left\" fill=\"currentColor\" text-anchor=\"middle\">obl</textPath>\n",
              "    </text>\n",
              "    <path class=\"displacy-arrowhead\" d=\"M560.0,441.5 L568.0,429.5 552.0,429.5\" fill=\"currentColor\"/>\n",
              "</g>\n",
              "\n",
              "<g class=\"displacy-arrow\">\n",
              "    <path class=\"displacy-arc\" id=\"arrow-daff823d5a70463ca45902b447a53620-0-3\" stroke-width=\"2px\" d=\"M245,439.5 C245,177.0 740.0,177.0 740.0,439.5\" fill=\"none\" stroke=\"currentColor\"/>\n",
              "    <text dy=\"1.25em\" style=\"font-size: 0.8em; letter-spacing: 1px\">\n",
              "        <textPath xlink:href=\"#arrow-daff823d5a70463ca45902b447a53620-0-3\" class=\"displacy-label\" startOffset=\"50%\" side=\"left\" fill=\"currentColor\" text-anchor=\"middle\">obj</textPath>\n",
              "    </text>\n",
              "    <path class=\"displacy-arrowhead\" d=\"M740.0,441.5 L748.0,429.5 732.0,429.5\" fill=\"currentColor\"/>\n",
              "</g>\n",
              "\n",
              "<g class=\"displacy-arrow\">\n",
              "    <path class=\"displacy-arc\" id=\"arrow-daff823d5a70463ca45902b447a53620-0-4\" stroke-width=\"2px\" d=\"M945,439.5 C945,352.0 1080.0,352.0 1080.0,439.5\" fill=\"none\" stroke=\"currentColor\"/>\n",
              "    <text dy=\"1.25em\" style=\"font-size: 0.8em; letter-spacing: 1px\">\n",
              "        <textPath xlink:href=\"#arrow-daff823d5a70463ca45902b447a53620-0-4\" class=\"displacy-label\" startOffset=\"50%\" side=\"left\" fill=\"currentColor\" text-anchor=\"middle\">nummod</textPath>\n",
              "    </text>\n",
              "    <path class=\"displacy-arrowhead\" d=\"M945,441.5 L937,429.5 953,429.5\" fill=\"currentColor\"/>\n",
              "</g>\n",
              "\n",
              "<g class=\"displacy-arrow\">\n",
              "    <path class=\"displacy-arc\" id=\"arrow-daff823d5a70463ca45902b447a53620-0-5\" stroke-width=\"2px\" d=\"M245,439.5 C245,89.5 1095.0,89.5 1095.0,439.5\" fill=\"none\" stroke=\"currentColor\"/>\n",
              "    <text dy=\"1.25em\" style=\"font-size: 0.8em; letter-spacing: 1px\">\n",
              "        <textPath xlink:href=\"#arrow-daff823d5a70463ca45902b447a53620-0-5\" class=\"displacy-label\" startOffset=\"50%\" side=\"left\" fill=\"currentColor\" text-anchor=\"middle\">obj</textPath>\n",
              "    </text>\n",
              "    <path class=\"displacy-arrowhead\" d=\"M1095.0,441.5 L1103.0,429.5 1087.0,429.5\" fill=\"currentColor\"/>\n",
              "</g>\n",
              "\n",
              "<g class=\"displacy-arrow\">\n",
              "    <path class=\"displacy-arc\" id=\"arrow-daff823d5a70463ca45902b447a53620-0-6\" stroke-width=\"2px\" d=\"M1295,439.5 C1295,264.5 1610.0,264.5 1610.0,439.5\" fill=\"none\" stroke=\"currentColor\"/>\n",
              "    <text dy=\"1.25em\" style=\"font-size: 0.8em; letter-spacing: 1px\">\n",
              "        <textPath xlink:href=\"#arrow-daff823d5a70463ca45902b447a53620-0-6\" class=\"displacy-label\" startOffset=\"50%\" side=\"left\" fill=\"currentColor\" text-anchor=\"middle\">case</textPath>\n",
              "    </text>\n",
              "    <path class=\"displacy-arrowhead\" d=\"M1295,441.5 L1287,429.5 1303,429.5\" fill=\"currentColor\"/>\n",
              "</g>\n",
              "\n",
              "<g class=\"displacy-arrow\">\n",
              "    <path class=\"displacy-arc\" id=\"arrow-daff823d5a70463ca45902b447a53620-0-7\" stroke-width=\"2px\" d=\"M1470,439.5 C1470,352.0 1605.0,352.0 1605.0,439.5\" fill=\"none\" stroke=\"currentColor\"/>\n",
              "    <text dy=\"1.25em\" style=\"font-size: 0.8em; letter-spacing: 1px\">\n",
              "        <textPath xlink:href=\"#arrow-daff823d5a70463ca45902b447a53620-0-7\" class=\"displacy-label\" startOffset=\"50%\" side=\"left\" fill=\"currentColor\" text-anchor=\"middle\">amod</textPath>\n",
              "    </text>\n",
              "    <path class=\"displacy-arrowhead\" d=\"M1470,441.5 L1462,429.5 1478,429.5\" fill=\"currentColor\"/>\n",
              "</g>\n",
              "\n",
              "<g class=\"displacy-arrow\">\n",
              "    <path class=\"displacy-arc\" id=\"arrow-daff823d5a70463ca45902b447a53620-0-8\" stroke-width=\"2px\" d=\"M245,439.5 C245,2.0 1625.0,2.0 1625.0,439.5\" fill=\"none\" stroke=\"currentColor\"/>\n",
              "    <text dy=\"1.25em\" style=\"font-size: 0.8em; letter-spacing: 1px\">\n",
              "        <textPath xlink:href=\"#arrow-daff823d5a70463ca45902b447a53620-0-8\" class=\"displacy-label\" startOffset=\"50%\" side=\"left\" fill=\"currentColor\" text-anchor=\"middle\">obl</textPath>\n",
              "    </text>\n",
              "    <path class=\"displacy-arrowhead\" d=\"M1625.0,441.5 L1633.0,429.5 1617.0,429.5\" fill=\"currentColor\"/>\n",
              "</g>\n",
              "</svg></span>"
            ]
          },
          "metadata": {}
        }
      ]
    },
    {
      "cell_type": "code",
      "source": [
        "!python -m spacy download en_core_web_sm"
      ],
      "metadata": {
        "colab": {
          "base_uri": "https://localhost:8080/"
        },
        "id": "YJ-VbmooMSrd",
        "outputId": "5b5ccf9b-c19a-4bf2-a834-46e645aa8541"
      },
      "execution_count": 92,
      "outputs": [
        {
          "output_type": "stream",
          "name": "stdout",
          "text": [
            "2022-10-25 12:51:05.916669: E tensorflow/stream_executor/cuda/cuda_driver.cc:271] failed call to cuInit: CUDA_ERROR_NO_DEVICE: no CUDA-capable device is detected\n",
            "Looking in indexes: https://pypi.org/simple, https://us-python.pkg.dev/colab-wheels/public/simple/\n",
            "Collecting en-core-web-sm==3.4.1\n",
            "  Downloading https://github.com/explosion/spacy-models/releases/download/en_core_web_sm-3.4.1/en_core_web_sm-3.4.1-py3-none-any.whl (12.8 MB)\n",
            "\u001b[K     |████████████████████████████████| 12.8 MB 5.4 MB/s \n",
            "\u001b[?25hRequirement already satisfied: spacy<3.5.0,>=3.4.0 in /usr/local/lib/python3.7/dist-packages (from en-core-web-sm==3.4.1) (3.4.1)\n",
            "Requirement already satisfied: murmurhash<1.1.0,>=0.28.0 in /usr/local/lib/python3.7/dist-packages (from spacy<3.5.0,>=3.4.0->en-core-web-sm==3.4.1) (1.0.9)\n",
            "Requirement already satisfied: preshed<3.1.0,>=3.0.2 in /usr/local/lib/python3.7/dist-packages (from spacy<3.5.0,>=3.4.0->en-core-web-sm==3.4.1) (3.0.8)\n",
            "Requirement already satisfied: tqdm<5.0.0,>=4.38.0 in /usr/local/lib/python3.7/dist-packages (from spacy<3.5.0,>=3.4.0->en-core-web-sm==3.4.1) (4.64.1)\n",
            "Requirement already satisfied: cymem<2.1.0,>=2.0.2 in /usr/local/lib/python3.7/dist-packages (from spacy<3.5.0,>=3.4.0->en-core-web-sm==3.4.1) (2.0.7)\n",
            "Requirement already satisfied: wasabi<1.1.0,>=0.9.1 in /usr/local/lib/python3.7/dist-packages (from spacy<3.5.0,>=3.4.0->en-core-web-sm==3.4.1) (0.10.1)\n",
            "Requirement already satisfied: catalogue<2.1.0,>=2.0.6 in /usr/local/lib/python3.7/dist-packages (from spacy<3.5.0,>=3.4.0->en-core-web-sm==3.4.1) (2.0.8)\n",
            "Requirement already satisfied: spacy-legacy<3.1.0,>=3.0.9 in /usr/local/lib/python3.7/dist-packages (from spacy<3.5.0,>=3.4.0->en-core-web-sm==3.4.1) (3.0.10)\n",
            "Requirement already satisfied: numpy>=1.15.0 in /usr/local/lib/python3.7/dist-packages (from spacy<3.5.0,>=3.4.0->en-core-web-sm==3.4.1) (1.21.6)\n",
            "Requirement already satisfied: pathy>=0.3.5 in /usr/local/lib/python3.7/dist-packages (from spacy<3.5.0,>=3.4.0->en-core-web-sm==3.4.1) (0.6.2)\n",
            "Requirement already satisfied: setuptools in /usr/local/lib/python3.7/dist-packages (from spacy<3.5.0,>=3.4.0->en-core-web-sm==3.4.1) (57.4.0)\n",
            "Requirement already satisfied: requests<3.0.0,>=2.13.0 in /usr/local/lib/python3.7/dist-packages (from spacy<3.5.0,>=3.4.0->en-core-web-sm==3.4.1) (2.23.0)\n",
            "Requirement already satisfied: langcodes<4.0.0,>=3.2.0 in /usr/local/lib/python3.7/dist-packages (from spacy<3.5.0,>=3.4.0->en-core-web-sm==3.4.1) (3.3.0)\n",
            "Requirement already satisfied: thinc<8.2.0,>=8.1.0 in /usr/local/lib/python3.7/dist-packages (from spacy<3.5.0,>=3.4.0->en-core-web-sm==3.4.1) (8.1.4)\n",
            "Requirement already satisfied: jinja2 in /usr/local/lib/python3.7/dist-packages (from spacy<3.5.0,>=3.4.0->en-core-web-sm==3.4.1) (2.11.3)\n",
            "Requirement already satisfied: typer<0.5.0,>=0.3.0 in /usr/local/lib/python3.7/dist-packages (from spacy<3.5.0,>=3.4.0->en-core-web-sm==3.4.1) (0.4.2)\n",
            "Requirement already satisfied: spacy-loggers<2.0.0,>=1.0.0 in /usr/local/lib/python3.7/dist-packages (from spacy<3.5.0,>=3.4.0->en-core-web-sm==3.4.1) (1.0.3)\n",
            "Requirement already satisfied: pydantic!=1.8,!=1.8.1,<1.10.0,>=1.7.4 in /usr/local/lib/python3.7/dist-packages (from spacy<3.5.0,>=3.4.0->en-core-web-sm==3.4.1) (1.9.2)\n",
            "Requirement already satisfied: typing-extensions<4.2.0,>=3.7.4 in /usr/local/lib/python3.7/dist-packages (from spacy<3.5.0,>=3.4.0->en-core-web-sm==3.4.1) (4.1.1)\n",
            "Requirement already satisfied: srsly<3.0.0,>=2.4.3 in /usr/local/lib/python3.7/dist-packages (from spacy<3.5.0,>=3.4.0->en-core-web-sm==3.4.1) (2.4.4)\n",
            "Requirement already satisfied: packaging>=20.0 in /usr/local/lib/python3.7/dist-packages (from spacy<3.5.0,>=3.4.0->en-core-web-sm==3.4.1) (21.3)\n",
            "Requirement already satisfied: zipp>=0.5 in /usr/local/lib/python3.7/dist-packages (from catalogue<2.1.0,>=2.0.6->spacy<3.5.0,>=3.4.0->en-core-web-sm==3.4.1) (3.9.0)\n",
            "Requirement already satisfied: pyparsing!=3.0.5,>=2.0.2 in /usr/local/lib/python3.7/dist-packages (from packaging>=20.0->spacy<3.5.0,>=3.4.0->en-core-web-sm==3.4.1) (3.0.9)\n",
            "Requirement already satisfied: smart-open<6.0.0,>=5.2.1 in /usr/local/lib/python3.7/dist-packages (from pathy>=0.3.5->spacy<3.5.0,>=3.4.0->en-core-web-sm==3.4.1) (5.2.1)\n",
            "Requirement already satisfied: urllib3!=1.25.0,!=1.25.1,<1.26,>=1.21.1 in /usr/local/lib/python3.7/dist-packages (from requests<3.0.0,>=2.13.0->spacy<3.5.0,>=3.4.0->en-core-web-sm==3.4.1) (1.24.3)\n",
            "Requirement already satisfied: idna<3,>=2.5 in /usr/local/lib/python3.7/dist-packages (from requests<3.0.0,>=2.13.0->spacy<3.5.0,>=3.4.0->en-core-web-sm==3.4.1) (2.10)\n",
            "Requirement already satisfied: certifi>=2017.4.17 in /usr/local/lib/python3.7/dist-packages (from requests<3.0.0,>=2.13.0->spacy<3.5.0,>=3.4.0->en-core-web-sm==3.4.1) (2022.9.24)\n",
            "Requirement already satisfied: chardet<4,>=3.0.2 in /usr/local/lib/python3.7/dist-packages (from requests<3.0.0,>=2.13.0->spacy<3.5.0,>=3.4.0->en-core-web-sm==3.4.1) (3.0.4)\n",
            "Requirement already satisfied: confection<1.0.0,>=0.0.1 in /usr/local/lib/python3.7/dist-packages (from thinc<8.2.0,>=8.1.0->spacy<3.5.0,>=3.4.0->en-core-web-sm==3.4.1) (0.0.3)\n",
            "Requirement already satisfied: blis<0.8.0,>=0.7.8 in /usr/local/lib/python3.7/dist-packages (from thinc<8.2.0,>=8.1.0->spacy<3.5.0,>=3.4.0->en-core-web-sm==3.4.1) (0.7.8)\n",
            "Requirement already satisfied: click<9.0.0,>=7.1.1 in /usr/local/lib/python3.7/dist-packages (from typer<0.5.0,>=0.3.0->spacy<3.5.0,>=3.4.0->en-core-web-sm==3.4.1) (7.1.2)\n",
            "Requirement already satisfied: MarkupSafe>=0.23 in /usr/local/lib/python3.7/dist-packages (from jinja2->spacy<3.5.0,>=3.4.0->en-core-web-sm==3.4.1) (2.0.1)\n",
            "\u001b[38;5;2m✔ Download and installation successful\u001b[0m\n",
            "You can now load the package via spacy.load('en_core_web_sm')\n"
          ]
        }
      ]
    },
    {
      "cell_type": "code",
      "source": [
        "txt = 'One hundred years ago, on October 25, 1922, the Russian Civil War drew to a close. It was on that day that the Provisional Priamurye Government in the Russian Far East, the last anti-Bolshevik Russian state enclave, ceased to exist.' + \\\n",
        "'The remnants of the White movement left Vladivostok. By that time, the territory of the former Russian Empire was almost entirely controlled by the Bolsheviks, although islands of resistance continued popping up sporadically in various parts of the country for several more years.'\n",
        "\n"
      ],
      "metadata": {
        "id": "eN_46pOnMjQn"
      },
      "execution_count": 96,
      "outputs": []
    },
    {
      "cell_type": "code",
      "source": [
        "txt"
      ],
      "metadata": {
        "colab": {
          "base_uri": "https://localhost:8080/",
          "height": 131
        },
        "id": "3Z4SaIB0NIjY",
        "outputId": "d712902c-0832-4075-fd9a-1b0ac6dff12b"
      },
      "execution_count": 97,
      "outputs": [
        {
          "output_type": "execute_result",
          "data": {
            "text/plain": [
              "'One hundred years ago, on October 25, 1922, the Russian Civil War drew to a close. It was on that day that the Provisional Priamurye Government in the Russian Far East, the last anti-Bolshevik Russian state enclave, ceased to exist.The remnants of the White movement left Vladivostok. By that time, the territory of the former Russian Empire was almost entirely controlled by the Bolsheviks, although islands of resistance continued popping up sporadically in various parts of the country for several more years.'"
            ],
            "application/vnd.google.colaboratory.intrinsic+json": {
              "type": "string"
            }
          },
          "metadata": {},
          "execution_count": 97
        }
      ]
    },
    {
      "cell_type": "code",
      "source": [
        "import en_core_web_md\n",
        "\n",
        "nlp = spacy.load('en_core_web_sm')\n",
        "\n",
        "article = nlp(txt)\n",
        "displacy.render(article, jupyter=True, style='ent')"
      ],
      "metadata": {
        "colab": {
          "base_uri": "https://localhost:8080/",
          "height": 192
        },
        "id": "2lXOrZ3zNdvJ",
        "outputId": "5d0d772b-5ea9-4eb4-8e11-a9f654201754"
      },
      "execution_count": 100,
      "outputs": [
        {
          "output_type": "display_data",
          "data": {
            "text/plain": [
              "<IPython.core.display.HTML object>"
            ],
            "text/html": [
              "<span class=\"tex2jax_ignore\"><div class=\"entities\" style=\"line-height: 2.5; direction: ltr\">\n",
              "<mark class=\"entity\" style=\"background: #bfe1d9; padding: 0.45em 0.6em; margin: 0 0.25em; line-height: 1; border-radius: 0.35em;\">\n",
              "    One hundred years ago\n",
              "    <span style=\"font-size: 0.8em; font-weight: bold; line-height: 1; border-radius: 0.35em; vertical-align: middle; margin-left: 0.5rem\">DATE</span>\n",
              "</mark>\n",
              ", on \n",
              "<mark class=\"entity\" style=\"background: #bfe1d9; padding: 0.45em 0.6em; margin: 0 0.25em; line-height: 1; border-radius: 0.35em;\">\n",
              "    October 25, 1922\n",
              "    <span style=\"font-size: 0.8em; font-weight: bold; line-height: 1; border-radius: 0.35em; vertical-align: middle; margin-left: 0.5rem\">DATE</span>\n",
              "</mark>\n",
              ", \n",
              "<mark class=\"entity\" style=\"background: #7aecec; padding: 0.45em 0.6em; margin: 0 0.25em; line-height: 1; border-radius: 0.35em;\">\n",
              "    the Russian Civil War\n",
              "    <span style=\"font-size: 0.8em; font-weight: bold; line-height: 1; border-radius: 0.35em; vertical-align: middle; margin-left: 0.5rem\">ORG</span>\n",
              "</mark>\n",
              " drew to a close. It was on \n",
              "<mark class=\"entity\" style=\"background: #bfe1d9; padding: 0.45em 0.6em; margin: 0 0.25em; line-height: 1; border-radius: 0.35em;\">\n",
              "    that day\n",
              "    <span style=\"font-size: 0.8em; font-weight: bold; line-height: 1; border-radius: 0.35em; vertical-align: middle; margin-left: 0.5rem\">DATE</span>\n",
              "</mark>\n",
              " that \n",
              "<mark class=\"entity\" style=\"background: #7aecec; padding: 0.45em 0.6em; margin: 0 0.25em; line-height: 1; border-radius: 0.35em;\">\n",
              "    the Provisional Priamurye Government\n",
              "    <span style=\"font-size: 0.8em; font-weight: bold; line-height: 1; border-radius: 0.35em; vertical-align: middle; margin-left: 0.5rem\">ORG</span>\n",
              "</mark>\n",
              " in the \n",
              "<mark class=\"entity\" style=\"background: #c887fb; padding: 0.45em 0.6em; margin: 0 0.25em; line-height: 1; border-radius: 0.35em;\">\n",
              "    Russian\n",
              "    <span style=\"font-size: 0.8em; font-weight: bold; line-height: 1; border-radius: 0.35em; vertical-align: middle; margin-left: 0.5rem\">NORP</span>\n",
              "</mark>\n",
              " Far East, the last anti-Bolshevik \n",
              "<mark class=\"entity\" style=\"background: #c887fb; padding: 0.45em 0.6em; margin: 0 0.25em; line-height: 1; border-radius: 0.35em;\">\n",
              "    Russian\n",
              "    <span style=\"font-size: 0.8em; font-weight: bold; line-height: 1; border-radius: 0.35em; vertical-align: middle; margin-left: 0.5rem\">NORP</span>\n",
              "</mark>\n",
              " state enclave, ceased to exist.The remnants of the White movement left \n",
              "<mark class=\"entity\" style=\"background: #aa9cfc; padding: 0.45em 0.6em; margin: 0 0.25em; line-height: 1; border-radius: 0.35em;\">\n",
              "    Vladivostok\n",
              "    <span style=\"font-size: 0.8em; font-weight: bold; line-height: 1; border-radius: 0.35em; vertical-align: middle; margin-left: 0.5rem\">PERSON</span>\n",
              "</mark>\n",
              ". By that time, the territory of the former \n",
              "<mark class=\"entity\" style=\"background: #feca74; padding: 0.45em 0.6em; margin: 0 0.25em; line-height: 1; border-radius: 0.35em;\">\n",
              "    Russian Empire\n",
              "    <span style=\"font-size: 0.8em; font-weight: bold; line-height: 1; border-radius: 0.35em; vertical-align: middle; margin-left: 0.5rem\">GPE</span>\n",
              "</mark>\n",
              " was almost entirely controlled by the \n",
              "<mark class=\"entity\" style=\"background: #feca74; padding: 0.45em 0.6em; margin: 0 0.25em; line-height: 1; border-radius: 0.35em;\">\n",
              "    Bolsheviks\n",
              "    <span style=\"font-size: 0.8em; font-weight: bold; line-height: 1; border-radius: 0.35em; vertical-align: middle; margin-left: 0.5rem\">GPE</span>\n",
              "</mark>\n",
              ", although islands of resistance continued popping up sporadically in various parts of the country for \n",
              "<mark class=\"entity\" style=\"background: #bfe1d9; padding: 0.45em 0.6em; margin: 0 0.25em; line-height: 1; border-radius: 0.35em;\">\n",
              "    several more years\n",
              "    <span style=\"font-size: 0.8em; font-weight: bold; line-height: 1; border-radius: 0.35em; vertical-align: middle; margin-left: 0.5rem\">DATE</span>\n",
              "</mark>\n",
              ".</div></span>"
            ]
          },
          "metadata": {}
        }
      ]
    },
    {
      "cell_type": "code",
      "source": [],
      "metadata": {
        "id": "e9iKZeH3NpYS"
      },
      "execution_count": null,
      "outputs": []
    }
  ]
}