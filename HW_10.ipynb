{
  "nbformat": 4,
  "nbformat_minor": 0,
  "metadata": {
    "colab": {
      "provenance": []
    },
    "kernelspec": {
      "name": "python3",
      "display_name": "Python 3"
    },
    "language_info": {
      "name": "python"
    },
    "accelerator": "GPU",
    "gpuClass": "standard"
  },
  "cells": [
    {
      "cell_type": "code",
      "execution_count": 1,
      "metadata": {
        "id": "d-Dn3VGuqx_t"
      },
      "outputs": [],
      "source": [
        "import tensorflow as tf\n",
        "\n",
        "import matplotlib.pyplot as plt\n",
        "import matplotlib.ticker as ticker\n",
        "from sklearn.model_selection import train_test_split\n",
        "\n",
        "import unicodedata\n",
        "import re\n",
        "import numpy as np\n",
        "import os\n",
        "import io\n",
        "import time"
      ]
    },
    {
      "cell_type": "markdown",
      "source": [
        "### Download and prepare the dataset\n",
        "#### We'll use a language dataset provided by http://www.manythings.org/anki/"
      ],
      "metadata": {
        "id": "YKh6n6MAq5dn"
      }
    },
    {
      "cell_type": "code",
      "source": [
        "!wget !wget http://www.manythings.org/anki/rus-eng.zip"
      ],
      "metadata": {
        "colab": {
          "base_uri": "https://localhost:8080/"
        },
        "id": "0m0iG3Nkq8vh",
        "outputId": "da15b7fd-91a0-4fc2-8e76-cbe3c939eb8f"
      },
      "execution_count": 2,
      "outputs": [
        {
          "output_type": "stream",
          "name": "stdout",
          "text": [
            "--2022-12-05 05:50:10--  http://!wget/\n",
            "Resolving !wget (!wget)... failed: Name or service not known.\n",
            "wget: unable to resolve host address ‘!wget’\n",
            "--2022-12-05 05:50:10--  http://www.manythings.org/anki/rus-eng.zip\n",
            "Resolving www.manythings.org (www.manythings.org)... 173.254.30.110\n",
            "Connecting to www.manythings.org (www.manythings.org)|173.254.30.110|:80... connected.\n",
            "HTTP request sent, awaiting response... 200 OK\n",
            "Length: 15011848 (14M) [application/zip]\n",
            "Saving to: ‘rus-eng.zip’\n",
            "\n",
            "rus-eng.zip         100%[===================>]  14.32M  6.27MB/s    in 2.3s    \n",
            "\n",
            "2022-12-05 05:50:13 (6.27 MB/s) - ‘rus-eng.zip’ saved [15011848/15011848]\n",
            "\n",
            "FINISHED --2022-12-05 05:50:13--\n",
            "Total wall clock time: 2.8s\n",
            "Downloaded: 1 files, 14M in 2.3s (6.27 MB/s)\n"
          ]
        }
      ]
    },
    {
      "cell_type": "code",
      "source": [
        "!mkdir rus-eng\n",
        "!unzip rus-eng.zip -d rus-eng/"
      ],
      "metadata": {
        "colab": {
          "base_uri": "https://localhost:8080/"
        },
        "id": "ltv6eTnTrNh5",
        "outputId": "09563a31-f5f5-4a2e-942a-4b5c4179b1ea"
      },
      "execution_count": 3,
      "outputs": [
        {
          "output_type": "stream",
          "name": "stdout",
          "text": [
            "Archive:  rus-eng.zip\n",
            "  inflating: rus-eng/rus.txt         \n",
            "  inflating: rus-eng/_about.txt      \n"
          ]
        }
      ]
    },
    {
      "cell_type": "code",
      "source": [
        "!ls /content/rus-eng/ -lah"
      ],
      "metadata": {
        "colab": {
          "base_uri": "https://localhost:8080/"
        },
        "id": "cV4fwgXTrRYd",
        "outputId": "98c5e0f6-c3b9-43c4-ce1d-25153a0b85bf"
      },
      "execution_count": 4,
      "outputs": [
        {
          "output_type": "stream",
          "name": "stdout",
          "text": [
            "total 72M\n",
            "drwxr-xr-x 2 root root 4.0K Dec  5 05:50 .\n",
            "drwxr-xr-x 1 root root 4.0K Dec  5 05:50 ..\n",
            "-rw-r--r-- 1 root root 1.5K Sep  6 03:10 _about.txt\n",
            "-rw-r--r-- 1 root root  72M Sep  6 03:10 rus.txt\n"
          ]
        }
      ]
    },
    {
      "cell_type": "code",
      "source": [
        "# Download the file\n",
        "path_to_file = \"/content/rus-eng/rus.txt\""
      ],
      "metadata": {
        "id": "cGdZ-3TTrb1v"
      },
      "execution_count": 5,
      "outputs": []
    },
    {
      "cell_type": "code",
      "source": [
        "def preprocess_sentence(w):\n",
        "  w = w.lower().strip()\n",
        "\n",
        "  # creating a space between a word and the punctuation following it\n",
        "  # eg: \"he is a boy.\" => \"he is a boy .\"\n",
        "  # Reference:- https://stackoverflow.com/questions/3645931/python-padding-punctuation-with-white-spaces-keeping-punctuation\n",
        "  w = re.sub(r\"([?.!,])\", r\" \\1 \", w)\n",
        "  w = re.sub(r'[\" \"]+', \" \", w)\n",
        "\n",
        "  # replacing everything with space except (a-z, A-Z, \".\", \"?\", \"!\", \",\")\n",
        "  w = re.sub(r\"[^a-zA-Zа-яА-Я?.!,']+\", \" \", w)\n",
        "\n",
        "  w = w.strip()\n",
        "\n",
        "  # adding a start and an end token to the sentence\n",
        "  # so that the model know when to start and stop predicting.\n",
        "  w = '<start> ' + w + ' <end>'\n",
        "  return w"
      ],
      "metadata": {
        "id": "L10tHpKjrf88"
      },
      "execution_count": 6,
      "outputs": []
    },
    {
      "cell_type": "code",
      "source": [
        "preprocess_sentence(\"I can't go.\")"
      ],
      "metadata": {
        "colab": {
          "base_uri": "https://localhost:8080/",
          "height": 36
        },
        "id": "8WqdxfqSr6tr",
        "outputId": "2da15f4c-9d6a-488e-b4d3-ff47a7f066eb"
      },
      "execution_count": 7,
      "outputs": [
        {
          "output_type": "execute_result",
          "data": {
            "text/plain": [
              "\"<start> i can't go . <end>\""
            ],
            "application/vnd.google.colaboratory.intrinsic+json": {
              "type": "string"
            }
          },
          "metadata": {},
          "execution_count": 7
        }
      ]
    },
    {
      "cell_type": "code",
      "source": [
        "# 1. Remove the accents\n",
        "# 2. Clean the sentences\n",
        "# 3. Return word pairs in the format: [ENG, RUS]\n",
        "def create_dataset(path, num_examples):\n",
        "  lines = io.open(path, encoding='UTF-8').read().strip().split('\\n')\n",
        "\n",
        "  word_pairs = [[preprocess_sentence(w) for w in l.split('\\t')[:2]]  for l in lines[:num_examples]]\n",
        "\n",
        "  return zip(*word_pairs)"
      ],
      "metadata": {
        "id": "6HEuiqlNsByZ"
      },
      "execution_count": 8,
      "outputs": []
    },
    {
      "cell_type": "code",
      "source": [
        "en, ru = create_dataset(path_to_file, None)\n",
        "print(en[0])\n",
        "print(ru[0])"
      ],
      "metadata": {
        "colab": {
          "base_uri": "https://localhost:8080/"
        },
        "id": "DGRBeU__sTyl",
        "outputId": "ee7f73cd-d047-4302-c6cf-dab843c3e622"
      },
      "execution_count": 9,
      "outputs": [
        {
          "output_type": "stream",
          "name": "stdout",
          "text": [
            "<start> go . <end>\n",
            "<start> марш ! <end>\n"
          ]
        }
      ]
    },
    {
      "cell_type": "code",
      "source": [
        "def tokenize(lang):\n",
        "  lang_tokenizer = tf.keras.preprocessing.text.Tokenizer(\n",
        "      filters='')\n",
        "  lang_tokenizer.fit_on_texts(lang)\n",
        "\n",
        "  tensor = lang_tokenizer.texts_to_sequences(lang)\n",
        "\n",
        "  tensor = tf.keras.preprocessing.sequence.pad_sequences(tensor,\n",
        "                                                         padding='post')\n",
        "\n",
        "  return tensor, lang_tokenizer"
      ],
      "metadata": {
        "id": "W4SgU0zhsbW9"
      },
      "execution_count": 10,
      "outputs": []
    },
    {
      "cell_type": "code",
      "source": [
        "len(en), len(ru)"
      ],
      "metadata": {
        "colab": {
          "base_uri": "https://localhost:8080/"
        },
        "id": "1gFRxU4Cs1o2",
        "outputId": "0077b081-9dbb-4381-a470-6a5c2f5c9f9a"
      },
      "execution_count": 11,
      "outputs": [
        {
          "output_type": "execute_result",
          "data": {
            "text/plain": [
              "(451436, 451436)"
            ]
          },
          "metadata": {},
          "execution_count": 11
        }
      ]
    },
    {
      "cell_type": "code",
      "source": [
        "def load_dataset(path, num_examples=None):\n",
        "  # creating cleaned input, output pairs\n",
        "  targ_lang, inp_lang = create_dataset(path, num_examples)\n",
        "\n",
        "  input_tensor, inp_lang_tokenizer = tokenize(inp_lang)\n",
        "  target_tensor, targ_lang_tokenizer = tokenize(targ_lang)\n",
        "\n",
        "  return input_tensor, target_tensor, inp_lang_tokenizer, targ_lang_tokenizer"
      ],
      "metadata": {
        "id": "na7QKiJvs6Mb"
      },
      "execution_count": 12,
      "outputs": []
    },
    {
      "cell_type": "markdown",
      "source": [
        "### Limit the size of the dataset to experiment faster (optional)"
      ],
      "metadata": {
        "id": "oflB3imAtniq"
      }
    },
    {
      "cell_type": "code",
      "source": [
        "# Try experimenting with the size of that dataset\n",
        "num_examples = 100000\n",
        "input_tensor, target_tensor, inp_lang, targ_lang = load_dataset(path_to_file, num_examples)\n",
        "\n",
        "# Calculate max_length of the target tensors\n",
        "max_length_targ, max_length_inp = target_tensor.shape[1], input_tensor.shape[1]"
      ],
      "metadata": {
        "id": "9rSTTxdttsYb"
      },
      "execution_count": 13,
      "outputs": []
    },
    {
      "cell_type": "code",
      "source": [
        "max_length_targ, max_length_inp"
      ],
      "metadata": {
        "colab": {
          "base_uri": "https://localhost:8080/"
        },
        "id": "6uN4Y0DTtymC",
        "outputId": "046ed7a2-02f6-4191-fdb6-3279df2a87aa"
      },
      "execution_count": 14,
      "outputs": [
        {
          "output_type": "execute_result",
          "data": {
            "text/plain": [
              "(11, 15)"
            ]
          },
          "metadata": {},
          "execution_count": 14
        }
      ]
    },
    {
      "cell_type": "code",
      "source": [
        "# Creating training and validation sets using an 80-20 split\n",
        "input_tensor_train, input_tensor_val, target_tensor_train, target_tensor_val = train_test_split(input_tensor, target_tensor, test_size=0.2)\n",
        "\n",
        "# Show length\n",
        "print(len(input_tensor_train), len(target_tensor_train), len(input_tensor_val), len(target_tensor_val))"
      ],
      "metadata": {
        "colab": {
          "base_uri": "https://localhost:8080/"
        },
        "id": "_DZLZieEt4JD",
        "outputId": "9cfc4826-383a-4c15-f66f-8e97e1325c52"
      },
      "execution_count": 15,
      "outputs": [
        {
          "output_type": "stream",
          "name": "stdout",
          "text": [
            "80000 80000 20000 20000\n"
          ]
        }
      ]
    },
    {
      "cell_type": "code",
      "source": [
        "def convert(lang, tensor):\n",
        "  for t in tensor:\n",
        "    if t!=0:\n",
        "      print (\"%d ----> %s\" % (t, lang.index_word[t]))"
      ],
      "metadata": {
        "id": "JItQSTH3t7Ej"
      },
      "execution_count": 16,
      "outputs": []
    },
    {
      "cell_type": "code",
      "source": [
        "print (\"Input Language; index to word mapping\")\n",
        "convert(inp_lang, input_tensor_train[0])\n",
        "print ()\n",
        "print (\"Target Language; index to word mapping\")\n",
        "convert(targ_lang, target_tensor_train[0])"
      ],
      "metadata": {
        "colab": {
          "base_uri": "https://localhost:8080/"
        },
        "id": "27jRvTKSuDN_",
        "outputId": "e8d84248-71ae-4a81-def3-55f55e0cfd7a"
      },
      "execution_count": 17,
      "outputs": [
        {
          "output_type": "stream",
          "name": "stdout",
          "text": [
            "Input Language; index to word mapping\n",
            "1 ----> <start>\n",
            "4 ----> я\n",
            "27 ----> тебе\n",
            "7 ----> не\n",
            "1145 ----> враг\n",
            "3 ----> .\n",
            "2 ----> <end>\n",
            "\n",
            "Target Language; index to word mapping\n",
            "1 ----> <start>\n",
            "13 ----> i'm\n",
            "31 ----> not\n",
            "23 ----> your\n",
            "978 ----> enemy\n",
            "3 ----> .\n",
            "2 ----> <end>\n"
          ]
        }
      ]
    },
    {
      "cell_type": "markdown",
      "source": [
        "### Create a tf.data dataset"
      ],
      "metadata": {
        "id": "LEhauRsFuP0W"
      }
    },
    {
      "cell_type": "code",
      "source": [
        "BUFFER_SIZE = len(input_tensor_train)\n",
        "BATCH_SIZE = 64\n",
        "steps_per_epoch = len(input_tensor_train)//BATCH_SIZE\n",
        "embedding_dim = 300\n",
        "units = 1024\n",
        "vocab_inp_size = len(inp_lang.word_index)+1\n",
        "vocab_tar_size = len(targ_lang.word_index)+1\n",
        "\n",
        "dataset = tf.data.Dataset.from_tensor_slices((input_tensor_train, target_tensor_train)).shuffle(BUFFER_SIZE)\n",
        "dataset = dataset.batch(BATCH_SIZE, drop_remainder=True)"
      ],
      "metadata": {
        "id": "Ui9k-Xx_uR-R"
      },
      "execution_count": 18,
      "outputs": []
    },
    {
      "cell_type": "code",
      "source": [
        "example_input_batch, example_target_batch = next(iter(dataset))\n",
        "example_input_batch.shape, example_target_batch.shape"
      ],
      "metadata": {
        "colab": {
          "base_uri": "https://localhost:8080/"
        },
        "id": "qY1qDKb6uVTN",
        "outputId": "b100eeb7-5b61-41dc-d3d6-b331e34b1f6b"
      },
      "execution_count": 19,
      "outputs": [
        {
          "output_type": "execute_result",
          "data": {
            "text/plain": [
              "(TensorShape([64, 15]), TensorShape([64, 11]))"
            ]
          },
          "metadata": {},
          "execution_count": 19
        }
      ]
    },
    {
      "cell_type": "code",
      "source": [
        "class Encoder(tf.keras.Model):\n",
        "  def __init__(self, vocab_size, embedding_dim, enc_units, batch_sz):\n",
        "    super(Encoder, self).__init__()\n",
        "    self.batch_sz = batch_sz\n",
        "    self.enc_units = enc_units\n",
        "    self.embedding = tf.keras.layers.Embedding(vocab_size, embedding_dim)\n",
        "    self.gru = tf.keras.layers.GRU(self.enc_units,\n",
        "                                   return_sequences=False,\n",
        "                                   return_state=True,\n",
        "                                   recurrent_initializer='glorot_uniform')\n",
        "    \n",
        "\n",
        "  def call(self, x, hidden):\n",
        "    x = self.embedding(x)\n",
        "    output, state = self.gru(x, initial_state = hidden)\n",
        "    return state\n",
        "\n",
        "  def initialize_hidden_state(self):\n",
        "    return tf.zeros((self.batch_sz, self.enc_units))"
      ],
      "metadata": {
        "id": "KRq0TJFnuZaW"
      },
      "execution_count": 20,
      "outputs": []
    },
    {
      "cell_type": "markdown",
      "source": [
        "### Neural machine translation"
      ],
      "metadata": {
        "id": "MBWJCDyiuk85"
      }
    },
    {
      "cell_type": "code",
      "source": [
        "encoder = Encoder(vocab_inp_size, embedding_dim, units, BATCH_SIZE)\n",
        "\n",
        "# sample input\n",
        "sample_hidden = encoder.initialize_hidden_state()\n",
        "sample_hidden = encoder(example_input_batch, sample_hidden)\n",
        "# print ('Encoder output shape: (batch size, sequence length, units) {}'.format(sample_output.shape))\n",
        "print ('Encoder Hidden state shape: (batch size, units) {}'.format(sample_hidden.shape))"
      ],
      "metadata": {
        "colab": {
          "base_uri": "https://localhost:8080/"
        },
        "id": "noW_RoqxumEm",
        "outputId": "e8d7fdb6-13ae-4dad-bde2-057d07163812"
      },
      "execution_count": 21,
      "outputs": [
        {
          "output_type": "stream",
          "name": "stdout",
          "text": [
            "Encoder Hidden state shape: (batch size, units) (64, 1024)\n"
          ]
        }
      ]
    },
    {
      "cell_type": "code",
      "source": [
        "class Decoder(tf.keras.Model):\n",
        "  def __init__(self, vocab_size, embedding_dim, dec_units, batch_sz):\n",
        "    super(Decoder, self).__init__()\n",
        "    self.batch_sz = batch_sz\n",
        "    self.dec_units = dec_units\n",
        "    self.embedding = tf.keras.layers.Embedding(vocab_size, embedding_dim)\n",
        "    self.gru = tf.keras.layers.GRU(self.dec_units,\n",
        "                                   return_sequences=True,\n",
        "                                   return_state=True,\n",
        "                                   recurrent_initializer='glorot_uniform')\n",
        "    self.fc = tf.keras.layers.Dense(vocab_size)\n",
        "\n",
        "  def call(self, x, hidden):\n",
        "    # enc_output shape == (batch_size, max_length, hidden_size)\n",
        "\n",
        "    # x shape after passing through embedding == (batch_size, 1, embedding_dim)\n",
        "    x = self.embedding(x)\n",
        "\n",
        "    # x shape after concatenation == (batch_size, 1, embedding_dim + hidden_size)\n",
        "\n",
        "    # passing the concatenated vector to the GRU\n",
        "    output, state = self.gru(x, initial_state=hidden)\n",
        "\n",
        "    # output shape == (batch_size * 1, hidden_size)\n",
        "    output = tf.reshape(output, (-1, output.shape[2]))\n",
        "\n",
        "    # output shape == (batch_size, vocab)\n",
        "    x = self.fc(output)\n",
        "\n",
        "    return x, state"
      ],
      "metadata": {
        "id": "VGUdorqAupog"
      },
      "execution_count": 22,
      "outputs": []
    },
    {
      "cell_type": "code",
      "source": [
        "decoder = Decoder(vocab_tar_size, embedding_dim, units, BATCH_SIZE)\n",
        "\n",
        "decoder_sample_x, decoder_sample_h = decoder(tf.random.uniform((BATCH_SIZE, 1)),\n",
        "                                      sample_hidden)\n",
        "\n"
      ],
      "metadata": {
        "id": "2BzVdNtluwTQ"
      },
      "execution_count": 23,
      "outputs": []
    },
    {
      "cell_type": "code",
      "source": [
        "decoder_sample_x.shape"
      ],
      "metadata": {
        "colab": {
          "base_uri": "https://localhost:8080/"
        },
        "id": "m3KjYrjOuyfQ",
        "outputId": "4c22e79c-38d3-4c92-b007-49c2f24c0739"
      },
      "execution_count": 24,
      "outputs": [
        {
          "output_type": "execute_result",
          "data": {
            "text/plain": [
              "TensorShape([64, 7335])"
            ]
          },
          "metadata": {},
          "execution_count": 24
        }
      ]
    },
    {
      "cell_type": "code",
      "source": [
        "decoder_sample_h.shape"
      ],
      "metadata": {
        "colab": {
          "base_uri": "https://localhost:8080/"
        },
        "id": "LtbMmUYNu00F",
        "outputId": "660835f9-738a-43cf-b39e-2f71ddd91e66"
      },
      "execution_count": 25,
      "outputs": [
        {
          "output_type": "execute_result",
          "data": {
            "text/plain": [
              "TensorShape([64, 1024])"
            ]
          },
          "metadata": {},
          "execution_count": 25
        }
      ]
    },
    {
      "cell_type": "markdown",
      "source": [
        "### Define the optimizer and the loss function"
      ],
      "metadata": {
        "id": "Mf2Q5poOu6zm"
      }
    },
    {
      "cell_type": "code",
      "source": [
        "optimizer = tf.keras.optimizers.Adam()\n",
        "\n",
        "loss_object = tf.keras.losses.SparseCategoricalCrossentropy(\n",
        "    from_logits=True, reduction='none')\n",
        "\n",
        "def loss_function(real, pred):\n",
        "  mask = tf.math.logical_not(tf.math.equal(real, 0))\n",
        "  loss_ = loss_object(real, pred)\n",
        "\n",
        "  mask = tf.cast(mask, dtype=loss_.dtype)\n",
        "  loss_ *= mask\n",
        "\n",
        "  return tf.reduce_mean(loss_)"
      ],
      "metadata": {
        "id": "eXdRp3mtu7yC"
      },
      "execution_count": 26,
      "outputs": []
    },
    {
      "cell_type": "markdown",
      "source": [
        "### Checkpoints (Object-based saving)"
      ],
      "metadata": {
        "id": "Q_SYaMf0vBnK"
      }
    },
    {
      "cell_type": "code",
      "source": [
        "checkpoint_dir = './training_nmt_checkpoints'\n",
        "\n",
        "checkpoint_prefix = os.path.join(checkpoint_dir, \"ckpt\")\n",
        "\n",
        "checkpoint = tf.train.Checkpoint(optimizer=optimizer,\n",
        "                                 encoder=encoder,\n",
        "                                 decoder=decoder)"
      ],
      "metadata": {
        "id": "_gKcvD8SvCsN"
      },
      "execution_count": 27,
      "outputs": []
    },
    {
      "cell_type": "markdown",
      "source": [
        "### Train model"
      ],
      "metadata": {
        "id": "E11ghsk7vKF2"
      }
    },
    {
      "cell_type": "code",
      "source": [
        "@tf.function\n",
        "def train_step(inp, targ, enc_hidden):\n",
        "    loss = 0\n",
        "\n",
        "    with tf.GradientTape() as tape:\n",
        "        enc_hidden = encoder(inp, enc_hidden)\n",
        "\n",
        "        dec_hidden = enc_hidden\n",
        "\n",
        "        dec_input = tf.expand_dims([targ_lang.word_index['<start>']] * BATCH_SIZE, 1)\n",
        "\n",
        "        # Teacher forcing - feeding the target as the next input\n",
        "        for t in range(1, targ.shape[1]):\n",
        "            # passing enc_output to the decoder\n",
        "            predictions, dec_hidden = decoder(dec_input, dec_hidden)\n",
        "\n",
        "            loss += loss_function(targ[:, t], predictions)\n",
        "\n",
        "            # using teacher forcing\n",
        "            dec_input = tf.expand_dims(targ[:, t], 1)\n",
        "\n",
        "        batch_loss = (loss / int(targ.shape[1]))\n",
        "\n",
        "        variables = encoder.trainable_variables + decoder.trainable_variables\n",
        "\n",
        "        gradients = tape.gradient(loss, variables)\n",
        "\n",
        "        optimizer.apply_gradients(zip(gradients, variables))\n",
        "\n",
        "    return batch_loss"
      ],
      "metadata": {
        "id": "TFZPW3v6vMC_"
      },
      "execution_count": 28,
      "outputs": []
    },
    {
      "cell_type": "code",
      "source": [
        "EPOCHS = 20\n",
        "\n",
        "for epoch in range(EPOCHS):\n",
        "  start = time.time()\n",
        "\n",
        "  enc_hidden = encoder.initialize_hidden_state()\n",
        "  total_loss = 0\n",
        "\n",
        "  for (batch, (inp, targ)) in enumerate(dataset.take(steps_per_epoch)):\n",
        "    batch_loss = train_step(inp, targ, enc_hidden)\n",
        "    total_loss += batch_loss\n",
        "\n",
        "    if batch % 100 == 0:\n",
        "      print('Epoch {} Batch {} Loss {:.4f}'.format(epoch + 1,\n",
        "                                                   batch,\n",
        "                                                   batch_loss.numpy()))\n",
        "  # saving (checkpoint) the model every 2 epochs\n",
        "  if (epoch + 1) % 2 == 0:\n",
        "    checkpoint.save(file_prefix = checkpoint_prefix)\n",
        "\n",
        "  print('Epoch {} Loss {:.4f}'.format(epoch + 1,\n",
        "                                      total_loss / steps_per_epoch))\n",
        "  print('Time taken for 1 epoch {} sec\\n'.format(time.time() - start))"
      ],
      "metadata": {
        "colab": {
          "base_uri": "https://localhost:8080/"
        },
        "id": "ThD31xvLvQMX",
        "outputId": "904d8887-0ecd-41a6-c49b-d3e7084e3177"
      },
      "execution_count": 29,
      "outputs": [
        {
          "output_type": "stream",
          "name": "stdout",
          "text": [
            "Epoch 1 Batch 0 Loss 4.7156\n",
            "Epoch 1 Batch 100 Loss 1.9074\n",
            "Epoch 1 Batch 200 Loss 1.8235\n",
            "Epoch 1 Batch 300 Loss 1.5927\n",
            "Epoch 1 Batch 400 Loss 1.5754\n",
            "Epoch 1 Batch 500 Loss 1.5309\n",
            "Epoch 1 Batch 600 Loss 1.2798\n",
            "Epoch 1 Batch 700 Loss 1.3035\n",
            "Epoch 1 Batch 800 Loss 1.3389\n",
            "Epoch 1 Batch 900 Loss 1.1833\n",
            "Epoch 1 Batch 1000 Loss 1.1027\n",
            "Epoch 1 Batch 1100 Loss 1.1490\n",
            "Epoch 1 Batch 1200 Loss 1.0112\n",
            "Epoch 1 Loss 1.4717\n",
            "Time taken for 1 epoch 73.32935833930969 sec\n",
            "\n",
            "Epoch 2 Batch 0 Loss 1.0176\n",
            "Epoch 2 Batch 100 Loss 0.9386\n",
            "Epoch 2 Batch 200 Loss 0.9427\n",
            "Epoch 2 Batch 300 Loss 1.0401\n",
            "Epoch 2 Batch 400 Loss 0.9596\n",
            "Epoch 2 Batch 500 Loss 0.9716\n",
            "Epoch 2 Batch 600 Loss 0.9249\n",
            "Epoch 2 Batch 700 Loss 0.8589\n",
            "Epoch 2 Batch 800 Loss 0.8586\n",
            "Epoch 2 Batch 900 Loss 0.7434\n",
            "Epoch 2 Batch 1000 Loss 0.6527\n",
            "Epoch 2 Batch 1100 Loss 0.7842\n",
            "Epoch 2 Batch 1200 Loss 0.7454\n",
            "Epoch 2 Loss 0.8760\n",
            "Time taken for 1 epoch 60.15438437461853 sec\n",
            "\n",
            "Epoch 3 Batch 0 Loss 0.6315\n",
            "Epoch 3 Batch 100 Loss 0.6362\n",
            "Epoch 3 Batch 200 Loss 0.7005\n",
            "Epoch 3 Batch 300 Loss 0.6480\n",
            "Epoch 3 Batch 400 Loss 0.6289\n",
            "Epoch 3 Batch 500 Loss 0.5439\n",
            "Epoch 3 Batch 600 Loss 0.5936\n",
            "Epoch 3 Batch 700 Loss 0.5380\n",
            "Epoch 3 Batch 800 Loss 0.5729\n",
            "Epoch 3 Batch 900 Loss 0.5277\n",
            "Epoch 3 Batch 1000 Loss 0.4769\n",
            "Epoch 3 Batch 1100 Loss 0.6068\n",
            "Epoch 3 Batch 1200 Loss 0.5053\n",
            "Epoch 3 Loss 0.5669\n",
            "Time taken for 1 epoch 59.055203914642334 sec\n",
            "\n",
            "Epoch 4 Batch 0 Loss 0.3953\n",
            "Epoch 4 Batch 100 Loss 0.3324\n",
            "Epoch 4 Batch 200 Loss 0.3314\n",
            "Epoch 4 Batch 300 Loss 0.3977\n",
            "Epoch 4 Batch 400 Loss 0.4228\n",
            "Epoch 4 Batch 500 Loss 0.3455\n",
            "Epoch 4 Batch 600 Loss 0.3712\n",
            "Epoch 4 Batch 700 Loss 0.3886\n",
            "Epoch 4 Batch 800 Loss 0.4003\n",
            "Epoch 4 Batch 900 Loss 0.3495\n",
            "Epoch 4 Batch 1000 Loss 0.3305\n",
            "Epoch 4 Batch 1100 Loss 0.3941\n",
            "Epoch 4 Batch 1200 Loss 0.3523\n",
            "Epoch 4 Loss 0.3648\n",
            "Time taken for 1 epoch 59.91761612892151 sec\n",
            "\n",
            "Epoch 5 Batch 0 Loss 0.2151\n",
            "Epoch 5 Batch 100 Loss 0.2151\n",
            "Epoch 5 Batch 200 Loss 0.2015\n",
            "Epoch 5 Batch 300 Loss 0.2347\n",
            "Epoch 5 Batch 400 Loss 0.2208\n",
            "Epoch 5 Batch 500 Loss 0.2214\n",
            "Epoch 5 Batch 600 Loss 0.2582\n",
            "Epoch 5 Batch 700 Loss 0.2504\n",
            "Epoch 5 Batch 800 Loss 0.2474\n",
            "Epoch 5 Batch 900 Loss 0.2256\n",
            "Epoch 5 Batch 1000 Loss 0.2284\n",
            "Epoch 5 Batch 1100 Loss 0.2652\n",
            "Epoch 5 Batch 1200 Loss 0.2295\n",
            "Epoch 5 Loss 0.2436\n",
            "Time taken for 1 epoch 59.11812090873718 sec\n",
            "\n",
            "Epoch 6 Batch 0 Loss 0.1821\n",
            "Epoch 6 Batch 100 Loss 0.1408\n",
            "Epoch 6 Batch 200 Loss 0.1687\n",
            "Epoch 6 Batch 300 Loss 0.1927\n",
            "Epoch 6 Batch 400 Loss 0.1717\n",
            "Epoch 6 Batch 500 Loss 0.1654\n",
            "Epoch 6 Batch 600 Loss 0.1865\n",
            "Epoch 6 Batch 700 Loss 0.1382\n",
            "Epoch 6 Batch 800 Loss 0.1567\n",
            "Epoch 6 Batch 900 Loss 0.1571\n",
            "Epoch 6 Batch 1000 Loss 0.1764\n",
            "Epoch 6 Batch 1100 Loss 0.1649\n",
            "Epoch 6 Batch 1200 Loss 0.1843\n",
            "Epoch 6 Loss 0.1756\n",
            "Time taken for 1 epoch 59.81091022491455 sec\n",
            "\n",
            "Epoch 7 Batch 0 Loss 0.1357\n",
            "Epoch 7 Batch 100 Loss 0.1369\n",
            "Epoch 7 Batch 200 Loss 0.1092\n",
            "Epoch 7 Batch 300 Loss 0.1321\n",
            "Epoch 7 Batch 400 Loss 0.1593\n",
            "Epoch 7 Batch 500 Loss 0.1017\n",
            "Epoch 7 Batch 600 Loss 0.1107\n",
            "Epoch 7 Batch 700 Loss 0.1633\n",
            "Epoch 7 Batch 800 Loss 0.1248\n",
            "Epoch 7 Batch 900 Loss 0.1259\n",
            "Epoch 7 Batch 1000 Loss 0.1413\n",
            "Epoch 7 Batch 1100 Loss 0.1222\n",
            "Epoch 7 Batch 1200 Loss 0.1358\n",
            "Epoch 7 Loss 0.1371\n",
            "Time taken for 1 epoch 59.24946928024292 sec\n",
            "\n",
            "Epoch 8 Batch 0 Loss 0.0861\n",
            "Epoch 8 Batch 100 Loss 0.1119\n",
            "Epoch 8 Batch 200 Loss 0.0911\n",
            "Epoch 8 Batch 300 Loss 0.1121\n",
            "Epoch 8 Batch 400 Loss 0.1075\n",
            "Epoch 8 Batch 500 Loss 0.1582\n",
            "Epoch 8 Batch 600 Loss 0.0868\n",
            "Epoch 8 Batch 700 Loss 0.1170\n",
            "Epoch 8 Batch 800 Loss 0.1107\n",
            "Epoch 8 Batch 900 Loss 0.1681\n",
            "Epoch 8 Batch 1000 Loss 0.0838\n",
            "Epoch 8 Batch 1100 Loss 0.1225\n",
            "Epoch 8 Batch 1200 Loss 0.1897\n",
            "Epoch 8 Loss 0.1149\n",
            "Time taken for 1 epoch 59.99205994606018 sec\n",
            "\n",
            "Epoch 9 Batch 0 Loss 0.0931\n",
            "Epoch 9 Batch 100 Loss 0.1004\n",
            "Epoch 9 Batch 200 Loss 0.0993\n",
            "Epoch 9 Batch 300 Loss 0.0595\n",
            "Epoch 9 Batch 400 Loss 0.1013\n",
            "Epoch 9 Batch 500 Loss 0.1152\n",
            "Epoch 9 Batch 600 Loss 0.1009\n",
            "Epoch 9 Batch 700 Loss 0.1184\n",
            "Epoch 9 Batch 800 Loss 0.0929\n",
            "Epoch 9 Batch 900 Loss 0.0865\n",
            "Epoch 9 Batch 1000 Loss 0.0937\n",
            "Epoch 9 Batch 1100 Loss 0.1094\n",
            "Epoch 9 Batch 1200 Loss 0.0830\n",
            "Epoch 9 Loss 0.0994\n",
            "Time taken for 1 epoch 59.16598868370056 sec\n",
            "\n",
            "Epoch 10 Batch 0 Loss 0.0674\n",
            "Epoch 10 Batch 100 Loss 0.0846\n",
            "Epoch 10 Batch 200 Loss 0.0970\n",
            "Epoch 10 Batch 300 Loss 0.0841\n",
            "Epoch 10 Batch 400 Loss 0.0642\n",
            "Epoch 10 Batch 500 Loss 0.1005\n",
            "Epoch 10 Batch 600 Loss 0.0830\n",
            "Epoch 10 Batch 700 Loss 0.0838\n",
            "Epoch 10 Batch 800 Loss 0.0690\n",
            "Epoch 10 Batch 900 Loss 0.1028\n",
            "Epoch 10 Batch 1000 Loss 0.0874\n",
            "Epoch 10 Batch 1100 Loss 0.0955\n",
            "Epoch 10 Batch 1200 Loss 0.1122\n",
            "Epoch 10 Loss 0.0907\n",
            "Time taken for 1 epoch 59.877888441085815 sec\n",
            "\n",
            "Epoch 11 Batch 0 Loss 0.0663\n",
            "Epoch 11 Batch 100 Loss 0.0466\n",
            "Epoch 11 Batch 200 Loss 0.0729\n",
            "Epoch 11 Batch 300 Loss 0.1237\n",
            "Epoch 11 Batch 400 Loss 0.0733\n",
            "Epoch 11 Batch 500 Loss 0.0804\n",
            "Epoch 11 Batch 600 Loss 0.0777\n",
            "Epoch 11 Batch 700 Loss 0.0924\n",
            "Epoch 11 Batch 800 Loss 0.0954\n",
            "Epoch 11 Batch 900 Loss 0.0683\n",
            "Epoch 11 Batch 1000 Loss 0.0818\n",
            "Epoch 11 Batch 1100 Loss 0.1503\n",
            "Epoch 11 Batch 1200 Loss 0.0866\n",
            "Epoch 11 Loss 0.0851\n",
            "Time taken for 1 epoch 59.236894845962524 sec\n",
            "\n",
            "Epoch 12 Batch 0 Loss 0.1036\n",
            "Epoch 12 Batch 100 Loss 0.0620\n",
            "Epoch 12 Batch 200 Loss 0.0617\n",
            "Epoch 12 Batch 300 Loss 0.0671\n",
            "Epoch 12 Batch 400 Loss 0.1078\n",
            "Epoch 12 Batch 500 Loss 0.0795\n",
            "Epoch 12 Batch 600 Loss 0.0846\n",
            "Epoch 12 Batch 700 Loss 0.0606\n",
            "Epoch 12 Batch 800 Loss 0.0847\n",
            "Epoch 12 Batch 900 Loss 0.0830\n",
            "Epoch 12 Batch 1000 Loss 0.0593\n",
            "Epoch 12 Batch 1100 Loss 0.0951\n",
            "Epoch 12 Batch 1200 Loss 0.1010\n",
            "Epoch 12 Loss 0.0800\n",
            "Time taken for 1 epoch 59.8933470249176 sec\n",
            "\n",
            "Epoch 13 Batch 0 Loss 0.0555\n",
            "Epoch 13 Batch 100 Loss 0.0647\n",
            "Epoch 13 Batch 200 Loss 0.0217\n",
            "Epoch 13 Batch 300 Loss 0.0800\n",
            "Epoch 13 Batch 400 Loss 0.0706\n",
            "Epoch 13 Batch 500 Loss 0.0408\n",
            "Epoch 13 Batch 600 Loss 0.0759\n",
            "Epoch 13 Batch 700 Loss 0.0690\n",
            "Epoch 13 Batch 800 Loss 0.0951\n",
            "Epoch 13 Batch 900 Loss 0.0973\n",
            "Epoch 13 Batch 1000 Loss 0.0844\n",
            "Epoch 13 Batch 1100 Loss 0.0961\n",
            "Epoch 13 Batch 1200 Loss 0.0881\n",
            "Epoch 13 Loss 0.0757\n",
            "Time taken for 1 epoch 59.30382966995239 sec\n",
            "\n",
            "Epoch 14 Batch 0 Loss 0.0257\n",
            "Epoch 14 Batch 100 Loss 0.0526\n",
            "Epoch 14 Batch 200 Loss 0.0355\n",
            "Epoch 14 Batch 300 Loss 0.0555\n",
            "Epoch 14 Batch 400 Loss 0.0888\n",
            "Epoch 14 Batch 500 Loss 0.1122\n",
            "Epoch 14 Batch 600 Loss 0.0538\n",
            "Epoch 14 Batch 700 Loss 0.0609\n",
            "Epoch 14 Batch 800 Loss 0.1066\n",
            "Epoch 14 Batch 900 Loss 0.0621\n",
            "Epoch 14 Batch 1000 Loss 0.0847\n",
            "Epoch 14 Batch 1100 Loss 0.0941\n",
            "Epoch 14 Batch 1200 Loss 0.0887\n",
            "Epoch 14 Loss 0.0729\n",
            "Time taken for 1 epoch 59.93223285675049 sec\n",
            "\n",
            "Epoch 15 Batch 0 Loss 0.0495\n",
            "Epoch 15 Batch 100 Loss 0.0523\n",
            "Epoch 15 Batch 200 Loss 0.0478\n",
            "Epoch 15 Batch 300 Loss 0.0642\n",
            "Epoch 15 Batch 400 Loss 0.0585\n",
            "Epoch 15 Batch 500 Loss 0.0858\n",
            "Epoch 15 Batch 600 Loss 0.0375\n",
            "Epoch 15 Batch 700 Loss 0.0841\n",
            "Epoch 15 Batch 800 Loss 0.0680\n",
            "Epoch 15 Batch 900 Loss 0.0684\n",
            "Epoch 15 Batch 1000 Loss 0.0748\n",
            "Epoch 15 Batch 1100 Loss 0.0656\n",
            "Epoch 15 Batch 1200 Loss 0.0660\n",
            "Epoch 15 Loss 0.0694\n",
            "Time taken for 1 epoch 59.24127268791199 sec\n",
            "\n",
            "Epoch 16 Batch 0 Loss 0.0353\n",
            "Epoch 16 Batch 100 Loss 0.0409\n",
            "Epoch 16 Batch 200 Loss 0.0293\n",
            "Epoch 16 Batch 300 Loss 0.0353\n",
            "Epoch 16 Batch 400 Loss 0.0527\n",
            "Epoch 16 Batch 500 Loss 0.0745\n",
            "Epoch 16 Batch 600 Loss 0.0465\n",
            "Epoch 16 Batch 700 Loss 0.0579\n",
            "Epoch 16 Batch 800 Loss 0.0794\n",
            "Epoch 16 Batch 900 Loss 0.1130\n",
            "Epoch 16 Batch 1000 Loss 0.0725\n",
            "Epoch 16 Batch 1100 Loss 0.0757\n",
            "Epoch 16 Batch 1200 Loss 0.0633\n",
            "Epoch 16 Loss 0.0678\n",
            "Time taken for 1 epoch 60.03150796890259 sec\n",
            "\n",
            "Epoch 17 Batch 0 Loss 0.0508\n",
            "Epoch 17 Batch 100 Loss 0.0538\n",
            "Epoch 17 Batch 200 Loss 0.0351\n",
            "Epoch 17 Batch 300 Loss 0.0568\n",
            "Epoch 17 Batch 400 Loss 0.0847\n",
            "Epoch 17 Batch 500 Loss 0.0712\n",
            "Epoch 17 Batch 600 Loss 0.0401\n",
            "Epoch 17 Batch 700 Loss 0.0869\n",
            "Epoch 17 Batch 800 Loss 0.0334\n",
            "Epoch 17 Batch 900 Loss 0.0797\n",
            "Epoch 17 Batch 1000 Loss 0.1111\n",
            "Epoch 17 Batch 1100 Loss 0.0854\n",
            "Epoch 17 Batch 1200 Loss 0.0751\n",
            "Epoch 17 Loss 0.0660\n",
            "Time taken for 1 epoch 59.20919704437256 sec\n",
            "\n",
            "Epoch 18 Batch 0 Loss 0.0361\n",
            "Epoch 18 Batch 100 Loss 0.0275\n",
            "Epoch 18 Batch 200 Loss 0.0600\n",
            "Epoch 18 Batch 300 Loss 0.0591\n",
            "Epoch 18 Batch 400 Loss 0.0650\n",
            "Epoch 18 Batch 500 Loss 0.0739\n",
            "Epoch 18 Batch 600 Loss 0.0470\n",
            "Epoch 18 Batch 700 Loss 0.0546\n",
            "Epoch 18 Batch 800 Loss 0.0756\n",
            "Epoch 18 Batch 900 Loss 0.0593\n",
            "Epoch 18 Batch 1000 Loss 0.0614\n",
            "Epoch 18 Batch 1100 Loss 0.0676\n",
            "Epoch 18 Batch 1200 Loss 0.0451\n",
            "Epoch 18 Loss 0.0650\n",
            "Time taken for 1 epoch 59.8163321018219 sec\n",
            "\n",
            "Epoch 19 Batch 0 Loss 0.0160\n",
            "Epoch 19 Batch 100 Loss 0.0373\n",
            "Epoch 19 Batch 200 Loss 0.0778\n",
            "Epoch 19 Batch 300 Loss 0.0804\n",
            "Epoch 19 Batch 400 Loss 0.0596\n",
            "Epoch 19 Batch 500 Loss 0.0614\n",
            "Epoch 19 Batch 600 Loss 0.0620\n",
            "Epoch 19 Batch 700 Loss 0.0462\n",
            "Epoch 19 Batch 800 Loss 0.0565\n",
            "Epoch 19 Batch 900 Loss 0.0753\n",
            "Epoch 19 Batch 1000 Loss 0.0974\n",
            "Epoch 19 Batch 1100 Loss 0.0490\n",
            "Epoch 19 Batch 1200 Loss 0.0625\n",
            "Epoch 19 Loss 0.0626\n",
            "Time taken for 1 epoch 59.176923513412476 sec\n",
            "\n",
            "Epoch 20 Batch 0 Loss 0.0435\n",
            "Epoch 20 Batch 100 Loss 0.0259\n",
            "Epoch 20 Batch 200 Loss 0.0484\n",
            "Epoch 20 Batch 300 Loss 0.0455\n",
            "Epoch 20 Batch 400 Loss 0.0468\n",
            "Epoch 20 Batch 500 Loss 0.0484\n",
            "Epoch 20 Batch 600 Loss 0.0589\n",
            "Epoch 20 Batch 700 Loss 0.0457\n",
            "Epoch 20 Batch 800 Loss 0.0597\n",
            "Epoch 20 Batch 900 Loss 0.0779\n",
            "Epoch 20 Batch 1000 Loss 0.0626\n",
            "Epoch 20 Batch 1100 Loss 0.0653\n",
            "Epoch 20 Batch 1200 Loss 0.0910\n",
            "Epoch 20 Loss 0.0611\n",
            "Time taken for 1 epoch 59.7820303440094 sec\n",
            "\n"
          ]
        }
      ]
    },
    {
      "cell_type": "markdown",
      "source": [
        "### Translate"
      ],
      "metadata": {
        "id": "n8sjfDJq2kwy"
      }
    },
    {
      "cell_type": "code",
      "source": [
        "def evaluate(sentence):\n",
        "  attention_plot = np.zeros((max_length_targ, max_length_inp))\n",
        "\n",
        "  sentence = preprocess_sentence(sentence)\n",
        "\n",
        "  inputs = [inp_lang.word_index[i] for i in sentence.split(' ')]\n",
        "  inputs = tf.keras.preprocessing.sequence.pad_sequences([inputs],\n",
        "                                                         maxlen=max_length_inp,\n",
        "                                                         padding='post')\n",
        "  inputs = tf.convert_to_tensor(inputs)\n",
        "\n",
        "  result = ''\n",
        "\n",
        "  hidden = [tf.zeros((1, units))]\n",
        "  enc_hidden = encoder(inputs, hidden)\n",
        "\n",
        "  dec_hidden = enc_hidden\n",
        "  dec_input = tf.expand_dims([targ_lang.word_index['<start>']], 0)\n",
        "\n",
        "  for t in range(max_length_targ):\n",
        "    predictions, dec_hidden = decoder(dec_input, dec_hidden)\n",
        "\n",
        "    # storing the attention weights to plot later on\n",
        "    predicted_id = tf.argmax(predictions[0]).numpy()\n",
        "    result += targ_lang.index_word[predicted_id] + ' '\n",
        "\n",
        "    if targ_lang.index_word[predicted_id] == '<end>':\n",
        "      return result, sentence\n",
        "\n",
        "    # the predicted ID is fed back into the model\n",
        "    dec_input = tf.expand_dims([predicted_id], 0)\n",
        "\n",
        "  return result, sentence\n"
      ],
      "metadata": {
        "id": "HXtMJnps2l94"
      },
      "execution_count": 30,
      "outputs": []
    },
    {
      "cell_type": "code",
      "source": [
        "def translate(sentence):\n",
        "  result, sentence = evaluate(sentence)\n",
        "\n",
        "  print('Input: %s' % (sentence))\n",
        "  print('Predicted translation: {}'.format(result))"
      ],
      "metadata": {
        "id": "DC_gdIAA2uID"
      },
      "execution_count": 31,
      "outputs": []
    },
    {
      "cell_type": "markdown",
      "source": [
        "### Restore the latest checkpoint and test"
      ],
      "metadata": {
        "id": "Etj-jPUe25bC"
      }
    },
    {
      "cell_type": "code",
      "source": [
        "# restoring the latest checkpoint in checkpoint_dir\n",
        "checkpoint.restore(tf.train.latest_checkpoint(checkpoint_dir))"
      ],
      "metadata": {
        "colab": {
          "base_uri": "https://localhost:8080/"
        },
        "id": "v8tGJ1F226VU",
        "outputId": "8adbed86-71be-460d-acfa-17ca119d12b3"
      },
      "execution_count": 32,
      "outputs": [
        {
          "output_type": "execute_result",
          "data": {
            "text/plain": [
              "<tensorflow.python.training.tracking.util.CheckpointLoadStatus at 0x7efd3126a1f0>"
            ]
          },
          "metadata": {},
          "execution_count": 32
        }
      ]
    },
    {
      "cell_type": "code",
      "source": [
        "translate('Здесь хорошо.')"
      ],
      "metadata": {
        "colab": {
          "base_uri": "https://localhost:8080/"
        },
        "id": "lJJxVyGJ29PW",
        "outputId": "26afc484-e98d-4274-dd90-fdff8fdf2bf6"
      },
      "execution_count": 33,
      "outputs": [
        {
          "output_type": "stream",
          "name": "stdout",
          "text": [
            "Input: <start> здесь хорошо . <end>\n",
            "Predicted translation: it's well paid . <end> \n"
          ]
        }
      ]
    },
    {
      "cell_type": "code",
      "source": [
        "translate(u'Это слишком дорого для меня.?')"
      ],
      "metadata": {
        "colab": {
          "base_uri": "https://localhost:8080/"
        },
        "id": "NTWLYCuG3B_O",
        "outputId": "43561920-c13c-44dc-8bc0-1f066ff75efd"
      },
      "execution_count": 34,
      "outputs": [
        {
          "output_type": "stream",
          "name": "stdout",
          "text": [
            "Input: <start> это слишком дорого для меня . ? <end>\n",
            "Predicted translation: it's too much for me . <end> \n"
          ]
        }
      ]
    },
    {
      "cell_type": "code",
      "source": [
        "translate('я планирую сегодня войти в выходные так как сегодня пятница')"
      ],
      "metadata": {
        "colab": {
          "base_uri": "https://localhost:8080/"
        },
        "id": "r86tXc8F3Ef9",
        "outputId": "863866a7-db30-4992-a665-2f749daecb0f"
      },
      "execution_count": 35,
      "outputs": [
        {
          "output_type": "stream",
          "name": "stdout",
          "text": [
            "Input: <start> я планирую сегодня войти в выходные так как сегодня пятница <end>\n",
            "Predicted translation: i did what i mean ? <end> \n"
          ]
        }
      ]
    },
    {
      "cell_type": "markdown",
      "source": [
        "### Вывод:\n",
        "увеличение предложение приводит к понижению качества"
      ],
      "metadata": {
        "id": "QMfGaza23NE4"
      }
    },
    {
      "cell_type": "markdown",
      "source": [
        "### Neural machine translation with attention"
      ],
      "metadata": {
        "id": "cDNYWUe23Xjf"
      }
    },
    {
      "cell_type": "code",
      "source": [
        "class Encoder(tf.keras.Model):\n",
        "  def __init__(self, vocab_size, embedding_dim, enc_units, batch_sz):\n",
        "    super(Encoder, self).__init__()\n",
        "    self.batch_sz = batch_sz\n",
        "    self.enc_units = enc_units\n",
        "    self.embedding = tf.keras.layers.Embedding(vocab_size, embedding_dim)\n",
        "    self.gru = tf.keras.layers.GRU(self.enc_units,\n",
        "                                   return_sequences=True,\n",
        "                                   return_state=True,\n",
        "                                   recurrent_initializer='glorot_uniform')\n",
        "\n",
        "  def call(self, x, hidden):\n",
        "    x = self.embedding(x)\n",
        "    output, state = self.gru(x, initial_state = hidden)\n",
        "    return output, state\n",
        "\n",
        "  def initialize_hidden_state(self):\n",
        "    return tf.zeros((self.batch_sz, self.enc_units))"
      ],
      "metadata": {
        "id": "-wP8TKj53YY-"
      },
      "execution_count": 36,
      "outputs": []
    },
    {
      "cell_type": "code",
      "source": [
        "encoder = Encoder(vocab_inp_size, embedding_dim, units, BATCH_SIZE)\n",
        "\n",
        "# sample input\n",
        "sample_hidden = encoder.initialize_hidden_state()\n",
        "sample_output, sample_hidden = encoder(example_input_batch, sample_hidden)\n",
        "print ('Encoder output shape: (batch size, sequence length, units) {}'.format(sample_output.shape))\n",
        "print ('Encoder Hidden state shape: (batch size, units) {}'.format(sample_hidden.shape))"
      ],
      "metadata": {
        "colab": {
          "base_uri": "https://localhost:8080/"
        },
        "id": "uDLMb7wC3e_q",
        "outputId": "84deccfb-5459-4ead-d386-ddbed6c784a0"
      },
      "execution_count": 37,
      "outputs": [
        {
          "output_type": "stream",
          "name": "stdout",
          "text": [
            "Encoder output shape: (batch size, sequence length, units) (64, 15, 1024)\n",
            "Encoder Hidden state shape: (batch size, units) (64, 1024)\n"
          ]
        }
      ]
    },
    {
      "cell_type": "code",
      "source": [
        "class BahdanauAttention(tf.keras.layers.Layer):\n",
        "  def __init__(self, units):\n",
        "    super(BahdanauAttention, self).__init__()\n",
        "    self.W1 = tf.keras.layers.Dense(units)\n",
        "    self.W2 = tf.keras.layers.Dense(units)\n",
        "    self.V = tf.keras.layers.Dense(1)\n",
        "\n",
        "  def call(self, query, values):\n",
        "    # query hidden state shape == (batch_size, hidden size)\n",
        "    # query_with_time_axis shape == (batch_size, 1, hidden size)\n",
        "    # values shape == (batch_size, max_len, hidden size)\n",
        "    # we are doing this to broadcast addition along the time axis to calculate the score\n",
        "    query_with_time_axis = tf.expand_dims(query, 1)\n",
        "\n",
        "    # score shape == (batch_size, max_length, 1)\n",
        "    # we get 1 at the last axis because we are applying score to self.V\n",
        "    # the shape of the tensor before applying self.V is (batch_size, max_length, units)\n",
        "    score = self.V(tf.nn.tanh(\n",
        "        self.W1(query_with_time_axis) + self.W2(values)))\n",
        "\n",
        "    # attention_weights shape == (batch_size, max_length, 1)\n",
        "    attention_weights = tf.nn.softmax(score, axis=1)\n",
        "\n",
        "    # context_vector shape after sum == (batch_size, hidden_size)\n",
        "    context_vector = attention_weights * values\n",
        "    context_vector = tf.reduce_sum(context_vector, axis=1)\n",
        "\n",
        "    return context_vector, attention_weights"
      ],
      "metadata": {
        "id": "dUCyyui-3iMr"
      },
      "execution_count": 38,
      "outputs": []
    },
    {
      "cell_type": "code",
      "source": [
        "attention_layer = BahdanauAttention(10)\n",
        "attention_result, attention_weights = attention_layer(sample_hidden, sample_output)\n",
        "\n",
        "print(\"Attention result shape: (batch size, units) {}\".format(attention_result.shape))\n",
        "print(\"Attention weights shape: (batch_size, sequence_length, 1) {}\".format(attention_weights.shape))"
      ],
      "metadata": {
        "colab": {
          "base_uri": "https://localhost:8080/"
        },
        "id": "7X2N23rB3lWm",
        "outputId": "7d148b92-0302-4c7b-9b7c-146982a31237"
      },
      "execution_count": 39,
      "outputs": [
        {
          "output_type": "stream",
          "name": "stdout",
          "text": [
            "Attention result shape: (batch size, units) (64, 1024)\n",
            "Attention weights shape: (batch_size, sequence_length, 1) (64, 15, 1)\n"
          ]
        }
      ]
    },
    {
      "cell_type": "code",
      "source": [
        "class Decoder(tf.keras.Model):\n",
        "  def __init__(self, vocab_size, embedding_dim, dec_units, batch_sz):\n",
        "    super(Decoder, self).__init__()\n",
        "    self.batch_sz = batch_sz\n",
        "    self.dec_units = dec_units\n",
        "    self.embedding = tf.keras.layers.Embedding(vocab_size, embedding_dim)\n",
        "    self.gru = tf.keras.layers.GRU(self.dec_units,\n",
        "                                   return_sequences=True,\n",
        "                                   return_state=True,\n",
        "                                   recurrent_initializer='glorot_uniform')\n",
        "    self.fc = tf.keras.layers.Dense(vocab_size)\n",
        "\n",
        "    # used for attention\n",
        "    self.attention = BahdanauAttention(self.dec_units)\n",
        "\n",
        "  def call(self, x, hidden, enc_output):\n",
        "    # enc_output shape == (batch_size, max_length, hidden_size)\n",
        "    context_vector, attention_weights = self.attention(hidden, enc_output)\n",
        "\n",
        "    # x shape after passing through embedding == (batch_size, 1, embedding_dim)\n",
        "    x = self.embedding(x)\n",
        "\n",
        "    # x shape after concatenation == (batch_size, 1, embedding_dim + hidden_size)\n",
        "    x = tf.concat([tf.expand_dims(context_vector, 1), x], axis=-1)\n",
        "\n",
        "    # passing the concatenated vector to the GRU\n",
        "    output, state = self.gru(x)\n",
        "\n",
        "    # output shape == (batch_size * 1, hidden_size)\n",
        "    output = tf.reshape(output, (-1, output.shape[2]))\n",
        "\n",
        "    # output shape == (batch_size, vocab)\n",
        "    x = self.fc(output)\n",
        "\n",
        "    return x, state, attention_weights"
      ],
      "metadata": {
        "id": "6HmO_IxP3o4Q"
      },
      "execution_count": 40,
      "outputs": []
    },
    {
      "cell_type": "code",
      "source": [
        "decoder = Decoder(vocab_tar_size, embedding_dim, units, BATCH_SIZE)\n",
        "\n",
        "sample_decoder_output, _, _ = decoder(tf.random.uniform((BATCH_SIZE, 1)),\n",
        "                                      sample_hidden, sample_output)\n",
        "\n",
        "print ('Decoder output shape: (batch_size, vocab size) {}'.format(sample_decoder_output.shape))"
      ],
      "metadata": {
        "colab": {
          "base_uri": "https://localhost:8080/"
        },
        "id": "rz4FqqKY3tcU",
        "outputId": "27bfece6-7964-4cdf-8015-adca58879826"
      },
      "execution_count": 41,
      "outputs": [
        {
          "output_type": "stream",
          "name": "stdout",
          "text": [
            "Decoder output shape: (batch_size, vocab size) (64, 7335)\n"
          ]
        }
      ]
    },
    {
      "cell_type": "markdown",
      "source": [
        "### Define the optimizer and the loss function"
      ],
      "metadata": {
        "id": "J2e1848W3zdM"
      }
    },
    {
      "cell_type": "code",
      "source": [
        "optimizer = tf.keras.optimizers.Adam()\n",
        "loss_object = tf.keras.losses.SparseCategoricalCrossentropy(\n",
        "    from_logits=True, reduction='none')\n",
        "\n",
        "def loss_function(real, pred):\n",
        "  mask = tf.math.logical_not(tf.math.equal(real, 0))\n",
        "  loss_ = loss_object(real, pred)\n",
        "\n",
        "  mask = tf.cast(mask, dtype=loss_.dtype)\n",
        "  loss_ *= mask\n",
        "\n",
        "  return tf.reduce_mean(loss_)"
      ],
      "metadata": {
        "id": "vrOmOWBK30hs"
      },
      "execution_count": 42,
      "outputs": []
    },
    {
      "cell_type": "markdown",
      "source": [
        "### Checkpoints (Object-based saving)"
      ],
      "metadata": {
        "id": "PwyC0El836uC"
      }
    },
    {
      "cell_type": "code",
      "source": [
        "checkpoint_dir = './training_attention_checkpoints'\n",
        "checkpoint_prefix = os.path.join(checkpoint_dir, \"ckpt\")\n",
        "checkpoint = tf.train.Checkpoint(optimizer=optimizer,\n",
        "                                 encoder=encoder,\n",
        "                                 decoder=decoder)"
      ],
      "metadata": {
        "id": "GTfrW2IQ37pJ"
      },
      "execution_count": 43,
      "outputs": []
    },
    {
      "cell_type": "code",
      "source": [
        "@tf.function\n",
        "def train_step(inp, targ, enc_hidden):\n",
        "  loss = 0\n",
        "\n",
        "  with tf.GradientTape() as tape:\n",
        "    enc_output, enc_hidden = encoder(inp, enc_hidden)\n",
        "\n",
        "    dec_hidden = enc_hidden\n",
        "\n",
        "    dec_input = tf.expand_dims([targ_lang.word_index['<start>']] * BATCH_SIZE, 1)\n",
        "\n",
        "    # Teacher forcing - feeding the target as the next input\n",
        "    for t in range(1, targ.shape[1]):\n",
        "      # passing enc_output to the decoder\n",
        "      predictions, dec_hidden, _ = decoder(dec_input, dec_hidden, enc_output)\n",
        "\n",
        "      loss += loss_function(targ[:, t], predictions)\n",
        "\n",
        "      # using teacher forcing\n",
        "      dec_input = tf.expand_dims(targ[:, t], 1)\n",
        "\n",
        "  batch_loss = (loss / int(targ.shape[1]))\n",
        "\n",
        "  variables = encoder.trainable_variables + decoder.trainable_variables\n",
        "\n",
        "  gradients = tape.gradient(loss, variables)\n",
        "\n",
        "  optimizer.apply_gradients(zip(gradients, variables))\n",
        "\n",
        "  return batch_loss"
      ],
      "metadata": {
        "id": "8y3GKr3Z3-wd"
      },
      "execution_count": 44,
      "outputs": []
    },
    {
      "cell_type": "code",
      "source": [
        "EPOCHS = 20\n",
        "\n",
        "for epoch in range(EPOCHS):\n",
        "  start = time.time()\n",
        "\n",
        "  enc_hidden = encoder.initialize_hidden_state()\n",
        "  total_loss = 0\n",
        "\n",
        "  for (batch, (inp, targ)) in enumerate(dataset.take(steps_per_epoch)):\n",
        "    batch_loss = train_step(inp, targ, enc_hidden)\n",
        "    total_loss += batch_loss\n",
        "\n",
        "    if batch % 100 == 0:\n",
        "      print('Epoch {} Batch {} Loss {:.4f}'.format(epoch + 1,\n",
        "                                                   batch,\n",
        "                                                   batch_loss.numpy()))\n",
        "  # saving (checkpoint) the model every 2 epochs\n",
        "  if (epoch + 1) % 2 == 0:\n",
        "    checkpoint.save(file_prefix = checkpoint_prefix)\n",
        "\n",
        "  print('Epoch {} Loss {:.4f}'.format(epoch + 1,\n",
        "                                      total_loss / steps_per_epoch))\n",
        "  print('Time taken for 1 epoch {} sec\\n'.format(time.time() - start))"
      ],
      "metadata": {
        "colab": {
          "base_uri": "https://localhost:8080/"
        },
        "id": "gBbIE_7G4Bpd",
        "outputId": "56d0d93f-c105-40bd-ae4b-d2760d0e4efb"
      },
      "execution_count": 45,
      "outputs": [
        {
          "output_type": "stream",
          "name": "stdout",
          "text": [
            "Epoch 1 Batch 0 Loss 4.6021\n",
            "Epoch 1 Batch 100 Loss 2.1677\n",
            "Epoch 1 Batch 200 Loss 1.7751\n",
            "Epoch 1 Batch 300 Loss 1.7725\n",
            "Epoch 1 Batch 400 Loss 1.5971\n",
            "Epoch 1 Batch 500 Loss 1.6174\n",
            "Epoch 1 Batch 600 Loss 1.4236\n",
            "Epoch 1 Batch 700 Loss 1.3068\n",
            "Epoch 1 Batch 800 Loss 1.1145\n",
            "Epoch 1 Batch 900 Loss 1.1227\n",
            "Epoch 1 Batch 1000 Loss 0.9590\n",
            "Epoch 1 Batch 1100 Loss 0.9253\n",
            "Epoch 1 Batch 1200 Loss 0.9291\n",
            "Epoch 1 Loss 1.4412\n",
            "Time taken for 1 epoch 116.45757341384888 sec\n",
            "\n",
            "Epoch 2 Batch 0 Loss 0.8106\n",
            "Epoch 2 Batch 100 Loss 0.6863\n",
            "Epoch 2 Batch 200 Loss 0.6686\n",
            "Epoch 2 Batch 300 Loss 0.6044\n",
            "Epoch 2 Batch 400 Loss 0.6134\n",
            "Epoch 2 Batch 500 Loss 0.6937\n",
            "Epoch 2 Batch 600 Loss 0.6139\n",
            "Epoch 2 Batch 700 Loss 0.5456\n",
            "Epoch 2 Batch 800 Loss 0.6131\n",
            "Epoch 2 Batch 900 Loss 0.4886\n",
            "Epoch 2 Batch 1000 Loss 0.4830\n",
            "Epoch 2 Batch 1100 Loss 0.5102\n",
            "Epoch 2 Batch 1200 Loss 0.4949\n",
            "Epoch 2 Loss 0.5983\n",
            "Time taken for 1 epoch 105.21171760559082 sec\n",
            "\n",
            "Epoch 3 Batch 0 Loss 0.3470\n",
            "Epoch 3 Batch 100 Loss 0.3039\n",
            "Epoch 3 Batch 200 Loss 0.3263\n",
            "Epoch 3 Batch 300 Loss 0.2433\n",
            "Epoch 3 Batch 400 Loss 0.2873\n",
            "Epoch 3 Batch 500 Loss 0.2809\n",
            "Epoch 3 Batch 600 Loss 0.3907\n",
            "Epoch 3 Batch 700 Loss 0.3305\n",
            "Epoch 3 Batch 800 Loss 0.2554\n",
            "Epoch 3 Batch 900 Loss 0.3557\n",
            "Epoch 3 Batch 1000 Loss 0.2641\n",
            "Epoch 3 Batch 1100 Loss 0.3485\n",
            "Epoch 3 Batch 1200 Loss 0.3162\n",
            "Epoch 3 Loss 0.3139\n",
            "Time taken for 1 epoch 104.27493405342102 sec\n",
            "\n",
            "Epoch 4 Batch 0 Loss 0.1710\n",
            "Epoch 4 Batch 100 Loss 0.2108\n",
            "Epoch 4 Batch 200 Loss 0.2178\n",
            "Epoch 4 Batch 300 Loss 0.2126\n",
            "Epoch 4 Batch 400 Loss 0.2161\n",
            "Epoch 4 Batch 500 Loss 0.1979\n",
            "Epoch 4 Batch 600 Loss 0.1924\n",
            "Epoch 4 Batch 700 Loss 0.2224\n",
            "Epoch 4 Batch 800 Loss 0.1388\n",
            "Epoch 4 Batch 900 Loss 0.2338\n",
            "Epoch 4 Batch 1000 Loss 0.1900\n",
            "Epoch 4 Batch 1100 Loss 0.1758\n",
            "Epoch 4 Batch 1200 Loss 0.1580\n",
            "Epoch 4 Loss 0.1963\n",
            "Time taken for 1 epoch 104.91147518157959 sec\n",
            "\n",
            "Epoch 5 Batch 0 Loss 0.1065\n",
            "Epoch 5 Batch 100 Loss 0.1529\n",
            "Epoch 5 Batch 200 Loss 0.1092\n",
            "Epoch 5 Batch 300 Loss 0.1317\n",
            "Epoch 5 Batch 400 Loss 0.1410\n",
            "Epoch 5 Batch 500 Loss 0.1151\n",
            "Epoch 5 Batch 600 Loss 0.1586\n",
            "Epoch 5 Batch 700 Loss 0.1174\n",
            "Epoch 5 Batch 800 Loss 0.1383\n",
            "Epoch 5 Batch 900 Loss 0.1526\n",
            "Epoch 5 Batch 1000 Loss 0.1645\n",
            "Epoch 5 Batch 1100 Loss 0.1662\n",
            "Epoch 5 Batch 1200 Loss 0.1100\n",
            "Epoch 5 Loss 0.1405\n",
            "Time taken for 1 epoch 104.32718753814697 sec\n",
            "\n",
            "Epoch 6 Batch 0 Loss 0.0749\n",
            "Epoch 6 Batch 100 Loss 0.0858\n",
            "Epoch 6 Batch 200 Loss 0.1182\n",
            "Epoch 6 Batch 300 Loss 0.0701\n",
            "Epoch 6 Batch 400 Loss 0.0777\n",
            "Epoch 6 Batch 500 Loss 0.0747\n",
            "Epoch 6 Batch 600 Loss 0.1006\n",
            "Epoch 6 Batch 700 Loss 0.1082\n",
            "Epoch 6 Batch 800 Loss 0.1361\n",
            "Epoch 6 Batch 900 Loss 0.1346\n",
            "Epoch 6 Batch 1000 Loss 0.1258\n",
            "Epoch 6 Batch 1100 Loss 0.1352\n",
            "Epoch 6 Batch 1200 Loss 0.1426\n",
            "Epoch 6 Loss 0.1129\n",
            "Time taken for 1 epoch 105.26572442054749 sec\n",
            "\n",
            "Epoch 7 Batch 0 Loss 0.1121\n",
            "Epoch 7 Batch 100 Loss 0.0809\n",
            "Epoch 7 Batch 200 Loss 0.1129\n",
            "Epoch 7 Batch 300 Loss 0.0947\n",
            "Epoch 7 Batch 400 Loss 0.0978\n",
            "Epoch 7 Batch 500 Loss 0.0891\n",
            "Epoch 7 Batch 600 Loss 0.1350\n",
            "Epoch 7 Batch 700 Loss 0.1213\n",
            "Epoch 7 Batch 800 Loss 0.1027\n",
            "Epoch 7 Batch 900 Loss 0.1004\n",
            "Epoch 7 Batch 1000 Loss 0.1501\n",
            "Epoch 7 Batch 1100 Loss 0.0838\n",
            "Epoch 7 Batch 1200 Loss 0.0989\n",
            "Epoch 7 Loss 0.0982\n",
            "Time taken for 1 epoch 104.3091070652008 sec\n",
            "\n",
            "Epoch 8 Batch 0 Loss 0.0973\n",
            "Epoch 8 Batch 100 Loss 0.0564\n",
            "Epoch 8 Batch 200 Loss 0.0784\n",
            "Epoch 8 Batch 300 Loss 0.0718\n",
            "Epoch 8 Batch 400 Loss 0.0559\n",
            "Epoch 8 Batch 500 Loss 0.0808\n",
            "Epoch 8 Batch 600 Loss 0.0677\n",
            "Epoch 8 Batch 700 Loss 0.1129\n",
            "Epoch 8 Batch 800 Loss 0.1063\n",
            "Epoch 8 Batch 900 Loss 0.1023\n",
            "Epoch 8 Batch 1000 Loss 0.1424\n",
            "Epoch 8 Batch 1100 Loss 0.0970\n",
            "Epoch 8 Batch 1200 Loss 0.1104\n",
            "Epoch 8 Loss 0.0879\n",
            "Time taken for 1 epoch 105.12729334831238 sec\n",
            "\n",
            "Epoch 9 Batch 0 Loss 0.0303\n",
            "Epoch 9 Batch 100 Loss 0.0751\n",
            "Epoch 9 Batch 200 Loss 0.0883\n",
            "Epoch 9 Batch 300 Loss 0.0648\n",
            "Epoch 9 Batch 400 Loss 0.0659\n",
            "Epoch 9 Batch 500 Loss 0.0903\n",
            "Epoch 9 Batch 600 Loss 0.0701\n",
            "Epoch 9 Batch 700 Loss 0.0888\n",
            "Epoch 9 Batch 800 Loss 0.0959\n",
            "Epoch 9 Batch 900 Loss 0.0729\n",
            "Epoch 9 Batch 1000 Loss 0.0656\n",
            "Epoch 9 Batch 1100 Loss 0.0991\n",
            "Epoch 9 Batch 1200 Loss 0.1040\n",
            "Epoch 9 Loss 0.0804\n",
            "Time taken for 1 epoch 104.37172365188599 sec\n",
            "\n",
            "Epoch 10 Batch 0 Loss 0.0654\n",
            "Epoch 10 Batch 100 Loss 0.0716\n",
            "Epoch 10 Batch 200 Loss 0.0447\n",
            "Epoch 10 Batch 300 Loss 0.0501\n",
            "Epoch 10 Batch 400 Loss 0.0538\n",
            "Epoch 10 Batch 500 Loss 0.0622\n",
            "Epoch 10 Batch 600 Loss 0.0892\n",
            "Epoch 10 Batch 700 Loss 0.0814\n",
            "Epoch 10 Batch 800 Loss 0.0693\n",
            "Epoch 10 Batch 900 Loss 0.0798\n",
            "Epoch 10 Batch 1000 Loss 0.1146\n",
            "Epoch 10 Batch 1100 Loss 0.0853\n",
            "Epoch 10 Batch 1200 Loss 0.0834\n",
            "Epoch 10 Loss 0.0756\n",
            "Time taken for 1 epoch 105.2137131690979 sec\n",
            "\n",
            "Epoch 11 Batch 0 Loss 0.0509\n",
            "Epoch 11 Batch 100 Loss 0.0696\n",
            "Epoch 11 Batch 200 Loss 0.0709\n",
            "Epoch 11 Batch 300 Loss 0.0740\n",
            "Epoch 11 Batch 400 Loss 0.0490\n",
            "Epoch 11 Batch 500 Loss 0.0781\n",
            "Epoch 11 Batch 600 Loss 0.0939\n",
            "Epoch 11 Batch 700 Loss 0.0716\n",
            "Epoch 11 Batch 800 Loss 0.0535\n",
            "Epoch 11 Batch 900 Loss 0.0756\n",
            "Epoch 11 Batch 1000 Loss 0.0776\n",
            "Epoch 11 Batch 1100 Loss 0.1007\n",
            "Epoch 11 Batch 1200 Loss 0.1064\n",
            "Epoch 11 Loss 0.0720\n",
            "Time taken for 1 epoch 104.200608253479 sec\n",
            "\n",
            "Epoch 12 Batch 0 Loss 0.0475\n",
            "Epoch 12 Batch 100 Loss 0.0758\n",
            "Epoch 12 Batch 200 Loss 0.0443\n",
            "Epoch 12 Batch 300 Loss 0.0802\n",
            "Epoch 12 Batch 400 Loss 0.0446\n",
            "Epoch 12 Batch 500 Loss 0.0431\n",
            "Epoch 12 Batch 600 Loss 0.0533\n",
            "Epoch 12 Batch 700 Loss 0.0948\n",
            "Epoch 12 Batch 800 Loss 0.1020\n",
            "Epoch 12 Batch 900 Loss 0.0590\n",
            "Epoch 12 Batch 1000 Loss 0.0722\n",
            "Epoch 12 Batch 1100 Loss 0.0875\n",
            "Epoch 12 Batch 1200 Loss 0.0703\n",
            "Epoch 12 Loss 0.0680\n",
            "Time taken for 1 epoch 105.14009547233582 sec\n",
            "\n",
            "Epoch 13 Batch 0 Loss 0.0553\n",
            "Epoch 13 Batch 100 Loss 0.0487\n",
            "Epoch 13 Batch 200 Loss 0.0451\n",
            "Epoch 13 Batch 300 Loss 0.0455\n",
            "Epoch 13 Batch 400 Loss 0.0613\n",
            "Epoch 13 Batch 500 Loss 0.0759\n",
            "Epoch 13 Batch 600 Loss 0.0939\n",
            "Epoch 13 Batch 700 Loss 0.0482\n",
            "Epoch 13 Batch 800 Loss 0.0844\n",
            "Epoch 13 Batch 900 Loss 0.0708\n",
            "Epoch 13 Batch 1000 Loss 0.0449\n",
            "Epoch 13 Batch 1100 Loss 0.0675\n",
            "Epoch 13 Batch 1200 Loss 0.0710\n",
            "Epoch 13 Loss 0.0664\n",
            "Time taken for 1 epoch 104.09239840507507 sec\n",
            "\n",
            "Epoch 14 Batch 0 Loss 0.0865\n",
            "Epoch 14 Batch 100 Loss 0.0576\n",
            "Epoch 14 Batch 200 Loss 0.0253\n",
            "Epoch 14 Batch 300 Loss 0.0714\n",
            "Epoch 14 Batch 400 Loss 0.0696\n",
            "Epoch 14 Batch 500 Loss 0.0401\n",
            "Epoch 14 Batch 600 Loss 0.0831\n",
            "Epoch 14 Batch 700 Loss 0.0617\n",
            "Epoch 14 Batch 800 Loss 0.0625\n",
            "Epoch 14 Batch 900 Loss 0.0897\n",
            "Epoch 14 Batch 1000 Loss 0.0761\n",
            "Epoch 14 Batch 1100 Loss 0.0747\n",
            "Epoch 14 Batch 1200 Loss 0.0714\n",
            "Epoch 14 Loss 0.0640\n",
            "Time taken for 1 epoch 105.19565415382385 sec\n",
            "\n",
            "Epoch 15 Batch 0 Loss 0.0504\n",
            "Epoch 15 Batch 100 Loss 0.0591\n",
            "Epoch 15 Batch 200 Loss 0.0696\n",
            "Epoch 15 Batch 300 Loss 0.0585\n",
            "Epoch 15 Batch 400 Loss 0.0964\n",
            "Epoch 15 Batch 500 Loss 0.0695\n",
            "Epoch 15 Batch 600 Loss 0.0772\n",
            "Epoch 15 Batch 700 Loss 0.0646\n",
            "Epoch 15 Batch 800 Loss 0.0796\n",
            "Epoch 15 Batch 900 Loss 0.0436\n",
            "Epoch 15 Batch 1000 Loss 0.0802\n",
            "Epoch 15 Batch 1100 Loss 0.0661\n",
            "Epoch 15 Batch 1200 Loss 0.0670\n",
            "Epoch 15 Loss 0.0621\n",
            "Time taken for 1 epoch 104.13088297843933 sec\n",
            "\n",
            "Epoch 16 Batch 0 Loss 0.0537\n",
            "Epoch 16 Batch 100 Loss 0.0641\n",
            "Epoch 16 Batch 200 Loss 0.0417\n",
            "Epoch 16 Batch 300 Loss 0.0679\n",
            "Epoch 16 Batch 400 Loss 0.0734\n",
            "Epoch 16 Batch 500 Loss 0.0526\n",
            "Epoch 16 Batch 600 Loss 0.0396\n",
            "Epoch 16 Batch 700 Loss 0.0776\n",
            "Epoch 16 Batch 800 Loss 0.0476\n",
            "Epoch 16 Batch 900 Loss 0.0529\n",
            "Epoch 16 Batch 1000 Loss 0.0826\n",
            "Epoch 16 Batch 1100 Loss 0.0585\n",
            "Epoch 16 Batch 1200 Loss 0.0742\n",
            "Epoch 16 Loss 0.0592\n",
            "Time taken for 1 epoch 105.25292921066284 sec\n",
            "\n",
            "Epoch 17 Batch 0 Loss 0.0283\n",
            "Epoch 17 Batch 100 Loss 0.0437\n",
            "Epoch 17 Batch 200 Loss 0.0372\n",
            "Epoch 17 Batch 300 Loss 0.0271\n",
            "Epoch 17 Batch 400 Loss 0.0454\n",
            "Epoch 17 Batch 500 Loss 0.0598\n",
            "Epoch 17 Batch 600 Loss 0.0446\n",
            "Epoch 17 Batch 700 Loss 0.0939\n",
            "Epoch 17 Batch 800 Loss 0.0322\n",
            "Epoch 17 Batch 900 Loss 0.0697\n",
            "Epoch 17 Batch 1000 Loss 0.0536\n",
            "Epoch 17 Batch 1100 Loss 0.0605\n",
            "Epoch 17 Batch 1200 Loss 0.0650\n",
            "Epoch 17 Loss 0.0585\n",
            "Time taken for 1 epoch 104.22421145439148 sec\n",
            "\n",
            "Epoch 18 Batch 0 Loss 0.0447\n",
            "Epoch 18 Batch 100 Loss 0.0450\n",
            "Epoch 18 Batch 200 Loss 0.0288\n",
            "Epoch 18 Batch 300 Loss 0.0446\n",
            "Epoch 18 Batch 400 Loss 0.0354\n",
            "Epoch 18 Batch 500 Loss 0.0902\n",
            "Epoch 18 Batch 600 Loss 0.0567\n",
            "Epoch 18 Batch 700 Loss 0.0616\n",
            "Epoch 18 Batch 800 Loss 0.0514\n",
            "Epoch 18 Batch 900 Loss 0.0714\n",
            "Epoch 18 Batch 1000 Loss 0.0432\n",
            "Epoch 18 Batch 1100 Loss 0.0581\n",
            "Epoch 18 Batch 1200 Loss 0.0998\n",
            "Epoch 18 Loss 0.0563\n",
            "Time taken for 1 epoch 105.16331005096436 sec\n",
            "\n",
            "Epoch 19 Batch 0 Loss 0.0357\n",
            "Epoch 19 Batch 100 Loss 0.0663\n",
            "Epoch 19 Batch 200 Loss 0.0449\n",
            "Epoch 19 Batch 300 Loss 0.0257\n",
            "Epoch 19 Batch 400 Loss 0.0809\n",
            "Epoch 19 Batch 500 Loss 0.0737\n",
            "Epoch 19 Batch 600 Loss 0.0772\n",
            "Epoch 19 Batch 700 Loss 0.0553\n",
            "Epoch 19 Batch 800 Loss 0.0566\n",
            "Epoch 19 Batch 900 Loss 0.0492\n",
            "Epoch 19 Batch 1000 Loss 0.0285\n",
            "Epoch 19 Batch 1100 Loss 0.0497\n",
            "Epoch 19 Batch 1200 Loss 0.0464\n",
            "Epoch 19 Loss 0.0555\n",
            "Time taken for 1 epoch 104.25117444992065 sec\n",
            "\n",
            "Epoch 20 Batch 0 Loss 0.0467\n",
            "Epoch 20 Batch 100 Loss 0.0621\n",
            "Epoch 20 Batch 200 Loss 0.0456\n",
            "Epoch 20 Batch 300 Loss 0.0421\n",
            "Epoch 20 Batch 400 Loss 0.0601\n",
            "Epoch 20 Batch 500 Loss 0.0561\n",
            "Epoch 20 Batch 600 Loss 0.0841\n",
            "Epoch 20 Batch 700 Loss 0.0467\n",
            "Epoch 20 Batch 800 Loss 0.0583\n",
            "Epoch 20 Batch 900 Loss 0.0546\n",
            "Epoch 20 Batch 1000 Loss 0.0633\n",
            "Epoch 20 Batch 1100 Loss 0.0596\n",
            "Epoch 20 Batch 1200 Loss 0.0586\n",
            "Epoch 20 Loss 0.0546\n",
            "Time taken for 1 epoch 105.23632955551147 sec\n",
            "\n"
          ]
        }
      ]
    },
    {
      "cell_type": "markdown",
      "source": [
        "### Translate"
      ],
      "metadata": {
        "id": "08--pfJh4J2W"
      }
    },
    {
      "cell_type": "code",
      "source": [
        "def evaluate(sentence):\n",
        "  attention_plot = np.zeros((max_length_targ, max_length_inp))\n",
        "\n",
        "  sentence = preprocess_sentence(sentence)\n",
        "\n",
        "  inputs = [inp_lang.word_index[i] for i in sentence.split(' ')]\n",
        "  inputs = tf.keras.preprocessing.sequence.pad_sequences([inputs],\n",
        "                                                         maxlen=max_length_inp,\n",
        "                                                         padding='post')\n",
        "  inputs = tf.convert_to_tensor(inputs)\n",
        "\n",
        "  result = ''\n",
        "\n",
        "  hidden = [tf.zeros((1, units))]\n",
        "  enc_out, enc_hidden = encoder(inputs, hidden)\n",
        "\n",
        "  dec_hidden = enc_hidden\n",
        "  dec_input = tf.expand_dims([targ_lang.word_index['<start>']], 0)\n",
        "\n",
        "  for t in range(max_length_targ):\n",
        "    predictions, dec_hidden, attention_weights = decoder(dec_input,\n",
        "                                                         dec_hidden,\n",
        "                                                         enc_out)\n",
        "\n",
        "    # storing the attention weights to plot later on\n",
        "    attention_weights = tf.reshape(attention_weights, (-1, ))\n",
        "    attention_plot[t] = attention_weights.numpy()\n",
        "\n",
        "    predicted_id = tf.argmax(predictions[0]).numpy()\n",
        "\n",
        "    result += targ_lang.index_word[predicted_id] + ' '\n",
        "\n",
        "    if targ_lang.index_word[predicted_id] == '<end>':\n",
        "      return result, sentence, attention_plot\n",
        "\n",
        "    # the predicted ID is fed back into the model\n",
        "    dec_input = tf.expand_dims([predicted_id], 0)\n",
        "\n",
        "  return result, sentence, attention_plot"
      ],
      "metadata": {
        "id": "ez_bUAu84K1z"
      },
      "execution_count": 51,
      "outputs": []
    },
    {
      "cell_type": "code",
      "source": [
        "# function for plotting the attention weights\n",
        "def plot_attention(attention, sentence, predicted_sentence):\n",
        "  fig = plt.figure(figsize=(10,10))\n",
        "  ax = fig.add_subplot(1, 1, 1)\n",
        "  ax.matshow(attention, cmap='viridis')\n",
        "\n",
        "  fontdict = {'fontsize': 14}\n",
        "\n",
        "  ax.set_xticklabels([''] + sentence, fontdict=fontdict, rotation=90)\n",
        "  ax.set_yticklabels([''] + predicted_sentence, fontdict=fontdict)\n",
        "\n",
        "  ax.xaxis.set_major_locator(ticker.MultipleLocator(1))\n",
        "  ax.yaxis.set_major_locator(ticker.MultipleLocator(1))\n",
        "\n",
        "  plt.show()"
      ],
      "metadata": {
        "id": "k8j0Zb0K4Pbk"
      },
      "execution_count": 52,
      "outputs": []
    },
    {
      "cell_type": "code",
      "source": [
        "def translate(sentence):\n",
        "  result, sentence, attention_plot = evaluate(sentence)\n",
        "\n",
        "  print('Input: %s' % (sentence))\n",
        "  print('Predicted translation: {}'.format(result))\n",
        "\n",
        "  attention_plot = attention_plot[:len(result.split(' ')), :len(sentence.split(' '))]\n",
        "  plot_attention(attention_plot, sentence.split(' '), result.split(' '))"
      ],
      "metadata": {
        "id": "Ikrbq3_c4SE1"
      },
      "execution_count": 53,
      "outputs": []
    },
    {
      "cell_type": "markdown",
      "source": [
        "### Restore the latest checkpoint and test"
      ],
      "metadata": {
        "id": "O3BAVkj34Y1t"
      }
    },
    {
      "cell_type": "code",
      "source": [
        "# restoring the latest checkpoint in checkpoint_dir\n",
        "checkpoint.restore(tf.train.latest_checkpoint(checkpoint_dir))"
      ],
      "metadata": {
        "id": "zScGbouj4Z4n",
        "colab": {
          "base_uri": "https://localhost:8080/"
        },
        "outputId": "1d40af38-1730-4daa-d366-e704e05fd96f"
      },
      "execution_count": 54,
      "outputs": [
        {
          "output_type": "execute_result",
          "data": {
            "text/plain": [
              "<tensorflow.python.training.tracking.util.CheckpointLoadStatus at 0x7efd3796afa0>"
            ]
          },
          "metadata": {},
          "execution_count": 54
        }
      ]
    },
    {
      "cell_type": "code",
      "source": [
        "translate('Здесь хорошо.')"
      ],
      "metadata": {
        "id": "c8EpkMAu4cyU",
        "colab": {
          "base_uri": "https://localhost:8080/",
          "height": 679
        },
        "outputId": "eb3d45f3-d56c-4b7d-8e6e-61282b63c591"
      },
      "execution_count": 55,
      "outputs": [
        {
          "output_type": "stream",
          "name": "stdout",
          "text": [
            "Input: <start> здесь хорошо . <end>\n",
            "Predicted translation: it's good here . <end> \n"
          ]
        },
        {
          "output_type": "display_data",
          "data": {
            "text/plain": [
              "<Figure size 720x720 with 1 Axes>"
            ],
            "image/png": "[encoded data removed]"
          },
          "metadata": {
            "needs_background": "light"
          }
        }
      ]
    },
    {
      "cell_type": "code",
      "source": [
        "translate(u'Попробуй сделать это.')"
      ],
      "metadata": {
        "id": "xXBQgdpR4equ",
        "colab": {
          "base_uri": "https://localhost:8080/",
          "height": 693
        },
        "outputId": "70cb55b5-4820-4524-9f11-2ffeb6b33fe3"
      },
      "execution_count": 56,
      "outputs": [
        {
          "output_type": "stream",
          "name": "stdout",
          "text": [
            "Input: <start> попробуй сделать это . <end>\n",
            "Predicted translation: try to do it . <end> \n"
          ]
        },
        {
          "output_type": "display_data",
          "data": {
            "text/plain": [
              "<Figure size 720x720 with 1 Axes>"
            ],
            "image/png": "[encoded data removed]"
          },
          "metadata": {
            "needs_background": "light"
          }
        }
      ]
    },
    {
      "cell_type": "code",
      "source": [
        "\n",
        "translate(u'сможет ли модель правильно перевести длинное предложение которое я написал?')"
      ],
      "metadata": {
        "id": "b628wT224kHO",
        "colab": {
          "base_uri": "https://localhost:8080/",
          "height": 525
        },
        "outputId": "a3c18d3f-65ac-417c-fc13-2dd0ef4a41b3"
      },
      "execution_count": 65,
      "outputs": [
        {
          "output_type": "stream",
          "name": "stdout",
          "text": [
            "Input: <start> сможет ли модель правильно перевести длинное предложение которое я написал ? <end>\n",
            "Predicted translation: he is a nice high . <end> \n"
          ]
        },
        {
          "output_type": "display_data",
          "data": {
            "text/plain": [
              "<Figure size 720x720 with 1 Axes>"
            ],
            "image/png": "[encoded data removed]"
          },
          "metadata": {
            "needs_background": "light"
          }
        }
      ]
    },
    {
      "cell_type": "code",
      "source": [],
      "metadata": {
        "id": "wlezxKTN4q0Y"
      },
      "execution_count": null,
      "outputs": []
    }
  ]
}